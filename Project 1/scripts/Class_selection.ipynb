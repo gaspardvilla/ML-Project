{
 "cells": [
  {
   "cell_type": "code",
   "execution_count": null,
   "metadata": {
    "tags": []
   },
   "outputs": [],
   "source": [
    "# Useful starting lines\n",
    "%matplotlib inline\n",
    "import numpy as np\n",
    "import matplotlib.pyplot as plt\n",
    "from proj1_helpers import *\n",
    "from implementations import *\n",
    "from losses import *\n",
    "from plots import *\n",
    "from EDA import *\n",
    "from cross_validation import *\n",
    "%load_ext autoreload\n",
    "%autoreload 2"
   ]
  },
  {
   "cell_type": "markdown",
   "metadata": {},
   "source": [
    "## Load the training data into feature matrix, class labels, and event ids:"
   ]
  },
  {
   "cell_type": "code",
   "execution_count": null,
   "metadata": {
    "collapsed": false,
    "jupyter": {
     "outputs_hidden": false
    }
   },
   "outputs": [],
   "source": [
    "DATA_TRAIN_PATH = \"../data/train.csv\"\n",
    "data_y, data_set, ids = load_csv_data(DATA_TRAIN_PATH, sub_sample=True)"
   ]
  },
  {
   "cell_type": "code",
   "execution_count": null,
   "metadata": {},
   "outputs": [],
   "source": [
    "# Fixing the seed\n",
    "seed = 8"
   ]
  },
  {
   "cell_type": "markdown",
   "metadata": {},
   "source": [
    "### Split and classify data"
   ]
  },
  {
   "cell_type": "code",
   "execution_count": null,
   "metadata": {},
   "outputs": [],
   "source": [
    "# Classification of the output\n",
    "y_0, y_1, y_2, y_3 = y_classification(data_y, data_set)"
   ]
  },
  {
   "cell_type": "code",
   "execution_count": null,
   "metadata": {},
   "outputs": [],
   "source": [
    "#EDA for each class\n",
    "class_0, class_1, class_2, class_3 = EDA_class(data_set)"
   ]
  },
  {
   "cell_type": "code",
   "execution_count": null,
   "metadata": {},
   "outputs": [],
   "source": [
    "max_degree = 6"
   ]
  },
  {
   "cell_type": "markdown",
   "metadata": {},
   "source": [
    "# Class 0\n",
    "\n",
    "#### Logistic regression\n",
    "\n",
    "***"
   ]
  },
  {
   "cell_type": "code",
   "execution_count": null,
   "metadata": {},
   "outputs": [],
   "source": [
    "# Setting parameters\n",
    "param_least_0 = Parameters()\n",
    "param_least_0.set_degree(max_degree)\n",
    "param_least_0.set_method(least_squares)\n",
    "param_least_0.set_viz(False)\n",
    "param_least_0.set_use_backward_selection(False)\n",
    "param_least_0.set_use_interactions(True)\n",
    "# Cross validation\n",
    "param_least_0 = cross_validation_poly_gas(y_0, class_0, param_least_0)\n",
    "\n",
    "print(param_least_0.feature_list)\n",
    "print(param_least_0.polynomial_selection)\n",
    "print(param_least_0.best_error)\n",
    "print(param_least_0.kept_interactions)"
   ]
  },
  {
   "cell_type": "markdown",
   "metadata": {},
   "source": [
    "#### Gradient descent\n",
    "\n",
    "***"
   ]
  },
  {
   "cell_type": "code",
   "execution_count": null,
   "metadata": {},
   "outputs": [],
   "source": [
    "# Setting parameters\n",
    "param_GD_0 = Parameters()\n",
    "param_GD_0.set_degree(max_degree)\n",
    "param_GD_0.set_method(least_squares_GD)\n",
    "param_GD_0.set_to_test(['gamma'])\n",
    "param_GD_0.set_viz(False)\n",
    "param_GD_0.set_use_backward_selection(False)\n",
    "param_GD_0.set_use_interactions(True)\n",
    "# Cross validation\n",
    "param_GD_0 = cross_validation_poly_gas(y_0, class_0, param_GD_0)\n",
    "\n",
    "print(param_GD_0.feature_list)\n",
    "print(param_GD_0.polynomial_selection)\n",
    "print(param_GD_0.best_error)\n",
    "print(param_GD_0.kept_interactions)"
   ]
  },
  {
   "cell_type": "markdown",
   "metadata": {},
   "source": [
    "#### Stochastic Gradient Descent\n",
    "\n",
    "***"
   ]
  },
  {
   "cell_type": "code",
   "execution_count": null,
   "metadata": {},
   "outputs": [],
   "source": [
    "# Setting parameters\n",
    "param_SGD_0 = Parameters()\n",
    "param_SGD_0.set_degree(max_degree)\n",
    "param_SGD_0.set_method(least_squares_SGD)\n",
    "param_SGD_0.set_to_test(['gamma'])\n",
    "param_SGD_0.set_viz(False)\n",
    "param_SGD_0.set_use_backward_selection(False)\n",
    "param_SGD_0.set_use_interactions(True)\n",
    "# Cross validation\n",
    "param_SGD_0 = cross_validation_poly_gas(y_0, class_0, param_SGD_0)\n",
    "\n",
    "print(param_SGD_0.feature_list)\n",
    "print(param_SGD_0.polynomial_selection)\n",
    "print(param_SGD_0.best_error)\n",
    "print(param_SGD_0.kept_interactions)"
   ]
  },
  {
   "cell_type": "markdown",
   "metadata": {},
   "source": [
    "#### Ridge Regression\n",
    "\n",
    "***"
   ]
  },
  {
   "cell_type": "code",
   "execution_count": null,
   "metadata": {},
   "outputs": [],
   "source": [
    "# Setting parameters\n",
    "param_ridge_0 = Parameters()\n",
    "param_ridge_0.set_degree(max_degree)\n",
    "param_ridge_0.set_method(ridge_regression)\n",
    "param_ridge_0.set_to_test(['lambda'])\n",
    "param_ridge_0.set_viz(False)\n",
    "param_ridge_0.set_use_backward_selection(False)\n",
    "param_ridge_0.set_use_interactions(True)\n",
    "# Cross validation\n",
    "param_ridge_0 = cross_validation_poly_gas(y_0, class_0, param_ridge_0)\n",
    "\n",
    "print(param_ridge_0.feature_list)\n",
    "print(param_ridge_0.polynomial_selection)\n",
    "print(param_ridge_0.best_error)\n",
    "print(param_ridge_0.kept_interactions)"
   ]
  },
  {
   "cell_type": "markdown",
   "metadata": {},
   "source": [
    "#### Logistic regression\n",
    "\n",
    "***"
   ]
  },
  {
   "cell_type": "code",
   "execution_count": null,
   "metadata": {},
   "outputs": [],
   "source": [
    "# Setting parameters\n",
    "neg_log = Neg_log()\n",
    "param_log_0 = Parameters()\n",
    "param_log_0.set_degree(max_degree)\n",
    "param_log_0.set_method(logistic_regression)\n",
    "param_log_0.set_loss_fct(neg_log)\n",
    "param_log_0.set_to_test(['gamma'])\n",
    "param_log_0.set_viz(False)\n",
    "param_log_0.set_use_backward_selection(False)\n",
    "param_log_0.set_use_interactions(True)\n",
    "# Cross validation\n",
    "param_log_0 = cross_validation_poly_gas(y_0, class_0, param_log_0)\n",
    "\n",
    "print(param_log_0.feature_list)\n",
    "print(param_log_0.polynomial_selection)\n",
    "print(param_log_0.best_error)\n",
    "print(param_log_0.kept_interactions)"
   ]
  },
  {
   "cell_type": "markdown",
   "metadata": {},
   "source": [
    "#### Reguralized Logistic regression\n",
    "\n",
    "***"
   ]
  },
  {
   "cell_type": "code",
   "execution_count": null,
   "metadata": {},
   "outputs": [],
   "source": [
    "# Setting parameters\n",
    "neg_log = Neg_log()\n",
    "param_reg_0 = Parameters()\n",
    "param_reg_0.set_degree(max_degree)\n",
    "param_reg_0.set_method(reg_logistic_regression)\n",
    "param_reg_0.set_loss_fct(neg_log)\n",
    "param_reg_0.set_to_test(['gamma', 'lambda'])\n",
    "param_reg_0.set_viz(False)\n",
    "param_reg_0.set_use_backward_selection(False)\n",
    "param_reg_0.set_use_interactions(True)\n",
    "# Cross validation\n",
    "param_reg_0 = cross_validation_poly_gas(y_0, class_0, param_reg_0)\n",
    "\n",
    "print(param_reg_0.feature_list)\n",
    "print(param_reg_0.polynomial_selection)\n",
    "print(param_reg_0.best_error)\n",
    "print(param_reg_0.kept_interactions)"
   ]
  },
  {
   "cell_type": "markdown",
   "metadata": {},
   "source": [
    "# Class 1\n",
    "\n",
    "***"
   ]
  },
  {
   "cell_type": "code",
   "execution_count": null,
   "metadata": {},
   "outputs": [],
   "source": [
    "# Setting parameters\n",
    "param_least_1 = Parameters()\n",
    "param_least_1.set_degree(max_degree)\n",
    "param_least_1.set_method(least_squares)\n",
    "param_least_1.set_viz(False)\n",
    "param_least_1.set_use_backward_selection(False)\n",
    "param_least_1.set_use_interactions(True)\n",
    "# Cross validation\n",
    "param_least_1 = cross_validation_poly_gas(y_1, class_1, param_least_1)\n",
    "\n",
    "print(param_least_1.feature_list)\n",
    "print(param_least_1.polynomial_selection)\n",
    "print(param_least_1.best_error)\n",
    "print(param_least_1.kept_interactions)"
   ]
  },
  {
   "cell_type": "code",
   "execution_count": null,
   "metadata": {},
   "outputs": [],
   "source": [
    "# Setting parameters\n",
    "param_GD_1 = Parameters()\n",
    "param_GD_1.set_degree(max_degree)\n",
    "param_GD_1.set_method(least_squares_GD)\n",
    "param_GD_1.set_to_test(['gamma'])\n",
    "param_GD_1.set_viz(False)\n",
    "param_GD_1.set_use_backward_selection(False)\n",
    "param_GD_1.set_use_interactions(True)\n",
    "# Cross validation\n",
    "param_GD_1 = cross_validation_poly_gas(y_1, class_1, param_GD_1)\n",
    "\n",
    "print(param_GD_1.feature_list)\n",
    "print(param_GD_1.polynomial_selection)\n",
    "print(param_GD_1.best_error)\n",
    "print(param_GD_1.kept_interactions)"
   ]
  },
  {
   "cell_type": "code",
   "execution_count": null,
   "metadata": {},
   "outputs": [],
   "source": [
    "# Setting parameters\n",
    "param_SGD_1 = Parameters()\n",
    "param_SGD_1.set_degree(max_degree)\n",
    "param_SGD_1.set_method(least_squares_SGD)\n",
    "param_SGD_1.set_to_test(['gamma'])\n",
    "param_SGD_1.set_viz(False)\n",
    "param_SGD_1.set_use_backward_selection(False)\n",
    "param_SGD_1.set_use_interactions(True)\n",
    "# Cross validation\n",
    "param_SGD_1 = cross_validation_poly_gas(y_1, class_1, param_SGD_1)\n",
    "\n",
    "print(param_SGD_1.feature_list)\n",
    "print(param_SGD_1.polynomial_selection)\n",
    "print(param_SGD_1.best_error)\n",
    "print(param_SGD_1.kept_interactions)"
   ]
  },
  {
   "cell_type": "code",
   "execution_count": null,
   "metadata": {},
   "outputs": [],
   "source": [
    "# Setting parameters\n",
    "param_ridge_1 = Parameters()\n",
    "param_ridge_1.set_degree(max_degree)\n",
    "param_ridge_1.set_method(ridge_regression)\n",
    "param_ridge_1.set_to_test(['lambda'])\n",
    "param_ridge_1.set_viz(False)\n",
    "param_ridge_1.set_use_backward_selection(False)\n",
    "param_ridge_1.set_use_interactions(True)\n",
    "# Cross validation\n",
    "param_ridge_1 = cross_validation_poly_gas(y_1, class_1, param_ridge_1)\n",
    "\n",
    "print(param_ridge_1.feature_list)\n",
    "print(param_ridge_1.polynomial_selection)\n",
    "print(param_ridge_1.best_error)\n",
    "print(param_ridge_1.kept_interactions)"
   ]
  },
  {
   "cell_type": "code",
   "execution_count": null,
   "metadata": {},
   "outputs": [],
   "source": [
    "# Setting parameters\n",
    "neg_log = Neg_log()\n",
    "param_log_1 = Parameters()\n",
    "param_log_1.set_degree(max_degree)\n",
    "param_log_1.set_method(logistic_regression)\n",
    "param_log_1.set_loss_fct(neg_log)\n",
    "param_log_1.set_to_test(['gamma'])\n",
    "param_log_1.set_viz(False)\n",
    "param_log_1.set_use_backward_selection(False)\n",
    "param_log_1.set_use_interactions(True)\n",
    "# Cross validation\n",
    "param_log_1 = cross_validation_poly_gas(y_1, class_1, param_log_1)\n",
    "\n",
    "print(param_log_1.feature_list)\n",
    "print(param_log_1.polynomial_selection)\n",
    "print(param_log_1.best_error)\n",
    "print(param_log_1.kept_interactions)"
   ]
  },
  {
   "cell_type": "code",
   "execution_count": null,
   "metadata": {},
   "outputs": [],
   "source": [
    "# Setting parameters\n",
    "neg_log = Neg_log()\n",
    "param_reg_1 = Parameters()\n",
    "param_reg_1.set_degree(max_degree)\n",
    "param_reg_1.set_method(reg_logistic_regression)\n",
    "param_reg_1.set_loss_fct(neg_log)\n",
    "param_reg_1.set_to_test(['gamma', 'lambda'])\n",
    "param_reg_1.set_viz(False)\n",
    "param_reg_1.set_use_backward_selection(False)\n",
    "param_reg_1.set_use_interactions(True)\n",
    "# Cross validation\n",
    "param_reg_1 = cross_validation_poly_gas(y_1, class_1, param_reg_1)\n",
    "\n",
    "print(param_reg_1.feature_list)\n",
    "print(param_reg_1.polynomial_selection)\n",
    "print(param_reg_1.best_error)\n",
    "print(param_reg_1.kept_interactions)"
   ]
  },
  {
   "cell_type": "markdown",
   "metadata": {},
   "source": [
    "# Class 2\n",
    "\n",
    "***"
   ]
  },
  {
   "cell_type": "code",
   "execution_count": null,
   "metadata": {},
   "outputs": [],
   "source": [
    "print('LEAST SQUARES')\n",
    "\n",
    "# Setting parameters\n",
    "param_least_2 = Parameters()\n",
    "param_least_2.set_degree(max_degree)\n",
    "param_least_2.set_method(least_squares)\n",
    "param_least_2.set_viz(False)\n",
    "param_least_2.set_use_backward_selection(False)\n",
    "param_least_2.set_use_interactions(True)\n",
    "# Cross validation\n",
    "param_least_2 = cross_validation_poly_gas(y_2, class_2, param_least_2)\n",
    "\n",
    "print(param_least_2.feature_list)\n",
    "print(param_least_2.polynomial_selection)\n",
    "print(param_least_2.best_error)\n",
    "print(param_least_2.kept_interactions)\n",
    "\n",
    "print('GRADIENT DESCENT')\n",
    "\n",
    "# Setting parameters\n",
    "param_GD_2 = Parameters()\n",
    "param_GD_2.set_degree(max_degree)\n",
    "param_GD_2.set_method(least_squares_GD)\n",
    "param_GD_2.set_to_test(['gamma'])\n",
    "param_GD_2.set_viz(False)\n",
    "param_GD_2.set_use_backward_selection(False)\n",
    "param_GD_2.set_use_interactions(True)\n",
    "# Cross validation\n",
    "param_GD_2 = cross_validation_poly_gas(y_2, class_2, param_GD_2)\n",
    "\n",
    "print(param_GD_2.feature_list)\n",
    "print(param_GD_2.polynomial_selection)\n",
    "print(param_GD_2.best_error)\n",
    "print(param_GD_2.kept_interactions)\n",
    "\n",
    "print('STOCHASTIC GRADIENT DESCENT')\n",
    "\n",
    "# Setting parameters\n",
    "param_SGD_2 = Parameters()\n",
    "param_SGD_2.set_degree(max_degree)\n",
    "param_SGD_2.set_method(least_squares_SGD)\n",
    "param_SGD_2.set_to_test(['gamma'])\n",
    "param_SGD_2.set_viz(False)\n",
    "param_SGD_2.set_use_backward_selection(False)\n",
    "param_SGD_2.set_use_interactions(True)\n",
    "# Cross validation\n",
    "param_SGD_2 = cross_validation_poly_gas(y_2, class_2, param_SGD_2)\n",
    "\n",
    "print(param_SGD_2.feature_list)\n",
    "print(param_SGD_2.polynomial_selection)\n",
    "print(param_SGD_2.best_error)\n",
    "print(param_SGD_2.kept_interactions)\n",
    "\n",
    "print('RIDGE REGRESSION')\n",
    "\n",
    "# Setting parameters\n",
    "param_ridge_2 = Parameters()\n",
    "param_ridge_2.set_degree(max_degree)\n",
    "param_ridge_2.set_method(ridge_regression)\n",
    "param_ridge_2.set_to_test(['lambda'])\n",
    "param_ridge_2.set_viz(False)\n",
    "param_ridge_2.set_use_backward_selection(False)\n",
    "param_ridge_2.set_use_interactions(True)\n",
    "# Cross validation\n",
    "param_ridge_2 = cross_validation_poly_gas(y_2, class_2, param_ridge_2)\n",
    "\n",
    "print(param_ridge_2.feature_list)\n",
    "print(param_ridge_2.polynomial_selection)\n",
    "print(param_ridge_2.best_error)\n",
    "print(param_ridge_2.kept_interactions)\n",
    "\n",
    "print('LOGISTIC REGRESSION')\n",
    "\n",
    "# Setting parameters\n",
    "neg_log = Neg_log()\n",
    "param_log_2 = Parameters()\n",
    "param_log_2.set_degree(max_degree)\n",
    "param_log_2.set_method(logistic_regression)\n",
    "param_log_2.set_loss_fct(neg_log)\n",
    "param_log_2.set_to_test(['gamma'])\n",
    "param_log_2.set_viz(False)\n",
    "param_log_2.set_use_backward_selection(False)\n",
    "param_log_2.set_use_interactions(True)\n",
    "# Cross validation\n",
    "param_log_2 = cross_validation_poly_gas(y_2, class_2, param_log_2)\n",
    "\n",
    "print(param_log_2.feature_list)\n",
    "print(param_log_2.polynomial_selection)\n",
    "print(param_log_2.best_error)\n",
    "print(param_log_2.kept_interactions)\n",
    "\n",
    "print('REGURALIZED LOGISTIC REGRESSION')\n",
    "\n",
    "# Setting parameters\n",
    "neg_log = Neg_log()\n",
    "param_reg_2 = Parameters()\n",
    "param_reg_2.set_degree(max_degree)\n",
    "param_reg_2.set_method(reg_logistic_regression)\n",
    "param_reg_2.set_loss_fct(neg_log)\n",
    "param_reg_2.set_to_test(['gamma', 'lambda'])\n",
    "param_reg_2.set_viz(False)\n",
    "param_reg_2.set_use_backward_selection(False)\n",
    "param_reg_2.set_use_interactions(True)\n",
    "# Cross validation\n",
    "param_reg_2 = cross_validation_poly_gas(y_2, class_2, param_reg_2)\n",
    "\n",
    "print(param_reg_2.feature_list)\n",
    "print(param_reg_2.polynomial_selection)\n",
    "print(param_reg_2.best_error)\n",
    "print(param_reg_2.kept_interactions)"
   ]
  },
  {
   "cell_type": "markdown",
   "metadata": {},
   "source": [
    "# Class 3\n",
    "\n",
    "***"
   ]
  },
  {
   "cell_type": "code",
   "execution_count": null,
   "metadata": {},
   "outputs": [],
   "source": [
    "print('LEAST SQUARES')\n",
    "\n",
    "# Setting parameters\n",
    "param_least_3 = Parameters()\n",
    "param_least_3.set_degree(max_degree)\n",
    "param_least_3.set_method(least_squares)\n",
    "param_least_3.set_viz(False)\n",
    "param_least_3.set_use_backward_selection(False)\n",
    "param_least_3.set_use_interactions(True)\n",
    "# Cross validation\n",
    "param_least_3 = cross_validation_poly_gas(y_3, class_3, param_least_3)\n",
    "\n",
    "print(param_least_3.feature_list)\n",
    "print(param_least_3.polynomial_selection)\n",
    "print(param_least_3.best_error)\n",
    "print(param_least_3.kept_interactions)\n",
    "\n",
    "print('GRADIENT DESCENT')\n",
    "\n",
    "# Setting parameters\n",
    "param_GD_3 = Parameters()\n",
    "param_GD_3.set_degree(max_degree)\n",
    "param_GD_3.set_method(least_squares_GD)\n",
    "param_GD_3.set_to_test(['gamma'])\n",
    "param_GD_3.set_viz(False)\n",
    "param_GD_3.set_use_backward_selection(False)\n",
    "param_GD_3.set_use_interactions(True)\n",
    "# Cross validation\n",
    "param_GD_3 = cross_validation_poly_gas(y_3, class_3, param_GD_3)\n",
    "\n",
    "print(param_GD_3.feature_list)\n",
    "print(param_GD_3.polynomial_selection)\n",
    "print(param_GD_3.best_error)\n",
    "print(param_GD_3.kept_interactions)\n",
    "\n",
    "print('STOCHASTIC GRADIENT DESCENT')\n",
    "\n",
    "# Setting parameters\n",
    "param_SGD_3 = Parameters()\n",
    "param_SGD_3.set_degree(max_degree)\n",
    "param_SGD_3.set_method(least_squares_SGD)\n",
    "param_SGD_3.set_to_test(['gamma'])\n",
    "param_SGD_3.set_viz(False)\n",
    "param_SGD_3.set_use_backward_selection(False)\n",
    "param_SGD_3.set_use_interactions(True)\n",
    "# Cross validation\n",
    "param_SGD_3 = cross_validation_poly_gas(y_3, class_3, param_SGD_3)\n",
    "\n",
    "print(param_SGD_3.feature_list)\n",
    "print(param_SGD_3.polynomial_selection)\n",
    "print(param_SGD_3.best_error)\n",
    "print(param_SGD_3.kept_interactions)\n",
    "\n",
    "print('RIDGE REGRESSION')\n",
    "\n",
    "# Setting parameters\n",
    "param_ridge_3 = Parameters()\n",
    "param_ridge_3.set_degree(max_degree)\n",
    "param_ridge_3.set_method(ridge_regression)\n",
    "param_ridge_3.set_to_test(['lambda'])\n",
    "param_ridge_3.set_viz(False)\n",
    "param_ridge_3.set_use_backward_selection(False)\n",
    "param_ridge_3.set_use_interactions(True)\n",
    "# Cross validation\n",
    "param_ridge_3 = cross_validation_poly_gas(y_3, class_3, param_ridge_3)\n",
    "\n",
    "print(param_ridge_3.feature_list)\n",
    "print(param_ridge_3.polynomial_selection)\n",
    "print(param_ridge_3.best_error)\n",
    "print(param_ridge_3.kept_interactions)\n",
    "\n",
    "print('LOGISTIC REGRESSION')\n",
    "\n",
    "# Setting parameters\n",
    "neg_log = Neg_log()\n",
    "param_log_3 = Parameters()\n",
    "param_log_3.set_degree(max_degree)\n",
    "param_log_3.set_method(logistic_regression)\n",
    "param_log_3.set_loss_fct(neg_log)\n",
    "param_log_3.set_to_test(['gamma'])\n",
    "param_log_3.set_viz(False)\n",
    "param_log_3.set_use_backward_selection(False)\n",
    "param_log_3.set_use_interactions(True)\n",
    "# Cross validation\n",
    "param_log_3 = cross_validation_poly_gas(y_3, class_3, param_log_3)\n",
    "\n",
    "print(param_log_3.feature_list)\n",
    "print(param_log_3.polynomial_selection)\n",
    "print(param_log_3.best_error)\n",
    "print(param_log_3.kept_interactions)\n",
    "\n",
    "print('REGURALIZED LOGISTIC REGRESSION')\n",
    "\n",
    "# Setting parameters\n",
    "neg_log = Neg_log()\n",
    "param_reg_3 = Parameters()\n",
    "param_reg_3.set_degree(max_degree)\n",
    "param_reg_3.set_method(reg_logistic_regression)\n",
    "param_reg_3.set_loss_fct(neg_log)\n",
    "param_reg_3.set_to_test(['gamma', 'lambda'])\n",
    "param_reg_3.set_viz(False)\n",
    "param_reg_3.set_use_backward_selection(False)\n",
    "param_reg_3.set_use_interactions(True)\n",
    "# Cross validation\n",
    "param_reg_3 = cross_validation_poly_gas(y_3, class_3, param_reg_3)\n",
    "\n",
    "print(param_reg_3.feature_list)\n",
    "print(param_reg_3.polynomial_selection)\n",
    "print(param_reg_3.best_error)\n",
    "print(param_reg_3.kept_interactions)"
   ]
  }
 ],
 "metadata": {
  "anaconda-cloud": {},
  "interpreter": {
   "hash": "ab6a13f8d35690fc54a0784a7c413b5c6b88c02b498e2bc6bdd4734947920c66"
  },
  "kernelspec": {
   "display_name": "Python 3.8.8 64-bit ('base': conda)",
   "name": "python3"
  },
  "language_info": {
   "codemirror_mode": {
    "name": "ipython",
    "version": 3
   },
   "file_extension": ".py",
   "mimetype": "text/x-python",
   "name": "python",
   "nbconvert_exporter": "python",
   "pygments_lexer": "ipython3",
   "version": "3.8.8"
  }
 },
 "nbformat": 4,
 "nbformat_minor": 4
}
