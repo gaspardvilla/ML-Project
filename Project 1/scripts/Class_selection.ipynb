{
 "cells": [
  {
   "cell_type": "code",
   "execution_count": null,
   "metadata": {
    "tags": []
   },
   "outputs": [],
   "source": [
    "# Useful starting lines\n",
    "%matplotlib inline\n",
    "import numpy as np\n",
    "import matplotlib.pyplot as plt\n",
    "from proj1_helpers import *\n",
    "from implementations import *\n",
    "from losses import *\n",
    "from plots import *\n",
    "from EDA import *\n",
    "from cross_validation import *\n",
    "%load_ext autoreload\n",
    "%autoreload 2"
   ]
  },
  {
   "cell_type": "markdown",
   "metadata": {},
   "source": [
    "## Load the training data into feature matrix, class labels, and event ids:"
   ]
  },
  {
   "cell_type": "code",
   "execution_count": null,
   "metadata": {
    "collapsed": false,
    "jupyter": {
     "outputs_hidden": false
    }
   },
   "outputs": [],
   "source": [
    "DATA_TRAIN_PATH = \"../data/train.csv\"\n",
    "data_y, data_set, ids = load_csv_data(DATA_TRAIN_PATH, sub_sample=True)"
   ]
  },
  {
   "cell_type": "code",
   "execution_count": null,
   "metadata": {},
   "outputs": [],
   "source": [
    "# Fixing the seed\n",
    "seed = 8"
   ]
  },
  {
   "cell_type": "markdown",
   "metadata": {},
   "source": [
    "### Split and classify data"
   ]
  },
  {
   "cell_type": "code",
   "execution_count": null,
   "metadata": {},
   "outputs": [],
   "source": [
    "# Classification of the output\n",
    "y_0, y_1, y_2, y_3 = y_classification(data_y, data_set)"
   ]
  },
  {
   "cell_type": "code",
   "execution_count": null,
   "metadata": {},
   "outputs": [],
   "source": [
    "#EDA for each class\n",
    "class_0, class_1, class_2, class_3 = EDA_class(data_set)"
   ]
  },
  {
   "cell_type": "code",
   "execution_count": null,
   "metadata": {},
   "outputs": [],
   "source": [
    "# Set the \"spliter\" value correponding to the part dedicated for train\n",
    "spliter = 0.8\n",
    "\n",
    "# Split into a train and a test set\n",
    "train_0, y_tr_0, test_0, y_te_0 = train_test_separator(y_0, class_0)\n",
    "train_1, y_tr_1, test_1, y_te_1 = train_test_separator(y_1, class_1)\n",
    "train_2, y_tr_2, test_2, y_te_2 = train_test_separator(y_2, class_2)\n",
    "train_3, y_tr_3, test_3, y_te_3 = train_test_separator(y_3, class_3)"
   ]
  },
  {
   "cell_type": "markdown",
   "metadata": {},
   "source": [
    "# Class 0\n",
    "\n",
    "#### Logistic regression\n",
    "\n",
    "***"
   ]
  },
  {
   "cell_type": "code",
   "execution_count": null,
   "metadata": {},
   "outputs": [],
   "source": [
    "# Setting parameters\n",
    "param_least = Parameters()\n",
    "param_least.set_degree(10)\n",
    "param_least.set_method(least_squares)\n",
    "param_least.set_viz(False)\n",
    "# Cross validation\n",
    "param_least = cross_validation_poly_gas(y_0, class_0, param_least)\n",
    "\n",
    "print(param_least.feature_list)\n",
    "print(param_least.polynomial_selection)\n",
    "print(param_least.best_error)"
   ]
  },
  {
   "cell_type": "markdown",
   "metadata": {},
   "source": [
    "#### Gradient descent\n",
    "\n",
    "***"
   ]
  },
  {
   "cell_type": "code",
   "execution_count": null,
   "metadata": {},
   "outputs": [],
   "source": [
    "# Setting parameters\n",
    "param_GD = Parameters()\n",
    "param_GD.set_degree(10)\n",
    "param_GD.set_method(least_squares_GD)\n",
    "param_GD.set_to_test(['gamma'])\n",
    "param_GD.set_viz(False)\n",
    "# Cross validation\n",
    "param_GD = cross_validation_poly_gas(y_0, class_0, param_GD)\n",
    "\n",
    "print(param_GD.feature_list)\n",
    "print(param_GD.polynomial_selection)\n",
    "print(param_GD.best_error)"
   ]
  },
  {
   "cell_type": "markdown",
   "metadata": {},
   "source": [
    "#### Stochastic Gradient Descent\n",
    "\n",
    "***"
   ]
  },
  {
   "cell_type": "code",
   "execution_count": null,
   "metadata": {},
   "outputs": [],
   "source": [
    "# Setting parameters\n",
    "param_SGD = Parameters()\n",
    "param_SGD.set_degree(10)\n",
    "param_SGD.set_method(least_squares_SGD)\n",
    "param_SGD.set_to_test(['gamma'])\n",
    "param_SGD.set_viz(False)\n",
    "# Cross validation\n",
    "param_SGD = cross_validation_poly_gas(y_0, class_0, param_SGD)\n",
    "\n",
    "print(param_SGD.feature_list)\n",
    "print(param_SGD.polynomial_selection)\n",
    "print(param_SGD.best_error)"
   ]
  },
  {
   "cell_type": "markdown",
   "metadata": {},
   "source": [
    "#### Ridge Regression\n",
    "\n",
    "***"
   ]
  },
  {
   "cell_type": "code",
   "execution_count": null,
   "metadata": {},
   "outputs": [],
   "source": [
    "# Setting parameters\n",
    "param_ridge = Parameters()\n",
    "param_ridge.set_degree(10)\n",
    "param_ridge.set_method(ridge_regression)\n",
    "param_ridge.set_to_test(['lambda'])\n",
    "param_ridge.set_viz(False)\n",
    "# Cross validation\n",
    "param_ridge = cross_validation_poly_gas(y_0, class_0, param_ridge)\n",
    "\n",
    "print(param_ridge.feature_list)\n",
    "print(param_ridge.polynomial_selection)\n",
    "print(param_ridge.best_error)"
   ]
  },
  {
   "cell_type": "markdown",
   "metadata": {},
   "source": [
    "#### Logistic regression\n",
    "\n",
    "***"
   ]
  },
  {
   "cell_type": "code",
   "execution_count": null,
   "metadata": {},
   "outputs": [],
   "source": [
    "# Setting parameters\n",
    "neg_log = Neg_log()\n",
    "param_log = Parameters()\n",
    "param_log.set_degree(10)\n",
    "param_log.set_method(logistic_regression)\n",
    "param_log.set_loss_fct(neg_log)\n",
    "param_log.set_to_test(['gamma'])\n",
    "param_log.set_viz(False)\n",
    "# Cross validation\n",
    "param_log = cross_validation_poly_gas(y_0, class_0, param_log)\n",
    "\n",
    "print(param_log.feature_list)\n",
    "print(param_log.polynomial_selection)\n",
    "print(param_log.best_error)"
   ]
  },
  {
   "cell_type": "markdown",
   "metadata": {},
   "source": [
    "#### Reguralized Logistic regression\n",
    "\n",
    "***"
   ]
  },
  {
   "cell_type": "code",
   "execution_count": null,
   "metadata": {},
   "outputs": [],
   "source": [
    "# Setting parameters\n",
    "neg_log = Neg_log()\n",
    "param_reg = Parameters()\n",
    "param_reg.set_degree(10)\n",
    "param_reg.set_method(reg_logistic_regression)\n",
    "param_log.set_loss_fct(neg_log)\n",
    "param_reg.set_to_test(['gamma', 'lambda'])\n",
    "param_reg.set_viz(False)\n",
    "# Cross validation\n",
    "param_reg = cross_validation_poly_gas(y_0, class_0, param_reg)\n",
    "\n",
    "print(param_reg.feature_list)\n",
    "print(param_reg.polynomial_selection)\n",
    "print(param_reg.best_error)"
   ]
  },
  {
   "cell_type": "code",
   "execution_count": null,
   "metadata": {},
   "outputs": [],
   "source": []
  }
 ],
 "metadata": {
  "anaconda-cloud": {},
  "interpreter": {
   "hash": "ab6a13f8d35690fc54a0784a7c413b5c6b88c02b498e2bc6bdd4734947920c66"
  },
  "kernelspec": {
   "display_name": "Python 3.8.8 64-bit ('base': conda)",
   "name": "python3"
  },
  "language_info": {
   "codemirror_mode": {
    "name": "ipython",
    "version": 3
   },
   "file_extension": ".py",
   "mimetype": "text/x-python",
   "name": "python",
   "nbconvert_exporter": "python",
   "pygments_lexer": "ipython3",
   "version": "3.8.8"
  }
 },
 "nbformat": 4,
 "nbformat_minor": 4
}
