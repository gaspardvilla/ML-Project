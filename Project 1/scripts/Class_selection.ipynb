{
 "cells": [
  {
   "cell_type": "code",
   "execution_count": 32,
   "metadata": {
    "tags": []
   },
   "outputs": [
    {
     "name": "stdout",
     "output_type": "stream",
     "text": [
      "The autoreload extension is already loaded. To reload it, use:\n",
      "  %reload_ext autoreload\n"
     ]
    }
   ],
   "source": [
    "# Useful starting lines\n",
    "%matplotlib inline\n",
    "import numpy as np\n",
    "import matplotlib.pyplot as plt\n",
    "from proj1_helpers import *\n",
    "from implementations import *\n",
    "from losses import *\n",
    "from plots import *\n",
    "from EDA import *\n",
    "from cross_validation import *\n",
    "%load_ext autoreload\n",
    "%autoreload 2"
   ]
  },
  {
   "cell_type": "markdown",
   "metadata": {},
   "source": [
    "## Load the training data into feature matrix, class labels, and event ids:"
   ]
  },
  {
   "cell_type": "code",
   "execution_count": 2,
   "metadata": {
    "collapsed": false,
    "jupyter": {
     "outputs_hidden": false
    }
   },
   "outputs": [],
   "source": [
    "DATA_TRAIN_PATH = \"../data/train.csv\"\n",
    "data_y, data_set, ids = load_csv_data(DATA_TRAIN_PATH, sub_sample=True)"
   ]
  },
  {
   "cell_type": "code",
   "execution_count": 3,
   "metadata": {},
   "outputs": [],
   "source": [
    "# Fixing the seed\n",
    "seed = 8"
   ]
  },
  {
   "cell_type": "markdown",
   "metadata": {},
   "source": [
    "### Split and classify data"
   ]
  },
  {
   "cell_type": "code",
   "execution_count": 4,
   "metadata": {},
   "outputs": [],
   "source": [
    "# Classification of the output\n",
    "y_0, y_1, y_2, y_3 = y_classification(data_y, data_set)"
   ]
  },
  {
   "cell_type": "code",
   "execution_count": 5,
   "metadata": {},
   "outputs": [],
   "source": [
    "#EDA for each class\n",
    "class_0, class_1, class_2, class_3 = EDA_class(data_set)"
   ]
  },
  {
   "cell_type": "code",
   "execution_count": 6,
   "metadata": {},
   "outputs": [],
   "source": [
    "max_degree = 6"
   ]
  },
  {
   "cell_type": "markdown",
   "metadata": {},
   "source": [
    "# Class 0\n",
    "\n",
    "#### Logistic regression\n",
    "\n",
    "***"
   ]
  },
  {
   "cell_type": "code",
   "execution_count": 7,
   "metadata": {},
   "outputs": [
    {
     "name": "stdout",
     "output_type": "stream",
     "text": [
      "Forward step\n",
      "Backward step\n",
      "Interactions step\n",
      "forward:  14.811083123425693\n",
      "backward:  100\n",
      "[[0. 0. 2. 3. 4. 8. 1. 6. 7. 8. 9. 2. 4. 7. 1. 3. 4. 4. 8. 9. 0. 1.]\n",
      " [0. 1. 1. 1. 1. 1. 2. 2. 2. 2. 2. 3. 3. 3. 4. 4. 4. 5. 5. 5. 6. 6.]]\n",
      "Forward\n",
      "14.811083123425693\n",
      "[[0. 3.]\n",
      " [0. 7.]]\n"
     ]
    }
   ],
   "source": [
    "# Setting parameters\n",
    "param_least_0 = Parameters()\n",
    "param_least_0.set_degree(max_degree)\n",
    "param_least_0.set_method(least_squares)\n",
    "param_least_0.set_viz(False)\n",
    "param_least_0.set_use_backward_selection(False)\n",
    "param_least_0.set_use_interactions(True)\n",
    "# Cross validation\n",
    "param_least_0 = cross_validation_poly_gas(y_0, class_0, param_least_0)\n",
    "\n",
    "print(param_least_0.feature_list)\n",
    "print(param_least_0.polynomial_selection)\n",
    "print(param_least_0.best_error)\n",
    "print(param_least_0.kept_interactions)"
   ]
  },
  {
   "cell_type": "markdown",
   "metadata": {},
   "source": [
    "#### Gradient descent\n",
    "\n",
    "***"
   ]
  },
  {
   "cell_type": "code",
   "execution_count": 8,
   "metadata": {},
   "outputs": [
    {
     "name": "stdout",
     "output_type": "stream",
     "text": [
      "Forward step\n"
     ]
    },
    {
     "name": "stderr",
     "output_type": "stream",
     "text": [
      "/Users/gaspardvilla/Documents/EPFL/5ème année/Semestre IX/Machine Learning/Workspace/Project 1/scripts/implementations.py:42: RuntimeWarning: invalid value encountered in subtract\n",
      "  w = w - (parameters.gamma * grad)\n"
     ]
    },
    {
     "name": "stdout",
     "output_type": "stream",
     "text": [
      "Backward step\n",
      "Interactions step\n",
      "forward:  16.675062972292192\n",
      "backward:  100\n",
      "[[0. 0. 1. 3. 4. 5. 8. 1. 2. 3. 4. 6. 7.]\n",
      " [0. 1. 1. 1. 1. 1. 1. 2. 2. 2. 2. 2. 2.]]\n",
      "Forward\n",
      "16.675062972292192\n",
      "[0. 0.]\n"
     ]
    }
   ],
   "source": [
    "# Setting parameters\n",
    "param_GD_0 = Parameters()\n",
    "param_GD_0.set_degree(max_degree)\n",
    "param_GD_0.set_method(least_squares_GD)\n",
    "param_GD_0.set_to_test(['gamma'])\n",
    "param_GD_0.set_viz(False)\n",
    "param_GD_0.set_use_backward_selection(False)\n",
    "param_GD_0.set_use_interactions(True)\n",
    "# Cross validation\n",
    "param_GD_0 = cross_validation_poly_gas(y_0, class_0, param_GD_0)\n",
    "\n",
    "print(param_GD_0.feature_list)\n",
    "print(param_GD_0.polynomial_selection)\n",
    "print(param_GD_0.best_error)\n",
    "print(param_GD_0.kept_interactions)"
   ]
  },
  {
   "cell_type": "markdown",
   "metadata": {},
   "source": [
    "#### Stochastic Gradient Descent\n",
    "\n",
    "***"
   ]
  },
  {
   "cell_type": "code",
   "execution_count": 9,
   "metadata": {},
   "outputs": [
    {
     "name": "stdout",
     "output_type": "stream",
     "text": [
      "Forward step\n",
      "Backward step\n",
      "Interactions step\n",
      "forward:  20.0\n",
      "backward:  100\n",
      "[[0. 0. 1. 4. 8.]\n",
      " [0. 1. 1. 1. 1.]]\n",
      "Forward\n",
      "20.0\n",
      "[0. 0.]\n"
     ]
    }
   ],
   "source": [
    "# Setting parameters\n",
    "param_SGD_0 = Parameters()\n",
    "param_SGD_0.set_degree(max_degree)\n",
    "param_SGD_0.set_method(least_squares_SGD)\n",
    "param_SGD_0.set_to_test(['gamma'])\n",
    "param_SGD_0.set_viz(False)\n",
    "param_SGD_0.set_use_backward_selection(False)\n",
    "param_SGD_0.set_use_interactions(True)\n",
    "# Cross validation\n",
    "param_SGD_0 = cross_validation_poly_gas(y_0, class_0, param_SGD_0)\n",
    "\n",
    "print(param_SGD_0.feature_list)\n",
    "print(param_SGD_0.polynomial_selection)\n",
    "print(param_SGD_0.best_error)\n",
    "print(param_SGD_0.kept_interactions)"
   ]
  },
  {
   "cell_type": "markdown",
   "metadata": {},
   "source": [
    "#### Ridge Regression\n",
    "\n",
    "***"
   ]
  },
  {
   "cell_type": "code",
   "execution_count": 99,
   "metadata": {},
   "outputs": [
    {
     "name": "stdout",
     "output_type": "stream",
     "text": [
      "Forward step\n",
      "Backward step\n",
      "Interactions step\n",
      "forward:  16.74673712867323\n",
      "backward:  100\n",
      "[[0. 0. 1. 3. 4. 6. 7. 8. 0. 1. 2. 5. 6. 7. 9. 1. 3. 4. 5. 9. 1. 2. 3. 4.\n",
      "  5. 6. 7. 9. 1. 3. 5. 7. 8. 9. 2. 7. 8. 9.]\n",
      " [0. 1. 1. 1. 1. 1. 1. 1. 2. 2. 2. 2. 2. 2. 2. 3. 3. 3. 3. 3. 4. 4. 4. 4.\n",
      "  4. 4. 4. 4. 5. 5. 5. 5. 5. 5. 6. 6. 6. 6.]]\n",
      "Forward\n",
      "16.74673712867323\n",
      "[[0. 0. 0. 0. 0. 2. 2. 2. 2. 2. 3. 3. 4. 5. 5. 5. 5. 6. 7.]\n",
      " [0. 1. 2. 8. 9. 3. 4. 5. 6. 9. 5. 9. 7. 6. 7. 8. 9. 7. 8.]]\n",
      "0.00013738237958832637\n"
     ]
    }
   ],
   "source": [
    "# Setting parameters\n",
    "param_ridge_0 = Parameters()\n",
    "param_ridge_0.set_degree(max_degree)\n",
    "param_ridge_0.set_method(ridge_regression)\n",
    "param_ridge_0.set_to_test(['lambda'])\n",
    "param_ridge_0.set_viz(False)\n",
    "param_ridge_0.set_use_backward_selection(False)\n",
    "param_ridge_0.set_use_interactions(True)\n",
    "# Cross validation\n",
    "param_ridge_0 = cross_validation_poly_gas(y_0, class_0, param_ridge_0)\n",
    "\n",
    "print(param_ridge_0.feature_list)\n",
    "print(param_ridge_0.polynomial_selection)\n",
    "print(param_ridge_0.best_error)\n",
    "print(param_ridge_0.kept_interactions)\n",
    "print(param_ridge_0.best_lambda)"
   ]
  },
  {
   "cell_type": "markdown",
   "metadata": {},
   "source": [
    "#### Logistic regression\n",
    "\n",
    "***"
   ]
  },
  {
   "cell_type": "code",
   "execution_count": 11,
   "metadata": {},
   "outputs": [
    {
     "name": "stdout",
     "output_type": "stream",
     "text": [
      "Forward step\n"
     ]
    },
    {
     "name": "stderr",
     "output_type": "stream",
     "text": [
      "/Users/gaspardvilla/Documents/EPFL/5ème année/Semestre IX/Machine Learning/Workspace/Project 1/scripts/losses.py:76: RuntimeWarning: overflow encountered in exp\n",
      "  return np.sum(np.log(1+np.exp(data_set@w))-y*(data_set@w))\n",
      "/Users/gaspardvilla/Documents/EPFL/5ème année/Semestre IX/Machine Learning/Workspace/Project 1/scripts/losses.py:65: RuntimeWarning: overflow encountered in exp\n",
      "  return np.exp(t) / (1 + np.exp(t))\n",
      "/Users/gaspardvilla/Documents/EPFL/5ème année/Semestre IX/Machine Learning/Workspace/Project 1/scripts/losses.py:65: RuntimeWarning: invalid value encountered in true_divide\n",
      "  return np.exp(t) / (1 + np.exp(t))\n"
     ]
    },
    {
     "name": "stdout",
     "output_type": "stream",
     "text": [
      "Backward step\n",
      "Interactions step\n",
      "forward:  15.667506297229219\n",
      "backward:  100\n",
      "[[0. 0. 1. 3. 4. 8. 0. 1. 7. 8.]\n",
      " [0. 1. 1. 1. 1. 1. 2. 2. 2. 2.]]\n",
      "Forward\n",
      "15.667506297229219\n",
      "[0. 0.]\n"
     ]
    }
   ],
   "source": [
    "# Setting parameters\n",
    "neg_log = Neg_log()\n",
    "param_log_0 = Parameters()\n",
    "param_log_0.set_degree(max_degree)\n",
    "param_log_0.set_method(logistic_regression)\n",
    "param_log_0.set_loss_fct(neg_log)\n",
    "param_log_0.set_to_test(['gamma'])\n",
    "param_log_0.set_viz(False)\n",
    "param_log_0.set_use_backward_selection(False)\n",
    "param_log_0.set_use_interactions(True)\n",
    "# Cross validation\n",
    "param_log_0 = cross_validation_poly_gas(y_0, class_0, param_log_0)\n",
    "\n",
    "print(param_log_0.feature_list)\n",
    "print(param_log_0.polynomial_selection)\n",
    "print(param_log_0.best_error)\n",
    "print(param_log_0.kept_interactions)"
   ]
  },
  {
   "cell_type": "markdown",
   "metadata": {},
   "source": [
    "#### Reguralized Logistic regression\n",
    "\n",
    "***"
   ]
  },
  {
   "cell_type": "code",
   "execution_count": 12,
   "metadata": {},
   "outputs": [
    {
     "name": "stdout",
     "output_type": "stream",
     "text": [
      "Forward step\n",
      "Backward step\n",
      "Interactions step\n",
      "forward:  15.667506297229219\n",
      "backward:  100\n",
      "[[0. 0. 1. 3. 4. 8. 0. 1. 7. 8.]\n",
      " [0. 1. 1. 1. 1. 1. 2. 2. 2. 2.]]\n",
      "Forward\n",
      "15.667506297229219\n",
      "[0. 0.]\n"
     ]
    }
   ],
   "source": [
    "# Setting parameters\n",
    "neg_log = Neg_log()\n",
    "param_reg_0 = Parameters()\n",
    "param_reg_0.set_degree(max_degree)\n",
    "param_reg_0.set_method(reg_logistic_regression)\n",
    "param_reg_0.set_loss_fct(neg_log)\n",
    "param_reg_0.set_to_test(['gamma', 'lambda'])\n",
    "param_reg_0.set_viz(False)\n",
    "param_reg_0.set_use_backward_selection(False)\n",
    "param_reg_0.set_use_interactions(True)\n",
    "# Cross validation\n",
    "param_reg_0 = cross_validation_poly_gas(y_0, class_0, param_reg_0)\n",
    "\n",
    "print(param_reg_0.feature_list)\n",
    "print(param_reg_0.polynomial_selection)\n",
    "print(param_reg_0.best_error)\n",
    "print(param_reg_0.kept_interactions)"
   ]
  },
  {
   "cell_type": "markdown",
   "metadata": {},
   "source": [
    "# Class 1\n",
    "\n",
    "***"
   ]
  },
  {
   "cell_type": "code",
   "execution_count": null,
   "metadata": {},
   "outputs": [],
   "source": [
    "# Setting parameters\n",
    "param_least_1 = Parameters()\n",
    "param_least_1.set_degree(max_degree)\n",
    "param_least_1.set_method(least_squares)\n",
    "param_least_1.set_viz(False)\n",
    "param_least_1.set_use_backward_selection(False)\n",
    "param_least_1.set_use_interactions(True)\n",
    "# Cross validation\n",
    "param_least_1 = cross_validation_poly_gas(y_1, class_1, param_least_1)\n",
    "\n",
    "print(param_least_1.feature_list)\n",
    "print(param_least_1.polynomial_selection)\n",
    "print(param_least_1.best_error)\n",
    "print(param_least_1.kept_interactions)"
   ]
  },
  {
   "cell_type": "code",
   "execution_count": null,
   "metadata": {},
   "outputs": [],
   "source": [
    "# Setting parameters\n",
    "param_GD_1 = Parameters()\n",
    "param_GD_1.set_degree(max_degree)\n",
    "param_GD_1.set_method(least_squares_GD)\n",
    "param_GD_1.set_to_test(['gamma'])\n",
    "param_GD_1.set_viz(False)\n",
    "param_GD_1.set_use_backward_selection(False)\n",
    "param_GD_1.set_use_interactions(True)\n",
    "# Cross validation\n",
    "param_GD_1 = cross_validation_poly_gas(y_1, class_1, param_GD_1)\n",
    "\n",
    "print(param_GD_1.feature_list)\n",
    "print(param_GD_1.polynomial_selection)\n",
    "print(param_GD_1.best_error)\n",
    "print(param_GD_1.kept_interactions)"
   ]
  },
  {
   "cell_type": "code",
   "execution_count": null,
   "metadata": {},
   "outputs": [],
   "source": [
    "# Setting parameters\n",
    "param_SGD_1 = Parameters()\n",
    "param_SGD_1.set_degree(max_degree)\n",
    "param_SGD_1.set_method(least_squares_SGD)\n",
    "param_SGD_1.set_to_test(['gamma'])\n",
    "param_SGD_1.set_viz(False)\n",
    "param_SGD_1.set_use_backward_selection(False)\n",
    "param_SGD_1.set_use_interactions(True)\n",
    "# Cross validation\n",
    "param_SGD_1 = cross_validation_poly_gas(y_1, class_1, param_SGD_1)\n",
    "\n",
    "print(param_SGD_1.feature_list)\n",
    "print(param_SGD_1.polynomial_selection)\n",
    "print(param_SGD_1.best_error)\n",
    "print(param_SGD_1.kept_interactions)"
   ]
  },
  {
   "cell_type": "code",
   "execution_count": null,
   "metadata": {},
   "outputs": [],
   "source": [
    "# Setting parameters\n",
    "param_ridge_1 = Parameters()\n",
    "param_ridge_1.set_degree(max_degree)\n",
    "param_ridge_1.set_method(ridge_regression)\n",
    "param_ridge_1.set_to_test(['lambda'])\n",
    "param_ridge_1.set_viz(False)\n",
    "param_ridge_1.set_use_backward_selection(False)\n",
    "param_ridge_1.set_use_interactions(True)\n",
    "# Cross validation\n",
    "param_ridge_1 = cross_validation_poly_gas(y_1, class_1, param_ridge_1)\n",
    "\n",
    "print(param_ridge_1.feature_list)\n",
    "print(param_ridge_1.polynomial_selection)\n",
    "print(param_ridge_1.best_error)\n",
    "print(param_ridge_1.kept_interactions)"
   ]
  },
  {
   "cell_type": "code",
   "execution_count": null,
   "metadata": {},
   "outputs": [],
   "source": [
    "# Setting parameters\n",
    "neg_log = Neg_log()\n",
    "param_log_1 = Parameters()\n",
    "param_log_1.set_degree(max_degree)\n",
    "param_log_1.set_method(logistic_regression)\n",
    "param_log_1.set_loss_fct(neg_log)\n",
    "param_log_1.set_to_test(['gamma'])\n",
    "param_log_1.set_viz(False)\n",
    "param_log_1.set_use_backward_selection(False)\n",
    "param_log_1.set_use_interactions(True)\n",
    "# Cross validation\n",
    "param_log_1 = cross_validation_poly_gas(y_1, class_1, param_log_1)\n",
    "\n",
    "print(param_log_1.feature_list)\n",
    "print(param_log_1.polynomial_selection)\n",
    "print(param_log_1.best_error)\n",
    "print(param_log_1.kept_interactions)"
   ]
  },
  {
   "cell_type": "code",
   "execution_count": null,
   "metadata": {},
   "outputs": [],
   "source": [
    "# Setting parameters\n",
    "neg_log = Neg_log()\n",
    "param_reg_1 = Parameters()\n",
    "param_reg_1.set_degree(max_degree)\n",
    "param_reg_1.set_method(reg_logistic_regression)\n",
    "param_reg_1.set_loss_fct(neg_log)\n",
    "param_reg_1.set_to_test(['gamma', 'lambda'])\n",
    "param_reg_1.set_viz(False)\n",
    "param_reg_1.set_use_backward_selection(False)\n",
    "param_reg_1.set_use_interactions(True)\n",
    "# Cross validation\n",
    "param_reg_1 = cross_validation_poly_gas(y_1, class_1, param_reg_1)\n",
    "\n",
    "print(param_reg_1.feature_list)\n",
    "print(param_reg_1.polynomial_selection)\n",
    "print(param_reg_1.best_error)\n",
    "print(param_reg_1.kept_interactions)"
   ]
  },
  {
   "cell_type": "markdown",
   "metadata": {},
   "source": [
    "# Class 2\n",
    "\n",
    "***"
   ]
  },
  {
   "cell_type": "code",
   "execution_count": null,
   "metadata": {},
   "outputs": [],
   "source": [
    "print('LEAST SQUARES')\n",
    "\n",
    "# Setting parameters\n",
    "param_least_2 = Parameters()\n",
    "param_least_2.set_degree(max_degree)\n",
    "param_least_2.set_method(least_squares)\n",
    "param_least_2.set_viz(False)\n",
    "param_least_2.set_use_backward_selection(False)\n",
    "param_least_2.set_use_interactions(True)\n",
    "# Cross validation\n",
    "param_least_2 = cross_validation_poly_gas(y_2, class_2, param_least_2)\n",
    "\n",
    "print(param_least_2.feature_list)\n",
    "print(param_least_2.polynomial_selection)\n",
    "print(param_least_2.best_error)\n",
    "print(param_least_2.kept_interactions)\n",
    "\n",
    "print('GRADIENT DESCENT')\n",
    "\n",
    "# Setting parameters\n",
    "param_GD_2 = Parameters()\n",
    "param_GD_2.set_degree(max_degree)\n",
    "param_GD_2.set_method(least_squares_GD)\n",
    "param_GD_2.set_to_test(['gamma'])\n",
    "param_GD_2.set_viz(False)\n",
    "param_GD_2.set_use_backward_selection(False)\n",
    "param_GD_2.set_use_interactions(True)\n",
    "# Cross validation\n",
    "param_GD_2 = cross_validation_poly_gas(y_2, class_2, param_GD_2)\n",
    "\n",
    "print(param_GD_2.feature_list)\n",
    "print(param_GD_2.polynomial_selection)\n",
    "print(param_GD_2.best_error)\n",
    "print(param_GD_2.kept_interactions)\n",
    "\n",
    "print('STOCHASTIC GRADIENT DESCENT')\n",
    "\n",
    "# Setting parameters\n",
    "param_SGD_2 = Parameters()\n",
    "param_SGD_2.set_degree(max_degree)\n",
    "param_SGD_2.set_method(least_squares_SGD)\n",
    "param_SGD_2.set_to_test(['gamma'])\n",
    "param_SGD_2.set_viz(False)\n",
    "param_SGD_2.set_use_backward_selection(False)\n",
    "param_SGD_2.set_use_interactions(True)\n",
    "# Cross validation\n",
    "param_SGD_2 = cross_validation_poly_gas(y_2, class_2, param_SGD_2)\n",
    "\n",
    "print(param_SGD_2.feature_list)\n",
    "print(param_SGD_2.polynomial_selection)\n",
    "print(param_SGD_2.best_error)\n",
    "print(param_SGD_2.kept_interactions)\n",
    "\n",
    "print('RIDGE REGRESSION')\n",
    "\n",
    "# Setting parameters\n",
    "param_ridge_2 = Parameters()\n",
    "param_ridge_2.set_degree(max_degree)\n",
    "param_ridge_2.set_method(ridge_regression)\n",
    "param_ridge_2.set_to_test(['lambda'])\n",
    "param_ridge_2.set_viz(False)\n",
    "param_ridge_2.set_use_backward_selection(False)\n",
    "param_ridge_2.set_use_interactions(True)\n",
    "# Cross validation\n",
    "param_ridge_2 = cross_validation_poly_gas(y_2, class_2, param_ridge_2)\n",
    "\n",
    "print(param_ridge_2.feature_list)\n",
    "print(param_ridge_2.polynomial_selection)\n",
    "print(param_ridge_2.best_error)\n",
    "print(param_ridge_2.kept_interactions)\n",
    "\n",
    "print('LOGISTIC REGRESSION')\n",
    "\n",
    "# Setting parameters\n",
    "neg_log = Neg_log()\n",
    "param_log_2 = Parameters()\n",
    "param_log_2.set_degree(max_degree)\n",
    "param_log_2.set_method(logistic_regression)\n",
    "param_log_2.set_loss_fct(neg_log)\n",
    "param_log_2.set_to_test(['gamma'])\n",
    "param_log_2.set_viz(False)\n",
    "param_log_2.set_use_backward_selection(False)\n",
    "param_log_2.set_use_interactions(True)\n",
    "# Cross validation\n",
    "param_log_2 = cross_validation_poly_gas(y_2, class_2, param_log_2)\n",
    "\n",
    "print(param_log_2.feature_list)\n",
    "print(param_log_2.polynomial_selection)\n",
    "print(param_log_2.best_error)\n",
    "print(param_log_2.kept_interactions)\n",
    "\n",
    "print('REGURALIZED LOGISTIC REGRESSION')\n",
    "\n",
    "# Setting parameters\n",
    "neg_log = Neg_log()\n",
    "param_reg_2 = Parameters()\n",
    "param_reg_2.set_degree(max_degree)\n",
    "param_reg_2.set_method(reg_logistic_regression)\n",
    "param_reg_2.set_loss_fct(neg_log)\n",
    "param_reg_2.set_to_test(['gamma', 'lambda'])\n",
    "param_reg_2.set_viz(False)\n",
    "param_reg_2.set_use_backward_selection(False)\n",
    "param_reg_2.set_use_interactions(True)\n",
    "# Cross validation\n",
    "param_reg_2 = cross_validation_poly_gas(y_2, class_2, param_reg_2)\n",
    "\n",
    "print(param_reg_2.feature_list)\n",
    "print(param_reg_2.polynomial_selection)\n",
    "print(param_reg_2.best_error)\n",
    "print(param_reg_2.kept_interactions)"
   ]
  },
  {
   "cell_type": "markdown",
   "metadata": {},
   "source": [
    "# Class 3\n",
    "\n",
    "***"
   ]
  },
  {
   "cell_type": "code",
   "execution_count": 13,
   "metadata": {},
   "outputs": [
    {
     "name": "stdout",
     "output_type": "stream",
     "text": [
      "LEAST SQUARES\n",
      "Forward step\n",
      "Backward step\n",
      "Interactions step\n",
      "forward:  22.790697674418603\n",
      "backward:  100\n",
      "[[ 0.  0.  1.  3.  4.  2.  3.  4.  5.  6. 12.  1.  2.]\n",
      " [ 0.  1.  1.  1.  1.  2.  2.  2.  2.  2.  2.  3.  3.]]\n",
      "Forward\n",
      "22.790697674418603\n",
      "[0. 0.]\n",
      "GRADIENT DESCENT\n",
      "Forward step\n",
      "Backward step\n",
      "Interactions step\n",
      "forward:  22.790697674418606\n",
      "backward:  100\n",
      "[[0. 0. 1. 2. 3. 4. 2. 3. 5. 6. 1. 2. 6. 7.]\n",
      " [0. 1. 1. 1. 1. 1. 2. 2. 2. 2. 3. 3. 3. 3.]]\n",
      "Forward\n",
      "22.790697674418606\n",
      "[0. 0.]\n",
      "STOCHASTIC GRADIENT DESCENT\n",
      "Forward step\n",
      "Backward step\n",
      "Interactions step\n",
      "forward:  26.51162790697675\n",
      "backward:  100\n",
      "[[ 0.  0.  8.  9. 12. 11. 12.]\n",
      " [ 0.  1.  1.  1.  1.  2.  2.]]\n",
      "Forward\n",
      "26.51162790697675\n",
      "[0. 0.]\n",
      "RIDGE REGRESSION\n",
      "Forward step\n",
      "Backward step\n",
      "Interactions step\n",
      "forward:  22.325581395348838\n",
      "backward:  100\n",
      "[[ 0.  0.  1.  2.  3.  4.  2.  3.  5.  6. 12.  1.  2.  4.]\n",
      " [ 0.  1.  1.  1.  1.  1.  2.  2.  2.  2.  2.  3.  3.  3.]]\n",
      "Forward\n",
      "22.325581395348838\n",
      "[0. 0.]\n",
      "LOGISTIC REGRESSION\n",
      "Forward step\n",
      "Backward step\n",
      "Interactions step\n",
      "forward:  23.02325581395349\n",
      "backward:  100\n",
      "[[0. 0. 1. 2. 3. 1. 2. 3. 5. 8. 1.]\n",
      " [0. 1. 1. 1. 1. 2. 2. 2. 2. 2. 3.]]\n",
      "Forward\n",
      "23.02325581395349\n",
      "[0. 0.]\n",
      "REGURALIZED LOGISTIC REGRESSION\n",
      "Forward step\n",
      "Backward step\n",
      "Interactions step\n",
      "forward:  23.02325581395349\n",
      "backward:  100\n",
      "[[0. 0. 1. 2. 3. 1. 2. 3. 8. 1.]\n",
      " [0. 1. 1. 1. 1. 2. 2. 2. 2. 3.]]\n",
      "Forward\n",
      "23.02325581395349\n",
      "[0. 0.]\n"
     ]
    }
   ],
   "source": [
    "print('LEAST SQUARES')\n",
    "\n",
    "# Setting parameters\n",
    "param_least_3 = Parameters()\n",
    "param_least_3.set_degree(max_degree)\n",
    "param_least_3.set_method(least_squares)\n",
    "param_least_3.set_viz(False)\n",
    "param_least_3.set_use_backward_selection(False)\n",
    "param_least_3.set_use_interactions(True)\n",
    "# Cross validation\n",
    "param_least_3 = cross_validation_poly_gas(y_3, class_3, param_least_3)\n",
    "\n",
    "print(param_least_3.feature_list)\n",
    "print(param_least_3.polynomial_selection)\n",
    "print(param_least_3.best_error)\n",
    "print(param_least_3.kept_interactions)\n",
    "\n",
    "print('GRADIENT DESCENT')\n",
    "\n",
    "# Setting parameters\n",
    "param_GD_3 = Parameters()\n",
    "param_GD_3.set_degree(max_degree)\n",
    "param_GD_3.set_method(least_squares_GD)\n",
    "param_GD_3.set_to_test(['gamma'])\n",
    "param_GD_3.set_viz(False)\n",
    "param_GD_3.set_use_backward_selection(False)\n",
    "param_GD_3.set_use_interactions(True)\n",
    "# Cross validation\n",
    "param_GD_3 = cross_validation_poly_gas(y_3, class_3, param_GD_3)\n",
    "\n",
    "print(param_GD_3.feature_list)\n",
    "print(param_GD_3.polynomial_selection)\n",
    "print(param_GD_3.best_error)\n",
    "print(param_GD_3.kept_interactions)\n",
    "\n",
    "print('STOCHASTIC GRADIENT DESCENT')\n",
    "\n",
    "# Setting parameters\n",
    "param_SGD_3 = Parameters()\n",
    "param_SGD_3.set_degree(max_degree)\n",
    "param_SGD_3.set_method(least_squares_SGD)\n",
    "param_SGD_3.set_to_test(['gamma'])\n",
    "param_SGD_3.set_viz(False)\n",
    "param_SGD_3.set_use_backward_selection(False)\n",
    "param_SGD_3.set_use_interactions(True)\n",
    "# Cross validation\n",
    "param_SGD_3 = cross_validation_poly_gas(y_3, class_3, param_SGD_3)\n",
    "\n",
    "print(param_SGD_3.feature_list)\n",
    "print(param_SGD_3.polynomial_selection)\n",
    "print(param_SGD_3.best_error)\n",
    "print(param_SGD_3.kept_interactions)\n",
    "\n",
    "print('RIDGE REGRESSION')\n",
    "\n",
    "# Setting parameters\n",
    "param_ridge_3 = Parameters()\n",
    "param_ridge_3.set_degree(max_degree)\n",
    "param_ridge_3.set_method(ridge_regression)\n",
    "param_ridge_3.set_to_test(['lambda'])\n",
    "param_ridge_3.set_viz(False)\n",
    "param_ridge_3.set_use_backward_selection(False)\n",
    "param_ridge_3.set_use_interactions(True)\n",
    "# Cross validation\n",
    "param_ridge_3 = cross_validation_poly_gas(y_3, class_3, param_ridge_3)\n",
    "\n",
    "print(param_ridge_3.feature_list)\n",
    "print(param_ridge_3.polynomial_selection)\n",
    "print(param_ridge_3.best_error)\n",
    "print(param_ridge_3.kept_interactions)\n",
    "\n",
    "print('LOGISTIC REGRESSION')\n",
    "\n",
    "# Setting parameters\n",
    "neg_log = Neg_log()\n",
    "param_log_3 = Parameters()\n",
    "param_log_3.set_degree(max_degree)\n",
    "param_log_3.set_method(logistic_regression)\n",
    "param_log_3.set_loss_fct(neg_log)\n",
    "param_log_3.set_to_test(['gamma'])\n",
    "param_log_3.set_viz(False)\n",
    "param_log_3.set_use_backward_selection(False)\n",
    "param_log_3.set_use_interactions(True)\n",
    "# Cross validation\n",
    "param_log_3 = cross_validation_poly_gas(y_3, class_3, param_log_3)\n",
    "\n",
    "print(param_log_3.feature_list)\n",
    "print(param_log_3.polynomial_selection)\n",
    "print(param_log_3.best_error)\n",
    "print(param_log_3.kept_interactions)\n",
    "\n",
    "print('REGURALIZED LOGISTIC REGRESSION')\n",
    "\n",
    "# Setting parameters\n",
    "neg_log = Neg_log()\n",
    "param_reg_3 = Parameters()\n",
    "param_reg_3.set_degree(max_degree)\n",
    "param_reg_3.set_method(reg_logistic_regression)\n",
    "param_reg_3.set_loss_fct(neg_log)\n",
    "param_reg_3.set_to_test(['gamma', 'lambda'])\n",
    "param_reg_3.set_viz(False)\n",
    "param_reg_3.set_use_backward_selection(False)\n",
    "param_reg_3.set_use_interactions(True)\n",
    "# Cross validation\n",
    "param_reg_3 = cross_validation_poly_gas(y_3, class_3, param_reg_3)\n",
    "\n",
    "print(param_reg_3.feature_list)\n",
    "print(param_reg_3.polynomial_selection)\n",
    "print(param_reg_3.best_error)\n",
    "print(param_reg_3.kept_interactions)"
   ]
  },
  {
   "cell_type": "markdown",
   "metadata": {},
   "source": [
    "# Submission\n",
    "\n",
    "#### Find the best parameters for each model\n",
    "\n",
    "****"
   ]
  },
  {
   "cell_type": "code",
   "execution_count": 92,
   "metadata": {},
   "outputs": [],
   "source": [
    "DATA_TRAIN_PATH = \"../data/train.csv\"\n",
    "data_y_, data_set_, ids = load_csv_data(DATA_TRAIN_PATH, sub_sample=False)\n",
    "# Classification of the output\n",
    "y_0, y_1, y_2, y_3 = y_classification(data_y_, data_set_)\n",
    "#EDA for each class\n",
    "class_0, class_1, class_2, class_3 = EDA_class(data_set_)"
   ]
  },
  {
   "cell_type": "code",
   "execution_count": 93,
   "metadata": {},
   "outputs": [],
   "source": [
    "Viz = True"
   ]
  },
  {
   "cell_type": "code",
   "execution_count": 100,
   "metadata": {},
   "outputs": [
    {
     "name": "stdout",
     "output_type": "stream",
     "text": [
      "0.0002592943797404667\n"
     ]
    }
   ],
   "source": [
    "class_0_ = build_polynomial_features(class_0, param_ridge_0)\n",
    "param_ridge_0 = cross_validation(y_0, class_0_, param_ridge_0)\n",
    "loss_0, w_0 = ridge_regression(y_0, class_0_, param_ridge_0)\n",
    "\n",
    "print(param_ridge_0.best_lambda)"
   ]
  },
  {
   "cell_type": "code",
   "execution_count": 74,
   "metadata": {},
   "outputs": [
    {
     "name": "stdout",
     "output_type": "stream",
     "text": [
      "[0. 0.]\n",
      "[23.857175090252706, 23.857175090252706, 23.857175090252706, 23.857175090252706, 23.857175090252706, 23.857175090252706, 23.857175090252706, 23.857175090252706, 23.857175090252706, 23.857175090252706, 23.85830324909747, 23.85830324909747, 23.854918772563174, 23.852662454873645, 23.856046931407942, 23.852662454873645, 23.85604693140794, 23.85943140794224, 23.85379061371841, 23.85379061371841, 23.868456678700362, 23.886507220216608, 23.90907039711191, 24.013989169675092, 24.12342057761733, 24.276850180505413, 24.535198555956676, 24.99210288808664, 25.562951263537904, 26.180054151624553]\n",
      "Test error: 23.79061371841155\n",
      "Best lambda: 1e-07\n"
     ]
    },
    {
     "data": {
      "image/png": "[encoded data removed]",
      "text/plain": [
       "<Figure size 432x288 with 1 Axes>"
      ]
     },
     "metadata": {
      "needs_background": "light"
     },
     "output_type": "display_data"
    }
   ],
   "source": [
    "print(param_ridge_3.kept_interactions)\n",
    "class_3_ = build_polynomial_features(class_3, param_ridge_3)\n",
    "param_ridge_3.set_viz(Viz)\n",
    "param_ridge_3.set_lambda_range(np.logspace(-7, -1, 30))\n",
    "param_ridge_3 = cross_validation(y_3, class_3_, param_ridge_3)\n",
    "loss_3, w_3 = ridge_regression(y_3, class_3_, param_ridge_3)"
   ]
  },
  {
   "cell_type": "code",
   "execution_count": 69,
   "metadata": {},
   "outputs": [
    {
     "name": "stdout",
     "output_type": "stream",
     "text": [
      "[[-1  0]]\n",
      "[[-1  0  1]]\n",
      "[[-1  0  1  2]]\n"
     ]
    }
   ],
   "source": [
    "x = [-1]\n",
    "for i in range(3):\n",
    "    x = np.c_[x, [i]]\n",
    "    print(x)"
   ]
  }
 ],
 "metadata": {
  "anaconda-cloud": {},
  "interpreter": {
   "hash": "ab6a13f8d35690fc54a0784a7c413b5c6b88c02b498e2bc6bdd4734947920c66"
  },
  "kernelspec": {
   "display_name": "Python 3.8.8 64-bit ('base': conda)",
   "name": "python3"
  },
  "language_info": {
   "codemirror_mode": {
    "name": "ipython",
    "version": 3
   },
   "file_extension": ".py",
   "mimetype": "text/x-python",
   "name": "python",
   "nbconvert_exporter": "python",
   "pygments_lexer": "ipython3",
   "version": "3.8.8"
  }
 },
 "nbformat": 4,
 "nbformat_minor": 4
}
