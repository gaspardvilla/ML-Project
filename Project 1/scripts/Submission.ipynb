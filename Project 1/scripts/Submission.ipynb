{
 "cells": [
  {
   "cell_type": "code",
   "execution_count": null,
   "metadata": {
    "tags": []
   },
   "outputs": [],
   "source": [
    "# Useful starting lines\n",
    "%matplotlib inline\n",
    "import numpy as np\n",
    "import matplotlib.pyplot as plt\n",
    "from proj1_helpers import *\n",
    "from implementations import *\n",
    "from losses import *\n",
    "from plots import *\n",
    "from EDA import *\n",
    "from cross_validation import *\n",
    "%load_ext autoreload\n",
    "%autoreload 2"
   ]
  },
  {
   "cell_type": "markdown",
   "metadata": {},
   "source": [
    "## Load the training data into feature matrix, class labels, and event ids:"
   ]
  },
  {
   "cell_type": "code",
   "execution_count": null,
   "metadata": {
    "collapsed": false,
    "jupyter": {
     "outputs_hidden": false
    }
   },
   "outputs": [],
   "source": [
    "DATA_TRAIN_PATH = \"../data/train.csv\"\n",
    "data_y, data_set, ids = load_csv_data(DATA_TRAIN_PATH, sub_sample=True)"
   ]
  },
  {
   "cell_type": "code",
   "execution_count": null,
   "metadata": {},
   "outputs": [],
   "source": [
    "# Fixing the seed\n",
    "seed = 8"
   ]
  },
  {
   "cell_type": "markdown",
   "metadata": {},
   "source": [
    "### Split and classify data"
   ]
  },
  {
   "cell_type": "code",
   "execution_count": null,
   "metadata": {},
   "outputs": [],
   "source": [
    "# Classification of the output\n",
    "y_0, y_1, y_2, y_3 = y_classification(data_y, data_set)"
   ]
  },
  {
   "cell_type": "code",
   "execution_count": null,
   "metadata": {},
   "outputs": [],
   "source": [
    "#EDA for each class\n",
    "class_0, class_1, class_2, class_3 = EDA_class(data_set)"
   ]
  },
  {
   "cell_type": "markdown",
   "metadata": {},
   "source": [
    "# Class 0\n",
    "\n",
    "***"
   ]
  },
  {
   "cell_type": "code",
   "execution_count": null,
   "metadata": {},
   "outputs": [],
   "source": [
    "param_0 = Parameters()\n",
    "param_0.set_method(ridge_regression)\n",
    "param_0.set_degree(10)\n",
    "param_0.set_to_test(['lambda'])\n",
    "param_0.set_viz(False)\n",
    "\n",
    "param_0 = cross_validation_poly_gas(y_0, class_0, param_0)\n",
    "\n",
    "print(param_0.feature_list)\n",
    "print(param_0.polynomial_selection)\n",
    "print(param_0.best_error)"
   ]
  },
  {
   "cell_type": "markdown",
   "metadata": {},
   "source": [
    "# Class 1\n",
    "\n",
    "***\n"
   ]
  },
  {
   "cell_type": "code",
   "execution_count": null,
   "metadata": {},
   "outputs": [],
   "source": [
    "param_1 = Parameters()\n",
    "param_1.set_method(ridge_regression)\n",
    "param_1.set_degree(10)\n",
    "param_1.set_to_test(['lambda'])\n",
    "param_1.set_viz(False)\n",
    "\n",
    "param_1 = cross_validation_poly_gas(y_1, class_1, param_1)\n",
    "\n",
    "print(param_1.feature_list)\n",
    "print(param_1.polynomial_selection)\n",
    "print(param_1.best_error)"
   ]
  },
  {
   "cell_type": "markdown",
   "metadata": {},
   "source": [
    "# Class 2\n",
    "\n",
    "***"
   ]
  },
  {
   "cell_type": "code",
   "execution_count": null,
   "metadata": {},
   "outputs": [],
   "source": [
    "param_2 = Parameters()\n",
    "param_2.set_method(ridge_regression)\n",
    "param_2.set_degree(10)\n",
    "param_2.set_to_test(['lambda'])\n",
    "param_2.set_viz(False)\n",
    "\n",
    "param_2 = cross_validation_poly_gas(y_2, class_2, param_2)\n",
    "\n",
    "print(param_2.feature_list)\n",
    "print(param_2.polynomial_selection)\n",
    "print(param_2.best_error)"
   ]
  },
  {
   "cell_type": "markdown",
   "metadata": {},
   "source": [
    "# Class 3\n",
    "\n",
    "***"
   ]
  },
  {
   "cell_type": "code",
   "execution_count": null,
   "metadata": {},
   "outputs": [],
   "source": [
    "param_3 = Parameters()\n",
    "param_3.set_method(ridge_regression)\n",
    "param_3.set_degree(10)\n",
    "param_3.set_to_test(['lambda'])\n",
    "param_3.set_viz(False)\n",
    "\n",
    "param_3 = cross_validation_poly_gas(y_3, class_3, param_3)\n",
    "\n",
    "print(param_3.feature_list)\n",
    "print(param_3.polynomial_selection)\n",
    "print(param_3.best_error)"
   ]
  },
  {
   "cell_type": "markdown",
   "metadata": {},
   "source": [
    "# Train part\n",
    "\n",
    "***"
   ]
  },
  {
   "cell_type": "code",
   "execution_count": null,
   "metadata": {},
   "outputs": [],
   "source": [
    "DATA_TRAIN_PATH = \"../data/train.csv\"\n",
    "data_y_, data_set_, ids = load_csv_data(DATA_TRAIN_PATH, sub_sample=False)\n",
    "# Classification of the output\n",
    "y_0, y_1, y_2, y_3 = y_classification(data_y_, data_set_)\n",
    "#EDA for each class\n",
    "class_0, class_1, class_2, class_3 = EDA_class(data_set_)"
   ]
  },
  {
   "cell_type": "code",
   "execution_count": null,
   "metadata": {},
   "outputs": [],
   "source": [
    "class_0_ = build_polynomial_features(class_0, param_0)\n",
    "loss_0, w_0 = ridge_regression(y_0, class_0_, param_0)"
   ]
  },
  {
   "cell_type": "code",
   "execution_count": null,
   "metadata": {},
   "outputs": [],
   "source": [
    "class_1_ = build_polynomial_features(class_1, param_1)\n",
    "loss_1, w_1 = ridge_regression(y_1, class_1_, param_1)"
   ]
  },
  {
   "cell_type": "code",
   "execution_count": null,
   "metadata": {},
   "outputs": [],
   "source": [
    "class_2_ = build_polynomial_features(class_2, param_2)\n",
    "loss_2, w_2 = ridge_regression(y_2, class_2_, param_2)"
   ]
  },
  {
   "cell_type": "code",
   "execution_count": null,
   "metadata": {},
   "outputs": [],
   "source": [
    "class_3_ = build_polynomial_features(class_3, param_3)\n",
    "loss_3, w_3 = ridge_regression(y_3, class_3_, param_3)"
   ]
  },
  {
   "cell_type": "code",
   "execution_count": null,
   "metadata": {},
   "outputs": [],
   "source": [
    "DATA_TEST_PATH = \"../data/test.csv\"\n",
    "_, data_test_set, ids_test = load_csv_data(DATA_TEST_PATH)\n",
    "# EDA for each class\n",
    "class_0_test, class_1_test, class_2_test, class_3_test = EDA_class(data_test_set)"
   ]
  },
  {
   "cell_type": "code",
   "execution_count": null,
   "metadata": {},
   "outputs": [],
   "source": [
    "class_0_test = build_polynomial_features(class_0_test, param_0)\n",
    "class_1_test = build_polynomial_features(class_1_test, param_1)\n",
    "class_2_test = build_polynomial_features(class_2_test, param_2)\n",
    "class_3_test = build_polynomial_features(class_3_test, param_3)"
   ]
  },
  {
   "cell_type": "code",
   "execution_count": null,
   "metadata": {},
   "outputs": [],
   "source": [
    "# Get the predictions on the train set\n",
    "y_pred_0 = predict_labels(w_0, class_0_test)\n",
    "y_pred_1 = predict_labels(w_1, class_1_test)\n",
    "y_pred_2 = predict_labels(w_2, class_2_test)\n",
    "y_pred_3 = predict_labels(w_3, class_3_test)"
   ]
  },
  {
   "cell_type": "code",
   "execution_count": null,
   "metadata": {},
   "outputs": [],
   "source": [
    "y_pred = rebuild_y(y_pred_0, y_pred_1, y_pred_2, y_pred_3, data_test_set)"
   ]
  },
  {
   "cell_type": "code",
   "execution_count": null,
   "metadata": {},
   "outputs": [],
   "source": [
    "OUTPUT_PATH = '../data/test_prediction_submission.csv' # TODO: fill in desired name of output file for submission\n",
    "create_csv_submission(ids_test, y_pred, OUTPUT_PATH)"
   ]
  },
  {
   "cell_type": "code",
   "execution_count": null,
   "metadata": {},
   "outputs": [],
   "source": []
  }
 ],
 "metadata": {
  "anaconda-cloud": {},
  "interpreter": {
   "hash": "ab6a13f8d35690fc54a0784a7c413b5c6b88c02b498e2bc6bdd4734947920c66"
  },
  "kernelspec": {
   "display_name": "Python 3.8.8 64-bit ('base': conda)",
   "name": "python3"
  },
  "language_info": {
   "codemirror_mode": {
    "name": "ipython",
    "version": 3
   },
   "file_extension": ".py",
   "mimetype": "text/x-python",
   "name": "python",
   "nbconvert_exporter": "python",
   "pygments_lexer": "ipython3",
   "version": "3.8.8"
  }
 },
 "nbformat": 4,
 "nbformat_minor": 4
}
