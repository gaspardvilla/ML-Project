{
 "cells": [
  {
   "cell_type": "code",
   "execution_count": 54,
   "metadata": {
    "tags": []
   },
   "outputs": [
    {
     "name": "stdout",
     "output_type": "stream",
     "text": [
      "The autoreload extension is already loaded. To reload it, use:\n",
      "  %reload_ext autoreload\n"
     ]
    },
    {
     "name": "stderr",
     "output_type": "stream",
     "text": [
      "[autoreload of cross_validation failed: Traceback (most recent call last):\n",
      "  File \"/Users/gaspardvilla/opt/anaconda3/lib/python3.8/site-packages/IPython/extensions/autoreload.py\", line 245, in check\n",
      "    superreload(m, reload, self.old_objects)\n",
      "  File \"/Users/gaspardvilla/opt/anaconda3/lib/python3.8/site-packages/IPython/extensions/autoreload.py\", line 394, in superreload\n",
      "    module = reload(module)\n",
      "  File \"/Users/gaspardvilla/opt/anaconda3/lib/python3.8/imp.py\", line 314, in reload\n",
      "    return importlib.reload(module)\n",
      "  File \"/Users/gaspardvilla/opt/anaconda3/lib/python3.8/importlib/__init__.py\", line 169, in reload\n",
      "    _bootstrap._exec(spec, module)\n",
      "  File \"<frozen importlib._bootstrap>\", line 604, in _exec\n",
      "  File \"<frozen importlib._bootstrap_external>\", line 783, in exec_module\n",
      "  File \"<frozen importlib._bootstrap>\", line 219, in _call_with_frames_removed\n",
      "  File \"/Users/gaspardvilla/Documents/EPFL/5ème année/Semestre IX/Machine Learning/Workspace/Project 1/scripts/cross_validation.py\", line 2, in <module>\n",
      "    from typing_extensions import ParamSpecArgs\n",
      "ImportError: cannot import name 'ParamSpecArgs' from 'typing_extensions' (/Users/gaspardvilla/opt/anaconda3/lib/python3.8/site-packages/typing_extensions.py)\n",
      "]\n"
     ]
    }
   ],
   "source": [
    "# Useful starting lines\n",
    "%matplotlib inline\n",
    "import numpy as np\n",
    "import matplotlib.pyplot as plt\n",
    "from proj1_helpers import *\n",
    "from implementations import *\n",
    "from losses import *\n",
    "from plots import *\n",
    "from EDA import *\n",
    "from cross_validation import *\n",
    "%load_ext autoreload\n",
    "%autoreload 2"
   ]
  },
  {
   "cell_type": "markdown",
   "metadata": {},
   "source": [
    "## Load the training data into feature matrix, class labels, and event ids:"
   ]
  },
  {
   "cell_type": "code",
   "execution_count": 55,
   "metadata": {
    "collapsed": false,
    "jupyter": {
     "outputs_hidden": false
    }
   },
   "outputs": [],
   "source": [
    "DATA_TRAIN_PATH = \"../data/train.csv\"\n",
    "data_y, data_set, ids = load_csv_data(DATA_TRAIN_PATH, sub_sample=True)"
   ]
  },
  {
   "cell_type": "code",
   "execution_count": 56,
   "metadata": {},
   "outputs": [],
   "source": [
    "# Fixing the seed\n",
    "seed = 8"
   ]
  },
  {
   "cell_type": "markdown",
   "metadata": {},
   "source": [
    "### Split and classify data"
   ]
  },
  {
   "cell_type": "code",
   "execution_count": 57,
   "metadata": {},
   "outputs": [],
   "source": [
    "# Classification of the output\n",
    "y_0, y_1, y_2, y_3 = y_classification(data_y, data_set)"
   ]
  },
  {
   "cell_type": "code",
   "execution_count": 58,
   "metadata": {},
   "outputs": [],
   "source": [
    "#EDA for each class\n",
    "class_0, class_1, class_2, class_3 = EDA_class(data_set)"
   ]
  },
  {
   "cell_type": "code",
   "execution_count": 59,
   "metadata": {},
   "outputs": [],
   "source": [
    "# Set the \"spliter\" value correponding to the part dedicated for train\n",
    "spliter = 0.8\n",
    "\n",
    "# Split into a train and a test set\n",
    "train_0, y_tr_0, test_0, y_te_0 = train_test_separator(y_0, class_0)\n",
    "train_1, y_tr_1, test_1, y_te_1 = train_test_separator(y_1, class_1)\n",
    "train_2, y_tr_2, test_2, y_te_2 = train_test_separator(y_2, class_2)\n",
    "train_3, y_tr_3, test_3, y_te_3 = train_test_separator(y_3, class_3)"
   ]
  },
  {
   "cell_type": "markdown",
   "metadata": {},
   "source": [
    "# Test for logistic and reguralized logitic regressions\n",
    "\n",
    "***"
   ]
  },
  {
   "cell_type": "code",
   "execution_count": null,
   "metadata": {},
   "outputs": [],
   "source": [
    "# Setting parameters\n",
    "neg_log = Neg_log()\n",
    "param_log = Parameters()\n",
    "param_log.set_degree(10)\n",
    "param_log.set_gamma(1e-6)\n",
    "param_log.set_lambda(1e-2)\n",
    "param_log.set_max_iter(100)\n",
    "param_log.set_method(ridge_regression)\n",
    "param_log.set_loss_fct(neg_log)\n",
    "param_log.set_to_test(['lambda'])\n",
    "param_log.set_viz(False)\n",
    "param_log.set_use_backward_selection(False)\n",
    "param_log.set_use_interactions(True)"
   ]
  },
  {
   "cell_type": "code",
   "execution_count": null,
   "metadata": {},
   "outputs": [],
   "source": [
    "loss, w = ridge_regression(y_0, class_0, param_log)\n",
    "y_pred = predict_labels(w, class_0)"
   ]
  },
  {
   "cell_type": "code",
   "execution_count": null,
   "metadata": {},
   "outputs": [],
   "source": [
    "counting_errors(y_pred, y_0)"
   ]
  },
  {
   "cell_type": "markdown",
   "metadata": {},
   "source": [
    "# Degree test\n",
    "\n",
    "***"
   ]
  },
  {
   "cell_type": "code",
   "execution_count": 60,
   "metadata": {},
   "outputs": [],
   "source": [
    "param = Parameters()\n",
    "param.set_degree(6)\n",
    "param.set_method(ridge_regression)\n",
    "param.set_to_test(['lambda'])\n",
    "param.set_viz(False)\n",
    "param.set_use_backward_selection(False)\n",
    "param.set_use_interactions(True)"
   ]
  },
  {
   "cell_type": "code",
   "execution_count": 61,
   "metadata": {},
   "outputs": [
    {
     "name": "stdout",
     "output_type": "stream",
     "text": [
      "yolo\n",
      "yolo\n",
      "yolo\n",
      "yolo\n",
      "yolo\n",
      "yolo\n",
      "yolo\n",
      "yolo\n",
      "yolo\n",
      "yolo\n",
      "yolo\n",
      "yolo\n",
      "yolo\n",
      "yolo\n",
      "yolo\n",
      "yolo\n",
      "yolo\n",
      "yolo\n",
      "yolo\n",
      "yolo\n",
      "yolo\n",
      "yolo\n",
      "yolo\n",
      "yolo\n",
      "yolo\n",
      "yolo\n",
      "yolo\n",
      "yolo\n",
      "yolo\n",
      "yolo\n",
      "yolo\n",
      "yolo\n",
      "yolo\n",
      "yolo\n",
      "yolo\n",
      "yolo\n",
      "yolo\n",
      "yolo\n",
      "yolo\n",
      "yolo\n",
      "yolo\n",
      "yolo\n",
      "yolo\n",
      "yolo\n",
      "yolo\n",
      "forward:  14.811083123425693\n",
      "backward:  100\n"
     ]
    },
    {
     "data": {
      "text/plain": [
       "'Forward'"
      ]
     },
     "execution_count": 61,
     "metadata": {},
     "output_type": "execute_result"
    }
   ],
   "source": [
    "param = cross_validation_poly_gas(y_0, class_0, param)\n",
    "param.polynomial_selection"
   ]
  },
  {
   "cell_type": "code",
   "execution_count": 62,
   "metadata": {},
   "outputs": [
    {
     "name": "stdout",
     "output_type": "stream",
     "text": [
      "[[0. 0. 3. 4. 8. 1. 3. 6. 7. 8. 9. 2. 4. 7. 1. 3. 1. 2. 8. 0.]\n",
      " [0. 1. 1. 1. 1. 2. 2. 2. 2. 2. 2. 3. 3. 3. 4. 4. 5. 5. 5. 6.]]\n",
      "14.811083123425693\n",
      "(1985, 10)\n",
      "[[0. 1. 3. 3.]\n",
      " [0. 2. 6. 7.]]\n",
      "1\n",
      "2\n"
     ]
    }
   ],
   "source": [
    "print(param.feature_list)\n",
    "print(param.best_error)\n",
    "print(class_0.shape)\n",
    "print(param.kept_interactions)\n",
    "\n",
    "for i in [1,2]:\n",
    "    print(i)"
   ]
  },
  {
   "cell_type": "code",
   "execution_count": null,
   "metadata": {},
   "outputs": [],
   "source": [
    "print(param.feature_list)\n",
    "print(param.best_error)\n",
    "print(class_0.shape)\n",
    "\n",
    "for i in [1,2]:\n",
    "    print(i)"
   ]
  },
  {
   "cell_type": "markdown",
   "metadata": {},
   "source": [
    "# Tutrial for cross validation\n",
    "\n",
    "***"
   ]
  },
  {
   "cell_type": "code",
   "execution_count": null,
   "metadata": {},
   "outputs": [],
   "source": [
    "# Create a \"paramters\" object\n",
    "param = Parameters()\n",
    "\n",
    "# Set up some parameters such as 'max_iter', 'gamma', etc...\n",
    "param.set_max_iter(100)\n",
    "param.set_mini_batch_size(100)\n",
    "param.set_gamma(1e-1) # useless for the cross-validation but it's an example\n",
    "\n",
    "# Define the method and the loss function you want\n",
    "param.set_method(least_squares_GD)\n",
    "mse = MSE()\n",
    "param.set_loss_fct(mse)\n",
    "\n",
    "# Select the parameter you want to test ('gamma' or 'lambda' or both)\n",
    "param.set_to_test(['gamma'])\n",
    "\n",
    "# Define the range of your parameter that will be test\n",
    "param.set_gamma_range(np.logspace(-10,0,30))\n",
    "\n",
    "# Tell if you want visualization of your result or not\n",
    "param.set_viz(True)\n",
    "\n",
    "# Select the class of your data set: 0, 1, 2 or 3\n",
    "class_ind = 0"
   ]
  },
  {
   "cell_type": "code",
   "execution_count": null,
   "metadata": {},
   "outputs": [],
   "source": [
    "for idx in range(4):\n",
    "    opt_param = test_function(data_y, data_set, param, idx)"
   ]
  },
  {
   "cell_type": "markdown",
   "metadata": {},
   "source": [
    "# See some histograms\n",
    "\n",
    "***\n",
    "\n",
    "#### Only on class 0"
   ]
  },
  {
   "cell_type": "code",
   "execution_count": null,
   "metadata": {},
   "outputs": [],
   "source": [
    "classs = class_0\n",
    "yy = y_0"
   ]
  },
  {
   "cell_type": "code",
   "execution_count": null,
   "metadata": {},
   "outputs": [],
   "source": [
    "ind_y_neg = np.array(np.where(yy == 0)[0])\n",
    "ind_y_pos = np.array(np.where(yy == 1)[0])"
   ]
  },
  {
   "cell_type": "code",
   "execution_count": null,
   "metadata": {},
   "outputs": [],
   "source": [
    "for col in range(16):\n",
    "    plt.figure(figsize=(8,5))\n",
    "    plt.hist(classs[ind_y_neg, col], bins=100, histtype = 'step', color = 'red', density=True)\n",
    "    plt.hist(classs[ind_y_pos, col], bins=100, histtype = 'step', density=True)\n",
    "    plt.title('Histogram of feature 0')\n",
    "    plt.show()"
   ]
  },
  {
   "cell_type": "markdown",
   "metadata": {},
   "source": [
    "***\n",
    "***\n",
    "\n",
    "# Submission example"
   ]
  },
  {
   "cell_type": "code",
   "execution_count": null,
   "metadata": {},
   "outputs": [],
   "source": [
    "param = Parameters()\n",
    "param.set_method(ridge_regression)\n",
    "param.set_lambda(1e-3)\n",
    "param.set_method(ridge_regression)\n",
    "degree = 10"
   ]
  },
  {
   "cell_type": "code",
   "execution_count": null,
   "metadata": {},
   "outputs": [],
   "source": [
    "# Train our model and get the response weight and its loss\n",
    "param.set_init_w(np.zeros(build_poly(class_0, degree).shape[1]))\n",
    "mse_0, w_0 = param.method(y_0, build_poly(class_0, degree) , param)"
   ]
  },
  {
   "cell_type": "code",
   "execution_count": null,
   "metadata": {},
   "outputs": [],
   "source": [
    "# Train our model and get the response weight and its loss\n",
    "param.set_init_w(np.zeros(build_poly(class_1, degree).shape[1]))\n",
    "mse_1, w_1 = param.method(y_1, build_poly(class_1, degree) , param)"
   ]
  },
  {
   "cell_type": "code",
   "execution_count": null,
   "metadata": {},
   "outputs": [],
   "source": [
    "# Train our model and get the response weight and its loss\n",
    "param.set_init_w(np.zeros(build_poly(class_2, degree).shape[1]))\n",
    "mse_2, w_2 = param.method(y_2, build_poly(class_2, degree) , param)"
   ]
  },
  {
   "cell_type": "code",
   "execution_count": null,
   "metadata": {},
   "outputs": [],
   "source": [
    "# Train our model and get the response weight and its loss\n",
    "param.set_init_w(np.zeros(build_poly(class_3, degree).shape[1]))\n",
    "mse_3, w_3 = param.method(y_3, build_poly(class_3, degree) , param)"
   ]
  },
  {
   "cell_type": "code",
   "execution_count": null,
   "metadata": {},
   "outputs": [],
   "source": [
    "print(w_0.shape)\n",
    "print(class_0.shape)"
   ]
  },
  {
   "cell_type": "code",
   "execution_count": null,
   "metadata": {},
   "outputs": [],
   "source": [
    "# Get the predictions on the train set\n",
    "y_pred_0 = predict_labels(w_0, build_poly(class_0, degree))\n",
    "y_pred_1 = predict_labels(w_1, build_poly(class_1, degree))\n",
    "y_pred_2 = predict_labels(w_2, build_poly(class_2, degree))\n",
    "y_pred_3 = predict_labels(w_3, build_poly(class_3, degree))"
   ]
  },
  {
   "cell_type": "code",
   "execution_count": null,
   "metadata": {},
   "outputs": [],
   "source": [
    "y_pred_train = rebuild_y(y_pred_0, y_pred_1, y_pred_2, y_pred_3, data_set)\n",
    "counting_errors(y_pred_train, data_y)"
   ]
  },
  {
   "cell_type": "code",
   "execution_count": null,
   "metadata": {},
   "outputs": [],
   "source": [
    "DATA_TEST_PATH = \"../data/test.csv\"\n",
    "_, data_test_set, ids_test = load_csv_data(DATA_TEST_PATH)"
   ]
  },
  {
   "cell_type": "code",
   "execution_count": null,
   "metadata": {},
   "outputs": [],
   "source": [
    "# EDA for each class\n",
    "class_0, class_1, class_2, class_3 = EDA_class(data_test_set)\n",
    "\n",
    "# Remove from graoh analysis\n",
    "class_0 = remove_feature(class_0, [2, 5, 8, 11, 13])\n",
    "class_1 = remove_feature(class_1, [4, 10, 11, 13, 14, 15, 18])\n",
    "class_2 = remove_feature(class_2, [2, 5, 8, 11, 13])\n",
    "class_3 = remove_feature(class_3, [5, 7, 10, 13, 14, 16, 17, 18, 19, 20, 22, 23, 25, 26])\n",
    "\n",
    "# Get the predictions on the train set\n",
    "y_pred_0 = predict_labels(w_0, build_poly(class_0, degree))\n",
    "y_pred_1 = predict_labels(w_1, build_poly(class_1, degree))\n",
    "y_pred_2 = predict_labels(w_2, build_poly(class_2, degree))\n",
    "y_pred_3 = predict_labels(w_3, build_poly(class_3, degree))\n",
    "\n",
    "y_pred = rebuild_y(y_pred_0, y_pred_1, y_pred_2, y_pred_3, data_test_set)"
   ]
  },
  {
   "cell_type": "code",
   "execution_count": null,
   "metadata": {},
   "outputs": [],
   "source": [
    "OUTPUT_PATH = '../data/test_prediction_submission.csv' # TODO: fill in desired name of output file for submission\n",
    "create_csv_submission(ids_test, y_pred, OUTPUT_PATH)"
   ]
  },
  {
   "cell_type": "code",
   "execution_count": null,
   "metadata": {},
   "outputs": [],
   "source": []
  }
 ],
 "metadata": {
  "anaconda-cloud": {},
  "interpreter": {
   "hash": "ab6a13f8d35690fc54a0784a7c413b5c6b88c02b498e2bc6bdd4734947920c66"
  },
  "kernelspec": {
   "display_name": "Python 3.8.8 64-bit ('base': conda)",
   "name": "python3"
  },
  "language_info": {
   "codemirror_mode": {
    "name": "ipython",
    "version": 3
   },
   "file_extension": ".py",
   "mimetype": "text/x-python",
   "name": "python",
   "nbconvert_exporter": "python",
   "pygments_lexer": "ipython3",
   "version": "3.8.8"
  }
 },
 "nbformat": 4,
 "nbformat_minor": 4
}
