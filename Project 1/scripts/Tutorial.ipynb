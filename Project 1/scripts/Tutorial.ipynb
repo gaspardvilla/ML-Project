{
 "cells": [
  {
   "cell_type": "code",
   "execution_count": 1,
   "metadata": {
    "tags": []
   },
   "outputs": [],
   "source": [
    "# Useful starting lines\n",
    "%matplotlib inline\n",
    "import numpy as np\n",
    "import matplotlib.pyplot as plt\n",
    "from proj1_helpers import *\n",
    "from implementations import *\n",
    "from losses import *\n",
    "from EDA import *\n",
    "from cross_validation import *\n",
    "%load_ext autoreload\n",
    "%autoreload 2"
   ]
  },
  {
   "cell_type": "markdown",
   "metadata": {},
   "source": [
    "## Load the training data into feature matrix, class labels, and event ids:"
   ]
  },
  {
   "cell_type": "code",
   "execution_count": 30,
   "metadata": {
    "collapsed": false,
    "jupyter": {
     "outputs_hidden": false
    }
   },
   "outputs": [],
   "source": [
    "DATA_TRAIN_PATH = \"../data/train.csv\"\n",
    "data_y, data_set, ids = load_csv_data(DATA_TRAIN_PATH, sub_sample=True)"
   ]
  },
  {
   "cell_type": "code",
   "execution_count": 31,
   "metadata": {},
   "outputs": [],
   "source": [
    "# Fixing the seed\n",
    "seed = 8"
   ]
  },
  {
   "cell_type": "markdown",
   "metadata": {},
   "source": [
    "### Split and classify data"
   ]
  },
  {
   "cell_type": "code",
   "execution_count": 32,
   "metadata": {},
   "outputs": [],
   "source": [
    "# Classification of the output\n",
    "y_0, y_1, y_2, y_3 = y_classification(data_y, data_set)"
   ]
  },
  {
   "cell_type": "code",
   "execution_count": 33,
   "metadata": {},
   "outputs": [],
   "source": [
    "#EDA for each class\n",
    "class_0, class_1, class_2, class_3 = EDA_class(data_set)"
   ]
  },
  {
   "cell_type": "code",
   "execution_count": 34,
   "metadata": {},
   "outputs": [],
   "source": [
    "# Set the \"spliter\" value correponding to the part dedicated for train\n",
    "spliter = 0.8\n",
    "\n",
    "# Split into a train and a test set\n",
    "train_0, y_tr_0, test_0, y_te_0 = train_test_separator(y_0, class_0)\n",
    "train_1, y_tr_1, test_1, y_te_1 = train_test_separator(y_1, class_1)\n",
    "train_2, y_tr_2, test_2, y_te_2 = train_test_separator(y_2, class_2)\n",
    "train_3, y_tr_3, test_3, y_te_3 = train_test_separator(y_3, class_3)"
   ]
  },
  {
   "cell_type": "markdown",
   "metadata": {},
   "source": [
    "# Tutrial for cross validation\n",
    "\n",
    "***"
   ]
  },
  {
   "cell_type": "code",
   "execution_count": 35,
   "metadata": {},
   "outputs": [],
   "source": [
    "# Create a \"paramters\" object\n",
    "param = Parameters()\n",
    "\n",
    "# Set up some parameters such as 'max_iter', 'gamma', etc...\n",
    "param.set_max_iter(100)\n",
    "param.set_mini_batch_size(100)\n",
    "param.set_gamma(1e-1) # useless for the cross-validation but it's an example\n",
    "\n",
    "# Define the method and the loss function you want\n",
    "param.set_method(least_squares_SGD)\n",
    "mse = MSE()\n",
    "param.set_loss_fct(mse)\n",
    "\n",
    "# Select the parameter you want to test ('gamma' or 'lambda' or both)\n",
    "param.set_to_test(['gamma'])\n",
    "\n",
    "# Define the range of your parameter that will be test\n",
    "param.set_gamma_range(np.logspace(-6,0,30))\n",
    "\n",
    "# Tell if you want visualization of your result or not\n",
    "param.set_viz(True)\n",
    "\n",
    "# Select the class of your data set: 0, 1, 2 or 3\n",
    "class_ind = 0"
   ]
  },
  {
   "cell_type": "code",
   "execution_count": 37,
   "metadata": {},
   "outputs": [
    {
     "name": "stdout",
     "output_type": "stream",
     "text": [
      "Test error: 15.869017632241814\n",
      "Best gamma: 0.6210169418915616\n"
     ]
    },
    {
     "data": {
      "image/png": "[encoded data removed]",
      "text/plain": [
       "<Figure size 432x288 with 1 Axes>"
      ]
     },
     "metadata": {
      "needs_background": "light"
     },
     "output_type": "display_data"
    }
   ],
   "source": [
    "opt_param = test_function(data_y, data_set, param, class_ind)"
   ]
  },
  {
   "cell_type": "code",
   "execution_count": 26,
   "metadata": {},
   "outputs": [
    {
     "data": {
      "text/plain": [
       "0.0452035365636025"
      ]
     },
     "execution_count": 26,
     "metadata": {},
     "output_type": "execute_result"
    }
   ],
   "source": [
    "opt_param.gamma"
   ]
  },
  {
   "cell_type": "markdown",
   "metadata": {},
   "source": [
    "# See some histograms\n",
    "\n",
    "***\n",
    "\n",
    "#### Only on class 0"
   ]
  },
  {
   "cell_type": "code",
   "execution_count": null,
   "metadata": {},
   "outputs": [],
   "source": [
    "classs = class_0\n",
    "yy = y_0"
   ]
  },
  {
   "cell_type": "code",
   "execution_count": null,
   "metadata": {},
   "outputs": [],
   "source": [
    "ind_y_neg = np.array(np.where(yy == 0)[0])\n",
    "ind_y_pos = np.array(np.where(yy == 1)[0])"
   ]
  },
  {
   "cell_type": "code",
   "execution_count": null,
   "metadata": {},
   "outputs": [],
   "source": [
    "for col in range(16):\n",
    "    plt.figure(figsize=(8,5))\n",
    "    plt.hist(classs[ind_y_neg, col], bins=100, histtype = 'step', color = 'red', density=True)\n",
    "    plt.hist(classs[ind_y_pos, col], bins=100, histtype = 'step', density=True)\n",
    "    plt.title('Histogram of feature 0')\n",
    "    plt.show()"
   ]
  },
  {
   "cell_type": "markdown",
   "metadata": {},
   "source": [
    "***\n",
    "***\n",
    "\n",
    "# Submission example"
   ]
  },
  {
   "cell_type": "code",
   "execution_count": null,
   "metadata": {},
   "outputs": [],
   "source": [
    "param = Parameters()"
   ]
  },
  {
   "cell_type": "code",
   "execution_count": null,
   "metadata": {},
   "outputs": [],
   "source": [
    "# Train our model and get the response weight and its loss\n",
    "param.set_init_w(np.zeros(class_0.shape[1]))\n",
    "mse_0, w_0 = param.method(y_0, class_0, param)"
   ]
  },
  {
   "cell_type": "code",
   "execution_count": null,
   "metadata": {},
   "outputs": [],
   "source": [
    "# Train our model and get the response weight and its loss\n",
    "param.set_init_w(np.zeros(class_1.shape[1]))\n",
    "mse_1, w_1 = param.method(y_1, class_1, param)"
   ]
  },
  {
   "cell_type": "code",
   "execution_count": null,
   "metadata": {},
   "outputs": [],
   "source": [
    "# Train our model and get the response weight and its loss\n",
    "param.set_init_w(np.zeros(class_2.shape[1]))\n",
    "mse_2, w_2 = param.method(y_2, class_2, param)"
   ]
  },
  {
   "cell_type": "code",
   "execution_count": null,
   "metadata": {},
   "outputs": [],
   "source": [
    "# Train our model and get the response weight and its loss\n",
    "param.set_init_w(np.zeros(class_3.shape[1]))\n",
    "mse_3, w_3 = param.method(y_3, class_3, param)"
   ]
  },
  {
   "cell_type": "code",
   "execution_count": null,
   "metadata": {},
   "outputs": [],
   "source": [
    "print(w_0.shape)\n",
    "print(class_0.shape)"
   ]
  },
  {
   "cell_type": "code",
   "execution_count": null,
   "metadata": {},
   "outputs": [],
   "source": [
    "# Get the predictions on the train set\n",
    "y_pred_0 = predict_labels(w_0, class_0)\n",
    "y_pred_1 = predict_labels(w_1, class_1)\n",
    "y_pred_2 = predict_labels(w_2, class_2)\n",
    "y_pred_3 = predict_labels(w_3, class_3)"
   ]
  },
  {
   "cell_type": "code",
   "execution_count": null,
   "metadata": {},
   "outputs": [],
   "source": [
    "y_pred_train = rebuild_y(y_pred_0, y_pred_1, y_pred_2, y_pred_3, data_set)\n",
    "counting_errors(y_pred_train, data_y)"
   ]
  },
  {
   "cell_type": "code",
   "execution_count": null,
   "metadata": {},
   "outputs": [],
   "source": [
    "DATA_TEST_PATH = \"../data/test.csv\"\n",
    "_, data_test_set, ids_test = load_csv_data(DATA_TEST_PATH)"
   ]
  },
  {
   "cell_type": "code",
   "execution_count": null,
   "metadata": {},
   "outputs": [],
   "source": [
    "# EDA for each class\n",
    "class_0, class_1, class_2, class_3 = EDA_class(data_test_set)\n",
    "\n",
    "# Get the predictions on the train set\n",
    "y_pred_0 = predict_labels(w_0, class_0)\n",
    "y_pred_1 = predict_labels(w_1, class_1)\n",
    "y_pred_2 = predict_labels(w_2, class_2)\n",
    "y_pred_3 = predict_labels(w_3, class_3)\n",
    "\n",
    "y_pred = rebuild_y(y_pred_0, y_pred_1, y_pred_2, y_pred_3, data_test_set)"
   ]
  },
  {
   "cell_type": "code",
   "execution_count": null,
   "metadata": {},
   "outputs": [],
   "source": [
    "OUTPUT_PATH = '../data/test_prediction_submission.csv' # TODO: fill in desired name of output file for submission\n",
    "create_csv_submission(ids_test, y_pred, OUTPUT_PATH)"
   ]
  },
  {
   "cell_type": "code",
   "execution_count": null,
   "metadata": {},
   "outputs": [],
   "source": []
  }
 ],
 "metadata": {
  "anaconda-cloud": {},
  "interpreter": {
   "hash": "ab6a13f8d35690fc54a0784a7c413b5c6b88c02b498e2bc6bdd4734947920c66"
  },
  "kernelspec": {
   "display_name": "Python 3.8.8 64-bit ('base': conda)",
   "name": "python3"
  },
  "language_info": {
   "codemirror_mode": {
    "name": "ipython",
    "version": 3
   },
   "file_extension": ".py",
   "mimetype": "text/x-python",
   "name": "python",
   "nbconvert_exporter": "python",
   "pygments_lexer": "ipython3",
   "version": "3.8.8"
  }
 },
 "nbformat": 4,
 "nbformat_minor": 4
}
