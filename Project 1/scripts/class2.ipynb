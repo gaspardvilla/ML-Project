{
 "cells": [
  {
   "cell_type": "code",
   "execution_count": null,
   "id": "c1e6a496-02f8-46cb-8fa6-68531bcd2c91",
   "metadata": {
    "tags": []
   },
   "outputs": [],
   "source": [
    "# Useful starting lines\n",
    "%matplotlib inline\n",
    "import numpy as np\n",
    "import matplotlib.pyplot as plt\n",
    "from proj1_helpers import *\n",
    "from implementations import *\n",
    "from losses import *\n",
    "from EDA import *\n",
    "from plots import *\n",
    "%load_ext autoreload\n",
    "%autoreload 2"
   ]
  },
  {
   "cell_type": "markdown",
   "id": "9a9034a6-8c48-4e9f-b734-4ae2b0d3e276",
   "metadata": {},
   "source": [
    "# Class 2\n",
    "***"
   ]
  },
  {
   "cell_type": "markdown",
   "id": "a8efee8e-ab53-4201-97ca-52efc3ad8382",
   "metadata": {},
   "source": [
    "## Load the training data into feature matrix, class labels, and event ids:"
   ]
  },
  {
   "cell_type": "code",
   "execution_count": null,
   "id": "a1e07655-4a34-48b6-9f9d-437568868950",
   "metadata": {
    "collapsed": false,
    "jupyter": {
     "outputs_hidden": false
    }
   },
   "outputs": [],
   "source": [
    "DATA_TRAIN_PATH = \"../data/train.csv\"\n",
    "data_y, data_set, ids = load_csv_data(DATA_TRAIN_PATH)"
   ]
  },
  {
   "cell_type": "code",
   "execution_count": null,
   "id": "d2fb496d-eb11-46ed-8e6b-2d05e640b5bd",
   "metadata": {},
   "outputs": [],
   "source": [
    "# Fixing the seed\n",
    "seed = 8"
   ]
  },
  {
   "cell_type": "markdown",
   "id": "4f51a14e-faa0-458f-a9ed-8d053b5d5910",
   "metadata": {},
   "source": [
    "### Split and classify data"
   ]
  },
  {
   "cell_type": "code",
   "execution_count": null,
   "id": "bbb5ad09-1115-4838-9a83-72971e0aa8e8",
   "metadata": {},
   "outputs": [],
   "source": [
    "# Classification of the output\n",
    "y_0, y_1, y_2, y_3 = y_classification(data_y, data_set)"
   ]
  },
  {
   "cell_type": "code",
   "execution_count": null,
   "id": "c4fc6fea-36be-40b0-92d9-8049b5f69d8e",
   "metadata": {},
   "outputs": [],
   "source": [
    "#EDA for each class\n",
    "class_0, class_1, class_2, class_3 = EDA_class(data_set)"
   ]
  },
  {
   "cell_type": "markdown",
   "id": "3e0ca477-019f-4442-97eb-73b93e74a746",
   "metadata": {},
   "source": [
    "## Correlation matrix"
   ]
  },
  {
   "cell_type": "code",
   "execution_count": null,
   "id": "f0ced4d1-1576-4aa3-a009-b67772776793",
   "metadata": {},
   "outputs": [],
   "source": [
    "correlation_plot(class_2)"
   ]
  },
  {
   "cell_type": "markdown",
   "id": "48e9ff0d-708a-4e5c-854d-e1b4121eed83",
   "metadata": {},
   "source": [
    "No correlated features to delete"
   ]
  },
  {
   "cell_type": "markdown",
   "id": "7fa2f186-429b-451e-88b3-a3011ac4f8b0",
   "metadata": {},
   "source": [
    "## 2D-Histograms (or density plots)"
   ]
  },
  {
   "cell_type": "code",
   "execution_count": null,
   "id": "bc79484b-61e8-4e9a-bc84-9ead186e3f84",
   "metadata": {},
   "outputs": [],
   "source": [
    "for i in range (class_2.shape[1]):\n",
    "    for j in range (class_2.shape[1]):\n",
    "        if (i!=j):\n",
    "            density_plot(class_2, i, j)"
   ]
  },
  {
   "cell_type": "markdown",
   "id": "8d0e8294-7e80-43b9-aded-012ca6780944",
   "metadata": {},
   "source": [
    "## Histograms"
   ]
  },
  {
   "cell_type": "code",
   "execution_count": null,
   "id": "b61619a4-207e-4601-b427-25059cd70a28",
   "metadata": {},
   "outputs": [],
   "source": [
    "histogram_plot(y_2, class_2)"
   ]
  },
  {
   "cell_type": "code",
   "execution_count": null,
   "id": "1d818e1f-5e10-44c9-a57b-1de29d272e4b",
   "metadata": {},
   "outputs": [],
   "source": [
    "class_2 = remove_feature(class_2, np.array([3, 6, 9, 12, 14]))"
   ]
  },
  {
   "cell_type": "markdown",
   "id": "24cde04b-40f3-4844-90c0-92b98c110203",
   "metadata": {},
   "source": [
    "Maybe we'll delete also features 10 and 15"
   ]
  },
  {
   "cell_type": "code",
   "execution_count": null,
   "id": "4259a75e-5fb4-4f04-9b52-e590f3645aae",
   "metadata": {},
   "outputs": [],
   "source": []
  }
 ],
 "metadata": {
  "kernelspec": {
   "display_name": "Python",
   "language": "python",
   "name": "python3"
  },
  "language_info": {
   "codemirror_mode": {
    "name": "ipython",
    "version": 3
   },
   "file_extension": ".py",
   "mimetype": "text/x-python",
   "name": "python",
   "nbconvert_exporter": "python",
   "pygments_lexer": "ipython3",
   "version": "3.8.10"
  }
 },
 "nbformat": 4,
 "nbformat_minor": 5
}
