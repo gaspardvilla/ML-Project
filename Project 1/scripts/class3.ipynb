{
 "cells": [
  {
   "cell_type": "code",
   "execution_count": null,
   "id": "2118edb5-f904-4cf9-ad25-bdb6c998c55b",
   "metadata": {
    "tags": []
   },
   "outputs": [],
   "source": [
    "# Useful starting lines\n",
    "%matplotlib inline\n",
    "import numpy as np\n",
    "import matplotlib.pyplot as plt\n",
    "from proj1_helpers import *\n",
    "from implementations import *\n",
    "from losses import *\n",
    "from EDA import *\n",
    "from plots import *\n",
    "%load_ext autoreload\n",
    "%autoreload 2"
   ]
  },
  {
   "cell_type": "markdown",
   "id": "d5f1487d-7e1d-40f8-8457-e688d835c9e8",
   "metadata": {},
   "source": [
    "# Class 3\n",
    "***"
   ]
  },
  {
   "cell_type": "markdown",
   "id": "3d02ddb2-b874-4e24-9119-f866a6e55666",
   "metadata": {},
   "source": [
    "## Load the training data into feature matrix, class labels, and event ids:"
   ]
  },
  {
   "cell_type": "code",
   "execution_count": null,
   "id": "847ab71a-6207-4fce-9d0c-0f22d6042b7f",
   "metadata": {
    "collapsed": false,
    "jupyter": {
     "outputs_hidden": false
    }
   },
   "outputs": [],
   "source": [
    "DATA_TRAIN_PATH = \"../data/train.csv\"\n",
    "data_y, data_set, ids = load_csv_data(DATA_TRAIN_PATH)"
   ]
  },
  {
   "cell_type": "code",
   "execution_count": null,
   "id": "3c753724-e40c-424f-84ce-fe629e093c0e",
   "metadata": {},
   "outputs": [],
   "source": [
    "# Fixing the seed\n",
    "seed = 8"
   ]
  },
  {
   "cell_type": "markdown",
   "id": "08016bd7-d5e9-46da-9925-3b72ba28ece5",
   "metadata": {},
   "source": [
    "### Split and classify data"
   ]
  },
  {
   "cell_type": "code",
   "execution_count": null,
   "id": "35ece8e4-627b-4370-99cd-f86c5dccad7d",
   "metadata": {},
   "outputs": [],
   "source": [
    "# Classification of the output\n",
    "y_0, y_1, y_2, y_3 = y_classification(data_y, data_set)"
   ]
  },
  {
   "cell_type": "code",
   "execution_count": null,
   "id": "09b20777-9605-4afe-93fb-4e074127bc17",
   "metadata": {},
   "outputs": [],
   "source": [
    "#EDA for each class\n",
    "class_0, class_1, class_2, class_3 = EDA_class(data_set)"
   ]
  },
  {
   "cell_type": "markdown",
   "id": "a77058e1-e81b-4754-aa38-ddf6138338f4",
   "metadata": {
    "tags": []
   },
   "source": [
    "## Correlation matrix"
   ]
  },
  {
   "cell_type": "code",
   "execution_count": null,
   "id": "8cd80c85-8046-4089-a38e-23ed08c0d886",
   "metadata": {},
   "outputs": [],
   "source": [
    "correlation_plot(class_3)"
   ]
  },
  {
   "cell_type": "markdown",
   "id": "e9849f10-6ebf-4725-beaa-4aa4950d4f82",
   "metadata": {},
   "source": [
    "## 2D-Histograms (or density plots)"
   ]
  },
  {
   "cell_type": "code",
   "execution_count": null,
   "id": "fa97b723-f41c-4178-ad6d-e327c43899fe",
   "metadata": {},
   "outputs": [],
   "source": [
    "for i in range (class_3.shape[1]):\n",
    "    for j in range (class_3.shape[1]):\n",
    "        if (i!=j):\n",
    "            density_plot(class_3, i, j)"
   ]
  },
  {
   "cell_type": "markdown",
   "id": "d21192fb-81b4-4b77-94d7-012f2ccd79a7",
   "metadata": {},
   "source": [
    "## Histograms"
   ]
  },
  {
   "cell_type": "code",
   "execution_count": null,
   "id": "a0253729-81a8-4f5b-b7b6-2f899d584cf4",
   "metadata": {},
   "outputs": [],
   "source": [
    "histogram_plot(y_3, class_3)"
   ]
  },
  {
   "cell_type": "code",
   "execution_count": null,
   "id": "0064f071-1d8f-4a36-9ffd-af7382b5a1e0",
   "metadata": {},
   "outputs": [],
   "source": [
    "class_3 = remove_feature(class_3, np.array([6, 8, 11, 14, 15, 17, 18, 19, 20, 21, 23, 24, 26, 27]))"
   ]
  },
  {
   "cell_type": "markdown",
   "id": "cad5b9f1-4461-4949-ab4c-9ff982602ec4",
   "metadata": {},
   "source": [
    "Maybe we'll delete also features 5, 9 and 10"
   ]
  },
  {
   "cell_type": "code",
   "execution_count": null,
   "id": "6b2973b1-2cd7-4d20-9e71-ef6abbefc601",
   "metadata": {},
   "outputs": [],
   "source": [
    "class_0.shape"
   ]
  },
  {
   "cell_type": "code",
   "execution_count": null,
   "id": "3abb3858-2fe3-46a1-8e15-52c6efbd85ee",
   "metadata": {},
   "outputs": [],
   "source": []
  }
 ],
 "metadata": {
  "kernelspec": {
   "display_name": "Python",
   "language": "python",
   "name": "python3"
  },
  "language_info": {
   "codemirror_mode": {
    "name": "ipython",
    "version": 3
   },
   "file_extension": ".py",
   "mimetype": "text/x-python",
   "name": "python",
   "nbconvert_exporter": "python",
   "pygments_lexer": "ipython3",
   "version": "3.8.10"
  }
 },
 "nbformat": 4,
 "nbformat_minor": 5
}
