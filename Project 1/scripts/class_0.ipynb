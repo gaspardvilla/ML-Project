{
  "cells": [
    {
      "cell_type": "code",
      "execution_count": 30,
      "id": "a46f216d-f7cd-49d5-b2df-48d0157a7cf2",
      "metadata": {
        "colab": {
          "base_uri": "https://localhost:8080/"
        },
        "id": "a46f216d-f7cd-49d5-b2df-48d0157a7cf2",
        "outputId": "b4b87420-9193-488c-c539-e21a031b7436"
      },
      "outputs": [
        {
          "name": "stdout",
          "output_type": "stream",
          "text": [
            "The autoreload extension is already loaded. To reload it, use:\n",
            "  %reload_ext autoreload\n"
          ]
        }
      ],
      "source": [
        "# Useful starting lines\n",
        "%matplotlib inline\n",
        "import numpy as np\n",
        "import matplotlib.pyplot as plt\n",
        "from proj1_helpers import *\n",
        "from implementations import *\n",
        "from losses import *\n",
        "from EDA import *\n",
        "from plots import *\n",
        "from cross_validation import *\n",
        "from methods import *\n",
        "%load_ext autoreload\n",
        "%autoreload 2"
      ]
    },
    {
      "cell_type": "code",
      "execution_count": 55,
      "id": "LmsTvB4957oL",
      "metadata": {
        "colab": {
          "base_uri": "https://localhost:8080/"
        },
        "id": "LmsTvB4957oL",
        "outputId": "5a29f817-d498-4e1a-e3c2-80fa22e4dded"
      },
      "outputs": [
        {
          "name": "stdout",
          "output_type": "stream",
          "text": [
            "fatal: could not read Username for 'https://github.com': No such device or address\n"
          ]
        }
      ],
      "source": [
        "!git push"
      ]
    },
    {
      "cell_type": "code",
      "execution_count": 50,
      "id": "zGJzY4xe5lR1",
      "metadata": {
        "colab": {
          "base_uri": "https://localhost:8080/"
        },
        "id": "zGJzY4xe5lR1",
        "outputId": "27e3a244-2407-426f-f1b8-f7da5dd3a7dc"
      },
      "outputs": [
        {
          "name": "stdout",
          "output_type": "stream",
          "text": [
            "fatal: could not read Username for 'https://github.com': No such device or address\n"
          ]
        }
      ],
      "source": [
        "!git push"
      ]
    },
    {
      "cell_type": "markdown",
      "id": "be4706bc-a4fe-404c-9a6a-1b1cd788a3ee",
      "metadata": {
        "id": "be4706bc-a4fe-404c-9a6a-1b1cd788a3ee",
        "tags": []
      },
      "source": [
        "# Graphical exploration\n",
        "\n",
        "#### Load the training data into feature matrix, class labels, and event ids\n",
        "\n",
        "***"
      ]
    },
    {
      "cell_type": "code",
      "execution_count": 31,
      "id": "a42c6ced-0a10-4b65-9533-6c503f2f6a3a",
      "metadata": {
        "id": "a42c6ced-0a10-4b65-9533-6c503f2f6a3a",
        "jupyter": {
          "outputs_hidden": false
        }
      },
      "outputs": [],
      "source": [
        "# Load the tarin data set\n",
        "DATA_TRAIN_PATH = \"../data/train.csv\"\n",
        "data_y, data_set, ids = load_csv_data(DATA_TRAIN_PATH, sub_sample=True)\n",
        "\n",
        "# Classification of the output\n",
        "y_0, y_1, y_2, y_3 = y_classification(data_y, data_set)\n",
        "\n",
        "# EDA for each class\n",
        "class_0, class_1, class_2, class_3 = EDA_class(data_set, exploratory=True)"
      ]
    },
    {
      "cell_type": "markdown",
      "id": "c7de7e1a-b79f-4645-9df4-4ee6c2be1ca3",
      "metadata": {
        "id": "c7de7e1a-b79f-4645-9df4-4ee6c2be1ca3"
      },
      "source": [
        "## Correlation matrix\n",
        "***"
      ]
    },
    {
      "cell_type": "code",
      "execution_count": 32,
      "id": "4f45e580-b8b6-4942-ba9c-50cfbd0cdadb",
      "metadata": {
        "colab": {
          "base_uri": "https://localhost:8080/",
          "height": 470
        },
        "id": "4f45e580-b8b6-4942-ba9c-50cfbd0cdadb",
        "outputId": "2147afa4-8500-494f-ae88-48c85aca9cc0"
      },
      "outputs": [
        {
          "data": {
            "image/png": "[encoded data removed]",
            "text/plain": [
              "<Figure size 576x576 with 2 Axes>"
            ]
          },
          "metadata": {
            "needs_background": "light"
          },
          "output_type": "display_data"
        }
      ],
      "source": [
        "correlation_plot(class_0)"
      ]
    },
    {
      "cell_type": "markdown",
      "id": "f155777a-a2f7-484e-8ee3-f3c3c8ebfe5a",
      "metadata": {
        "id": "f155777a-a2f7-484e-8ee3-f3c3c8ebfe5a"
      },
      "source": [
        "**Remark:** There is no particular correlation to notice betweeen the different features of the class 0.\n",
        "\n",
        "## Histograms\n",
        "\n",
        "***"
      ]
    },
    {
      "cell_type": "code",
      "execution_count": 33,
      "id": "d96660c0-2eb2-4452-8229-3841bbfa027c",
      "metadata": {
        "colab": {
          "base_uri": "https://localhost:8080/",
          "height": 737
        },
        "id": "d96660c0-2eb2-4452-8229-3841bbfa027c",
        "outputId": "bb1bfc7f-da9c-4254-d927-d47cc466d97a"
      },
      "outputs": [
        {
          "name": "stderr",
          "output_type": "stream",
          "text": [
            "/usr/local/lib/python3.7/dist-packages/seaborn/distributions.py:2619: FutureWarning: `distplot` is a deprecated function and will be removed in a future version. Please adapt your code to use either `displot` (a figure-level function with similar flexibility) or `histplot` (an axes-level function for histograms).\n",
            "  warnings.warn(msg, FutureWarning)\n"
          ]
        },
        {
          "data": {
            "image/png": "[encoded data removed]",
            "text/plain": [
              "<Figure size 576x360 with 1 Axes>"
            ]
          },
          "metadata": {
            "needs_background": "light"
          },
          "output_type": "display_data"
        },
        {
          "data": {
            "image/png": "[encoded data removed]",
            "text/plain": [
              "<Figure size 576x360 with 1 Axes>"
            ]
          },
          "metadata": {
            "needs_background": "light"
          },
          "output_type": "display_data"
        }
      ],
      "source": [
        "# Check if some feature seems to be useless in this classification\n",
        "histogram_plot(y_0, class_0, [0, 2])"
      ]
    },
    {
      "cell_type": "markdown",
      "id": "a6fcba1c-4c90-4bec-a248-1dd5e5a2941a",
      "metadata": {
        "id": "a6fcba1c-4c90-4bec-a248-1dd5e5a2941a"
      },
      "source": [
        "**Remark:**  We can notice that the feature 0 seems to very decisive in the classification, but it is not the case for the feature 2. Then, we can remove this last without losing information for our classification.\n",
        "We apply this idea to all the features and we obtain the following list of the features that we can remove: [2, 5, 8, 11, 13, 14]. For seeing the histograms of all the features, you just have to run the following piece of code in a cell: 'histogram_plot(y_0, class_0, [0, 2])'."
      ]
    },
    {
      "cell_type": "markdown",
      "id": "f74346c5",
      "metadata": {
        "id": "f74346c5"
      },
      "source": [
        "# Cross validation\n",
        "\n",
        "Now, the graphical analysis is done, we can use cross validation to select our best model (with its corresponding method).\n",
        "***"
      ]
    },
    {
      "cell_type": "code",
      "execution_count": 34,
      "id": "310429ae",
      "metadata": {
        "id": "310429ae"
      },
      "outputs": [],
      "source": [
        "# Classification of the output\n",
        "y_0, y_1, y_2, y_3 = y_classification(data_y, data_set)\n",
        "# Apply the exploratory graphical analysis\n",
        "class_0, class_1, class_2, class_3 = EDA_class(data_set, exploratory=False)"
      ]
    },
    {
      "cell_type": "code",
      "execution_count": 35,
      "id": "a819201a",
      "metadata": {
        "id": "a819201a"
      },
      "outputs": [],
      "source": [
        "# Initialization of some parameters\n",
        "max_degree = 6\n",
        "mse = MSE()\n",
        "neg_log = Neg_log()\n",
        "kfold = 4"
      ]
    },
    {
      "cell_type": "markdown",
      "id": "e903fb11",
      "metadata": {
        "id": "e903fb11"
      },
      "source": [
        "#### Least squares method\n",
        "\n",
        "***"
      ]
    },
    {
      "cell_type": "code",
      "execution_count": 36,
      "id": "6d8da154",
      "metadata": {
        "colab": {
          "base_uri": "https://localhost:8080/"
        },
        "id": "6d8da154",
        "outputId": "61cef1d6-ba25-4674-b5b1-adbdeaea457f"
      },
      "outputs": [
        {
          "name": "stdout",
          "output_type": "stream",
          "text": [
            "Forward step\n",
            "Test error:  15.51901336073998  Train error:  15.54470709146968 \n",
            "\n",
            "Backward step\n",
            "Test error:  15.544707091469682  Train error:  15.202124015073656 \n",
            "\n",
            "Interactions step \n",
            "\n",
            "Best train error:  14.850976361767728\n",
            "Best test error:  15.082219938335045\n",
            "Std:  1.516365537479907\n"
          ]
        }
      ],
      "source": [
        "# Parameters initialization\n",
        "param_least = Parameters()\n",
        "param_least.set_degree(max_degree)\n",
        "param_least.set_method(least_squares_)\n",
        "param_least.set_k_fold(kfold)\n",
        "param_least.set_viz(False)\n",
        "param_least.set_use_backward_selection(True)\n",
        "param_least.set_use_interactions(True)\n",
        "\n",
        "# Cross validation\n",
        "param_least = cross_validation_poly(y_0, class_0, param_least)\n",
        "\n",
        "\n",
        "print(\"Best train error: \", param_least.best_train_error)\n",
        "print(\"Best test error: \", param_least.best_error)\n",
        "print('Std: ', param_least.std)\n"
      ]
    },
    {
      "cell_type": "markdown",
      "id": "89a822d3",
      "metadata": {
        "id": "89a822d3"
      },
      "source": [
        "#### Gradient descent method\n",
        "\n",
        "***"
      ]
    },
    {
      "cell_type": "code",
      "execution_count": 37,
      "id": "c486de28",
      "metadata": {
        "colab": {
          "base_uri": "https://localhost:8080/"
        },
        "id": "c486de28",
        "outputId": "cecf4252-3cea-4208-d356-3d2d5698d115"
      },
      "outputs": [
        {
          "name": "stdout",
          "output_type": "stream",
          "text": [
            "Forward step\n"
          ]
        },
        {
          "name": "stderr",
          "output_type": "stream",
          "text": [
            "/content/ML-Project/Project 1/scripts/implementations.py:63: RuntimeWarning: invalid value encountered in subtract\n",
            "  w = w - (parameters.gamma * grad)\n"
          ]
        },
        {
          "name": "stdout",
          "output_type": "stream",
          "text": [
            "Test error:  17.471736896197328  Train error:  17.446043165467625 \n",
            "\n",
            "Backward step\n",
            "Test error:  21.608427543679344  Train error:  21.58273381294964 \n",
            "\n",
            "Interactions step \n",
            "\n",
            "Best train error:  17.077766358341897\n",
            "Best test error:  16.906474820143885\n",
            "Std:  1.3527694327942639\n"
          ]
        }
      ],
      "source": [
        "# Parameters initialization\n",
        "param_GD = Parameters()\n",
        "param_GD.set_degree(max_degree)\n",
        "param_GD.set_loss_fct(mse)\n",
        "param_GD.set_k_fold(kfold)\n",
        "param_GD.set_method(least_squares_GD_)\n",
        "param_GD.set_to_test(['gamma'])\n",
        "param_GD.set_viz(False)\n",
        "param_GD.set_use_backward_selection(True)\n",
        "param_GD.set_use_interactions(True)\n",
        "\n",
        "# Cross validation\n",
        "param_GD = cross_validation_poly(y_0, class_0, param_GD)\n",
        "\n",
        "print(\"Best train error: \", param_GD.best_train_error)\n",
        "print(\"Best test error: \", param_GD.best_error)\n",
        "print('Std: ', param_GD.std)"
      ]
    },
    {
      "cell_type": "markdown",
      "id": "1a0f944f",
      "metadata": {
        "id": "1a0f944f"
      },
      "source": [
        "#### Stochastic gradient descent\n",
        "\n",
        "***"
      ]
    },
    {
      "cell_type": "code",
      "execution_count": 38,
      "id": "c681eb18",
      "metadata": {
        "colab": {
          "base_uri": "https://localhost:8080/"
        },
        "id": "c681eb18",
        "outputId": "377a49c9-7fbc-4452-fc49-74c36711d5bd"
      },
      "outputs": [
        {
          "name": "stdout",
          "output_type": "stream",
          "text": [
            "Forward step\n",
            "Test error:  19.964028776978417  Train error:  20.751969852689275 \n",
            "\n",
            "Backward step\n",
            "Test error:  22.3021582733813  Train error:  22.584789311408016 \n",
            "\n",
            "Interactions step \n",
            "\n",
            "Best train error:  19.630010277492293\n",
            "Best test error:  18.910585817060635\n",
            "Std:  1.44799617714341\n"
          ]
        }
      ],
      "source": [
        "# Parameters initialization\n",
        "param_SGD = Parameters()\n",
        "param_SGD.set_degree(max_degree)\n",
        "param_SGD.set_k_fold(kfold)\n",
        "param_SGD.set_loss_fct(mse)\n",
        "param_SGD.set_method(least_squares_SGD_)\n",
        "param_SGD.set_to_test(['gamma'])\n",
        "param_SGD.set_viz(False)\n",
        "param_SGD.set_use_backward_selection(True)\n",
        "param_SGD.set_use_interactions(True)\n",
        "\n",
        "# Cross validation\n",
        "param_SGD = cross_validation_poly(y_0, class_0, param_SGD)\n",
        "\n",
        "print(\"Best train error: \", param_SGD.best_train_error)\n",
        "print(\"Best test error: \", param_SGD.best_error)\n",
        "print('Std: ', param_SGD.std)"
      ]
    },
    {
      "cell_type": "markdown",
      "id": "8288f303",
      "metadata": {
        "id": "8288f303"
      },
      "source": [
        "#### Ridge regression\n",
        "\n",
        "***"
      ]
    },
    {
      "cell_type": "code",
      "execution_count": 39,
      "id": "2f3d168c",
      "metadata": {
        "colab": {
          "base_uri": "https://localhost:8080/"
        },
        "id": "2f3d168c",
        "outputId": "2202f9a4-3de9-4dd4-aef1-7f176ddb173c"
      },
      "outputs": [
        {
          "name": "stdout",
          "output_type": "stream",
          "text": [
            "Forward step\n",
            "Test error:  16.366906474820144  Train error:  16.127098321342928 \n",
            "\n",
            "Backward step\n",
            "Test error:  15.621788283658788  Train error:  15.210688591983555 \n",
            "\n",
            "Interactions step \n",
            "\n",
            "Best train error:  15.073655361425145\n",
            "Best test error:  15.15930113052415\n",
            "Std:  0.8428170332403252\n"
          ]
        }
      ],
      "source": [
        "# Parameters initialization\n",
        "param_ridge = Parameters()\n",
        "param_ridge.set_degree(max_degree)\n",
        "param_ridge.set_loss_fct(mse)\n",
        "param_ridge.set_k_fold(kfold)\n",
        "param_ridge.set_method(ridge_regression_)\n",
        "param_ridge.set_to_test(['lambda'])\n",
        "param_ridge.set_viz(False)\n",
        "param_ridge.set_use_backward_selection(True)\n",
        "param_ridge.set_use_interactions(True)\n",
        "\n",
        "# Cross validation\n",
        "param_ridge = cross_validation_poly(y_0, class_0, param_ridge)\n",
        "\n",
        "print(\"Best train error: \", param_ridge.best_train_error)\n",
        "print(\"Best test error: \", param_ridge.best_error)\n",
        "print('Std: ', param_ridge.std)"
      ]
    },
    {
      "cell_type": "markdown",
      "id": "04087065",
      "metadata": {
        "id": "04087065"
      },
      "source": []
    },
    {
      "cell_type": "code",
      "execution_count": 41,
      "id": "67a39a09",
      "metadata": {
        "colab": {
          "base_uri": "https://localhost:8080/"
        },
        "id": "67a39a09",
        "outputId": "3bf0f391-127f-432a-f009-2fbace726553"
      },
      "outputs": [
        {
          "name": "stdout",
          "output_type": "stream",
          "text": [
            "Forward step\n"
          ]
        },
        {
          "name": "stderr",
          "output_type": "stream",
          "text": [
            "/content/ML-Project/Project 1/scripts/losses.py:92: RuntimeWarning: overflow encountered in exp\n",
            "  return np.exp(t) / (1 + np.exp(t))\n",
            "/content/ML-Project/Project 1/scripts/losses.py:92: RuntimeWarning: invalid value encountered in true_divide\n",
            "  return np.exp(t) / (1 + np.exp(t))\n",
            "/content/ML-Project/Project 1/scripts/losses.py:103: RuntimeWarning: overflow encountered in exp\n",
            "  return np.sum(np.log(1+np.exp(data_set@w))-y*(data_set@w))\n"
          ]
        },
        {
          "name": "stdout",
          "output_type": "stream",
          "text": [
            "Test error:  16.469681397738952  Train error:  16.503939705378553 \n",
            "\n",
            "Backward step\n",
            "Test error:  19.193216855087357  Train error:  19.06474820143885 \n",
            "\n",
            "Interactions step \n",
            "\n",
            "Best train error:  16.16992120589243\n",
            "Best test error:  16.05858170606372\n",
            "Std:  1.5626774100241487\n"
          ]
        }
      ],
      "source": [
        "# Parmeters initialization\n",
        "param_log = Parameters()\n",
        "param_log.set_degree(max_degree)\n",
        "param_log.set_loss_fct(neg_log)\n",
        "param_log.set_k_fold(kfold)\n",
        "param_log.set_method(logistic_regression_)\n",
        "param_log.set_to_test(['gamma'])\n",
        "param_log.set_viz(False)\n",
        "param_log.set_use_backward_selection(True)\n",
        "param_log.set_use_interactions(True)\n",
        "\n",
        "# Cross validation\n",
        "param_log = cross_validation_poly(y_0, class_0, param_log)\n",
        "\n",
        "print(\"Best train error: \", param_log.best_train_error)\n",
        "print(\"Best test error: \", param_log.best_error)\n",
        "print('Std: ', param_log.std)"
      ]
    },
    {
      "cell_type": "code",
      "execution_count": 42,
      "id": "GQJg-0watVLH",
      "metadata": {
        "colab": {
          "base_uri": "https://localhost:8080/"
        },
        "id": "GQJg-0watVLH",
        "outputId": "b108003c-2645-453d-92a1-01e120642c1b"
      },
      "outputs": [
        {
          "name": "stdout",
          "output_type": "stream",
          "text": [
            "Forward step\n"
          ]
        },
        {
          "name": "stderr",
          "output_type": "stream",
          "text": [
            "/content/ML-Project/Project 1/scripts/implementations.py:220: RuntimeWarning: invalid value encountered in double_scalars\n",
            "/content/ML-Project/Project 1/scripts/implementations.py:213: RuntimeWarning: invalid value encountered in subtract\n"
          ]
        },
        {
          "name": "stdout",
          "output_type": "stream",
          "text": [
            "Test error:  17.420349434737922  Train error:  17.38609112709832 \n",
            "\n",
            "Backward step\n",
            "Test error:  21.58273381294964  Train error:  21.591298389859542 \n",
            "\n",
            "Interactions step \n",
            "\n",
            "Best train error:  16.855087358684482\n",
            "Best test error:  16.80369989722508\n",
            "Std:  1.3893633951280344\n"
          ]
        }
      ],
      "source": [
        "# Parmeters initialization\n",
        "param_log = Parameters()\n",
        "param_log.set_degree(max_degree)\n",
        "param_log.set_loss_fct(mse)\n",
        "param_log.set_k_fold(kfold)\n",
        "param_log.set_method(reg_logistic_regression_)\n",
        "param_log.set_to_test(['gamma', 'lambda'])\n",
        "param_log.set_viz(False)\n",
        "param_log.set_use_backward_selection(True)\n",
        "param_log.set_use_interactions(True)\n",
        "\n",
        "# Cross validation\n",
        "param_log = cross_validation_poly(y_0, class_0, param_log)\n",
        "\n",
        "print(\"Best train error: \", param_log.best_train_error)\n",
        "print(\"Best test error: \", param_log.best_error)\n",
        "print('Std: ', param_log.std)"
      ]
    },
    {
      "cell_type": "markdown",
      "metadata": {},
      "source": [
        "**Remark:** Some of the final test errrors are smaller than the final train error. It can explained by the size of the k fold we take, because the size of the test set is very small (we have sub sample = True) and then we can be lucky an have a smaller test error. The look on the standard deviation of the test error justifies that it is not anormal to have that kind of results"
      ]
    },
    {
      "cell_type": "code",
      "execution_count": null,
      "id": "wNx8-mYC0EvV",
      "metadata": {
        "id": "wNx8-mYC0EvV"
      },
      "outputs": [],
      "source": []
    }
  ],
  "metadata": {
    "colab": {
      "name": "class0.ipynb",
      "provenance": []
    },
    "interpreter": {
      "hash": "56182d08d34034e89fc2125c3a19af52ba9d106be31d6a17441e7856e867a350"
    },
    "kernelspec": {
      "display_name": "Python 3.9.7 64-bit ('ml': conda)",
      "name": "python3"
    },
    "language_info": {
      "codemirror_mode": {
        "name": "ipython",
        "version": 3
      },
      "file_extension": ".py",
      "mimetype": "text/x-python",
      "name": "python",
      "nbconvert_exporter": "python",
      "pygments_lexer": "ipython3",
      "version": "3.9.7"
    }
  },
  "nbformat": 4,
  "nbformat_minor": 5
}
