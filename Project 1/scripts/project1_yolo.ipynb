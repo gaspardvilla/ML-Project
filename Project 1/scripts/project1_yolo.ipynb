{
 "cells": [
  {
   "cell_type": "code",
   "execution_count": 122,
   "metadata": {
    "tags": []
   },
   "outputs": [
    {
     "name": "stdout",
     "output_type": "stream",
     "text": [
      "The autoreload extension is already loaded. To reload it, use:\n",
      "  %reload_ext autoreload\n"
     ]
    }
   ],
   "source": [
    "# Useful starting lines\n",
    "%matplotlib inline\n",
    "import numpy as np\n",
    "import matplotlib.pyplot as plt\n",
    "from proj1_helpers import *\n",
    "from implementations import *\n",
    "from EDA import *\n",
    "%load_ext autoreload\n",
    "%autoreload 2"
   ]
  },
  {
   "cell_type": "markdown",
   "metadata": {},
   "source": [
    "## Load the training data into feature matrix, class labels, and event ids:"
   ]
  },
  {
   "cell_type": "code",
   "execution_count": 123,
   "metadata": {
    "collapsed": false,
    "jupyter": {
     "outputs_hidden": false
    }
   },
   "outputs": [],
   "source": [
    "DATA_TRAIN_PATH = \"../data/train.csv\"\n",
    "data_y, data_set, ids = load_csv_data(DATA_TRAIN_PATH)"
   ]
  },
  {
   "cell_type": "code",
   "execution_count": 124,
   "metadata": {},
   "outputs": [],
   "source": [
    "# Fixing the seed\n",
    "seed = 8"
   ]
  },
  {
   "cell_type": "markdown",
   "metadata": {},
   "source": [
    "### Split and classify data"
   ]
  },
  {
   "cell_type": "code",
   "execution_count": 125,
   "metadata": {},
   "outputs": [],
   "source": [
    "# Classification of the output\n",
    "y_0, y_1, y_2, y_3 = y_classification(data_y, data_set)"
   ]
  },
  {
   "cell_type": "code",
   "execution_count": 126,
   "metadata": {},
   "outputs": [],
   "source": [
    "#EDA for each class\n",
    "class_0, class_1, class_2, class_3 = EDA_class(data_set)"
   ]
  },
  {
   "cell_type": "code",
   "execution_count": 127,
   "metadata": {},
   "outputs": [],
   "source": [
    "# Set the \"spliter\" value correponding to the part dedicated for train\n",
    "spliter = 0.8\n",
    "\n",
    "# Split into a train and a test set\n",
    "train_0, y_tr_0, test_0, y_te_0 = train_test_separator(y_0, class_0, spliter, seed)\n",
    "train_1, y_tr_1, test_1, y_te_1 = train_test_separator(y_1, class_1, spliter, seed)\n",
    "train_2, y_tr_2, test_2, y_te_2 = train_test_separator(y_2, class_2, spliter, seed)\n",
    "train_3, y_tr_3, test_3, y_te_3 = train_test_separator(y_3, class_3, spliter, seed)"
   ]
  },
  {
   "cell_type": "markdown",
   "metadata": {},
   "source": [
    "# Data set 1 - Exploration\n",
    "\n",
    "***\n",
    "\n",
    "#### Least squares method"
   ]
  },
  {
   "cell_type": "code",
   "execution_count": 128,
   "metadata": {},
   "outputs": [
    {
     "data": {
      "text/plain": [
       "(62035, 22)"
      ]
     },
     "execution_count": 128,
     "metadata": {},
     "output_type": "execute_result"
    }
   ],
   "source": [
    "# Check of the data set 1\n",
    "train_1.shape"
   ]
  },
  {
   "cell_type": "code",
   "execution_count": 129,
   "metadata": {},
   "outputs": [],
   "source": [
    "# Computation of the MSE and teh optimal weights\n",
    "mse_1, w_1 = least_squares(y_tr_1, train_1)"
   ]
  },
  {
   "cell_type": "code",
   "execution_count": 130,
   "metadata": {},
   "outputs": [],
   "source": [
    "# Get the predictions on the train set\n",
    "train_pred_1 = predict_labels(w_1, train_1)\n",
    "\n",
    "# Get the predictions on the test set\n",
    "test_pred_1 = predict_labels(w_1, test_1)"
   ]
  },
  {
   "cell_type": "code",
   "execution_count": 131,
   "metadata": {},
   "outputs": [
    {
     "name": "stdout",
     "output_type": "stream",
     "text": [
      "Numbers of errors :  18936  // Error accuracy [%] : % 30.524703796244058\n",
      "Numbers of errors :  4750  // Error accuracy [%] : % 30.627377651686118\n"
     ]
    }
   ],
   "source": [
    "# Compute the final results\n",
    "counting_errors(train_pred_1, y_tr_1)\n",
    "counting_errors(test_pred_1, y_te_1)"
   ]
  },
  {
   "cell_type": "markdown",
   "metadata": {},
   "source": [
    "*** \n",
    "\n",
    "#### Gradient Descent method with MSE loss"
   ]
  },
  {
   "cell_type": "code",
   "execution_count": 132,
   "metadata": {},
   "outputs": [],
   "source": [
    "# Train our model and get the response weight and its loss\n",
    "initial_w = np.zeros(train_1.shape[1])\n",
    "mse_1, w_1 = least_squares_GD(y_tr_1, train_1, initial_w=initial_w, gamma=1e-1, max_iters=1000)"
   ]
  },
  {
   "cell_type": "code",
   "execution_count": 133,
   "metadata": {},
   "outputs": [],
   "source": [
    "# Get the predictions on the train set\n",
    "train_pred_1 = predict_labels(w_1, train_1)\n",
    "\n",
    "# Get the predictions on the test set\n",
    "test_pred_1 = predict_labels(w_1, test_1)"
   ]
  },
  {
   "cell_type": "code",
   "execution_count": 134,
   "metadata": {},
   "outputs": [
    {
     "name": "stdout",
     "output_type": "stream",
     "text": [
      "Numbers of errors :  18935  // Error accuracy [%] : % 30.52309180301443\n",
      "Numbers of errors :  4749  // Error accuracy [%] : % 30.620929782706813\n"
     ]
    }
   ],
   "source": [
    "# Compute the final results\n",
    "counting_errors(train_pred_1, y_tr_1)\n",
    "counting_errors(test_pred_1, y_te_1)"
   ]
  },
  {
   "cell_type": "markdown",
   "metadata": {},
   "source": [
    "***\n",
    "\n",
    "#### Stochastic Gradient descent with MSE loss"
   ]
  },
  {
   "cell_type": "code",
   "execution_count": 147,
   "metadata": {},
   "outputs": [
    {
     "name": "stdout",
     "output_type": "stream",
     "text": [
      "25.731644685151753\n"
     ]
    }
   ],
   "source": [
    "# Train our model and get the response weight and its loss\n",
    "initial_w = np.random.rand(train_1.shape[1])\n",
    "mse_1, w_1 = least_squares_SGD(y_tr_1, train_1, initial_w=initial_w, gamma=1e-2, max_iters=1000)\n",
    "print(mse_1)"
   ]
  },
  {
   "cell_type": "code",
   "execution_count": 148,
   "metadata": {},
   "outputs": [],
   "source": [
    "# Get the predictions on the train set\n",
    "train_pred_1 = predict_labels(w_1, train_1)\n",
    "\n",
    "# Get the predictions on the test set\n",
    "test_pred_1 = predict_labels(w_1, test_1)"
   ]
  },
  {
   "cell_type": "code",
   "execution_count": 149,
   "metadata": {},
   "outputs": [
    {
     "name": "stdout",
     "output_type": "stream",
     "text": [
      "Numbers of errors :  19192  // Error accuracy [%] : % 30.937374063028933\n",
      "Numbers of errors :  4784  // Error accuracy [%] : % 30.846605196982395\n"
     ]
    }
   ],
   "source": [
    "# Compute the final results\n",
    "counting_errors(train_pred_1, y_tr_1)\n",
    "counting_errors(test_pred_1, y_te_1)"
   ]
  },
  {
   "cell_type": "markdown",
   "metadata": {},
   "source": [
    "***\n",
    "\n",
    "#### Ridge regression method"
   ]
  },
  {
   "cell_type": "code",
   "execution_count": 159,
   "metadata": {},
   "outputs": [],
   "source": [
    "# Computation of the MSE and teh optimal weights\n",
    "mse_1, w_1 = ridge_regression(y_tr_1, train_1, lambda_=0.5)"
   ]
  },
  {
   "cell_type": "code",
   "execution_count": 160,
   "metadata": {},
   "outputs": [],
   "source": [
    "# Get the predictions on the train set\n",
    "train_pred_1 = predict_labels(w_1, train_1)\n",
    "\n",
    "# Get the predictions on the test set\n",
    "test_pred_1 = predict_labels(w_1, test_1)"
   ]
  },
  {
   "cell_type": "code",
   "execution_count": 161,
   "metadata": {},
   "outputs": [
    {
     "name": "stdout",
     "output_type": "stream",
     "text": [
      "Numbers of errors :  19365  // Error accuracy [%] : % 31.216248891754656\n",
      "Numbers of errors :  4881  // Error accuracy [%] : % 31.472048487974725\n"
     ]
    }
   ],
   "source": [
    "# Compute the final results\n",
    "counting_errors(train_pred_1, y_tr_1)\n",
    "counting_errors(test_pred_1, y_te_1)"
   ]
  },
  {
   "cell_type": "markdown",
   "metadata": {},
   "source": [
    "***\n",
    "\n",
    "#### Logistic regression using Gradient descent method"
   ]
  },
  {
   "cell_type": "code",
   "execution_count": 186,
   "metadata": {},
   "outputs": [],
   "source": [
    "# Computation of he MSE and teh optimal weights\n",
    "initial_w = np.zeros(train_1.shape[1])\n",
    "mse_1, w_1 = logistic_regression(y_tr_1, train_1, initial_w=initial_w, gamma=0.1, max_iters=1000)"
   ]
  },
  {
   "cell_type": "code",
   "execution_count": 187,
   "metadata": {},
   "outputs": [],
   "source": [
    "# Get the predictions on the train set\n",
    "train_pred_1 = predict_labels(w_1, train_1)\n",
    "\n",
    "# Get the predictions on the test set\n",
    "test_pred_1 = predict_labels(w_1, test_1)"
   ]
  },
  {
   "cell_type": "code",
   "execution_count": 188,
   "metadata": {},
   "outputs": [
    {
     "name": "stdout",
     "output_type": "stream",
     "text": [
      "Numbers of errors :  19034  // Error accuracy [%] : % 30.68267913274764\n",
      "Numbers of errors :  4805  // Error accuracy [%] : % 30.982010445547747\n"
     ]
    }
   ],
   "source": [
    "# Compute the final results\n",
    "counting_errors(train_pred_1, y_tr_1)\n",
    "counting_errors(test_pred_1, y_te_1)"
   ]
  },
  {
   "cell_type": "code",
   "execution_count": null,
   "metadata": {},
   "outputs": [],
   "source": []
  }
 ],
 "metadata": {
  "anaconda-cloud": {},
  "interpreter": {
   "hash": "ab6a13f8d35690fc54a0784a7c413b5c6b88c02b498e2bc6bdd4734947920c66"
  },
  "kernelspec": {
   "display_name": "Python 3.8.8 64-bit ('base': conda)",
   "name": "python3"
  },
  "language_info": {
   "codemirror_mode": {
    "name": "ipython",
    "version": 3
   },
   "file_extension": ".py",
   "mimetype": "text/x-python",
   "name": "python",
   "nbconvert_exporter": "python",
   "pygments_lexer": "ipython3",
   "version": "3.8.8"
  }
 },
 "nbformat": 4,
 "nbformat_minor": 4
}
