{
 "cells": [
  {
   "cell_type": "code",
   "execution_count": null,
   "metadata": {
    "tags": []
   },
   "outputs": [],
   "source": [
    "# Useful starting lines\n",
    "%matplotlib inline\n",
    "import numpy as np\n",
    "import matplotlib.pyplot as plt\n",
    "from proj1_helpers import *\n",
    "from implementations import *\n",
    "from losses import *\n",
    "from EDA import *\n",
    "%load_ext autoreload\n",
    "%autoreload 2"
   ]
  },
  {
   "cell_type": "markdown",
   "metadata": {},
   "source": [
    "## Load the training data into feature matrix, class labels, and event ids:"
   ]
  },
  {
   "cell_type": "code",
   "execution_count": null,
   "metadata": {
    "collapsed": false,
    "jupyter": {
     "outputs_hidden": false
    }
   },
   "outputs": [],
   "source": [
    "DATA_TRAIN_PATH = \"../data/train.csv\"\n",
    "data_y, data_set, ids = load_csv_data(DATA_TRAIN_PATH)"
   ]
  },
  {
   "cell_type": "code",
   "execution_count": null,
   "metadata": {},
   "outputs": [],
   "source": [
    "# Fixing the seed\n",
    "seed = 8"
   ]
  },
  {
   "cell_type": "markdown",
   "metadata": {},
   "source": [
    "### Split and classify data"
   ]
  },
  {
   "cell_type": "code",
   "execution_count": null,
   "metadata": {},
   "outputs": [],
   "source": [
    "# Classification of the output\n",
    "y_0, y_1, y_2, y_3 = y_classification(data_y, data_set)"
   ]
  },
  {
   "cell_type": "code",
   "execution_count": null,
   "metadata": {},
   "outputs": [],
   "source": [
    "#EDA for each class\n",
    "class_0, class_1, class_2, class_3 = EDA_class(data_set)"
   ]
  },
  {
   "cell_type": "code",
   "execution_count": null,
   "metadata": {},
   "outputs": [],
   "source": [
    "# Set the \"spliter\" value correponding to the part dedicated for train\n",
    "spliter = 0.8\n",
    "\n",
    "# Split into a train and a test set\n",
    "train_0, y_tr_0, test_0, y_te_0 = train_test_separator(y_0, class_0, spliter, seed)\n",
    "train_1, y_tr_1, test_1, y_te_1 = train_test_separator(y_1, class_1, spliter, seed)\n",
    "train_2, y_tr_2, test_2, y_te_2 = train_test_separator(y_2, class_2, spliter, seed)\n",
    "train_3, y_tr_3, test_3, y_te_3 = train_test_separator(y_3, class_3, spliter, seed)"
   ]
  },
  {
   "cell_type": "code",
   "execution_count": null,
   "metadata": {},
   "outputs": [],
   "source": [
    "print(train_0.shape)\n",
    "print(train_1.shape)\n",
    "print(train_2.shape)\n",
    "print(train_3.shape)"
   ]
  },
  {
   "cell_type": "markdown",
   "metadata": {},
   "source": [
    "# See some histograms\n",
    "\n",
    "***\n",
    "\n",
    "#### Only on class 0"
   ]
  },
  {
   "cell_type": "code",
   "execution_count": null,
   "metadata": {},
   "outputs": [],
   "source": [
    "classs = class_3\n",
    "yy = y_3"
   ]
  },
  {
   "cell_type": "code",
   "execution_count": null,
   "metadata": {},
   "outputs": [],
   "source": [
    "ind_y_neg = np.array(np.where(yy == -1)[0])\n",
    "ind_y_pos = np.array(np.where(yy == 1)[0])"
   ]
  },
  {
   "cell_type": "code",
   "execution_count": null,
   "metadata": {},
   "outputs": [],
   "source": [
    "for col in range(16):\n",
    "    plt.figure(figsize=(8,5))\n",
    "    plt.hist(classs[ind_y_neg, col], bins=100, histtype = 'step', color = 'red', density=True)\n",
    "    plt.hist(classs[ind_y_pos, col], bins=100, histtype = 'step', density=True)\n",
    "    plt.title('Histogram of feature 0')\n",
    "    plt.show()"
   ]
  },
  {
   "cell_type": "markdown",
   "metadata": {},
   "source": [
    "# Data set 1 - Exploration\n",
    "\n",
    "***\n",
    "\n",
    "#### Least squares method"
   ]
  },
  {
   "cell_type": "code",
   "execution_count": null,
   "metadata": {},
   "outputs": [],
   "source": [
    "MSE_loss = MSE()"
   ]
  },
  {
   "cell_type": "code",
   "execution_count": null,
   "metadata": {},
   "outputs": [],
   "source": [
    "# Computation of the MSE and teh optimal weights\n",
    "mse_1, w_1 = least_squares(y_tr_1, train_1, MSE_loss)"
   ]
  },
  {
   "cell_type": "code",
   "execution_count": null,
   "metadata": {},
   "outputs": [],
   "source": [
    "# Get the predictions on the train set\n",
    "train_pred_1 = predict_labels(w_1, train_1)\n",
    "\n",
    "# Get the predictions on the test set\n",
    "test_pred_1 = predict_labels(w_1, test_1)"
   ]
  },
  {
   "cell_type": "code",
   "execution_count": null,
   "metadata": {},
   "outputs": [],
   "source": [
    "# Compute the final results\n",
    "counting_errors(train_pred_1, y_tr_1)\n",
    "counting_errors(test_pred_1, y_te_1)"
   ]
  },
  {
   "cell_type": "markdown",
   "metadata": {},
   "source": [
    "*** \n",
    "\n",
    "#### Gradient Descent method with MSE loss"
   ]
  },
  {
   "cell_type": "code",
   "execution_count": null,
   "metadata": {},
   "outputs": [],
   "source": [
    "# Train our model and get the response weight and its loss\n",
    "initial_w = np.zeros(train_1.shape[1])\n",
    "mse_1, w_1 = least_squares_GD(y_tr_1, train_1, MSE_loss, initial_w=initial_w, gamma=1e-1, max_iters=1000)"
   ]
  },
  {
   "cell_type": "code",
   "execution_count": null,
   "metadata": {},
   "outputs": [],
   "source": [
    "# Get the predictions on the train set\n",
    "train_pred_1 = predict_labels(w_1, train_1)\n",
    "\n",
    "# Get the predictions on the test set\n",
    "test_pred_1 = predict_labels(w_1, test_1)"
   ]
  },
  {
   "cell_type": "code",
   "execution_count": null,
   "metadata": {},
   "outputs": [],
   "source": [
    "# Compute the final results\n",
    "counting_errors(train_pred_1, y_tr_1)\n",
    "counting_errors(test_pred_1, y_te_1)"
   ]
  },
  {
   "cell_type": "markdown",
   "metadata": {},
   "source": [
    "***\n",
    "\n",
    "#### Stochastic Gradient descent with MSE loss"
   ]
  },
  {
   "cell_type": "code",
   "execution_count": null,
   "metadata": {},
   "outputs": [],
   "source": [
    "# Train our model and get the response weight and its loss\n",
    "initial_w = np.random.rand(train_1.shape[1])\n",
    "mse_1, w_1 = least_squares_SGD(y_tr_1, train_1, MSE_loss, initial_w=initial_w, gamma=1e-2, max_iters=1000)"
   ]
  },
  {
   "cell_type": "code",
   "execution_count": null,
   "metadata": {},
   "outputs": [],
   "source": [
    "# Get the predictions on the train set\n",
    "train_pred_1 = predict_labels(w_1, train_1)\n",
    "\n",
    "# Get the predictions on the test set\n",
    "test_pred_1 = predict_labels(w_1, test_1)"
   ]
  },
  {
   "cell_type": "code",
   "execution_count": null,
   "metadata": {},
   "outputs": [],
   "source": [
    "# Compute the final results\n",
    "counting_errors(train_pred_1, y_tr_1)\n",
    "counting_errors(test_pred_1, y_te_1)"
   ]
  },
  {
   "cell_type": "markdown",
   "metadata": {},
   "source": [
    "***\n",
    "\n",
    "#### Ridge regression method"
   ]
  },
  {
   "cell_type": "code",
   "execution_count": null,
   "metadata": {},
   "outputs": [],
   "source": [
    "# Computation of the MSE and teh optimal weights\n",
    "mse_1, w_1 = ridge_regression(y_tr_1, train_1, MSE_loss, lambda_=1e-9)"
   ]
  },
  {
   "cell_type": "code",
   "execution_count": null,
   "metadata": {},
   "outputs": [],
   "source": [
    "# Get the predictions on the train set\n",
    "train_pred_1 = predict_labels(w_1, train_1)\n",
    "\n",
    "# Get the predictions on the test set\n",
    "test_pred_1 = predict_labels(w_1, test_1)"
   ]
  },
  {
   "cell_type": "code",
   "execution_count": null,
   "metadata": {},
   "outputs": [],
   "source": [
    "# Compute the final results\n",
    "counting_errors(train_pred_1, y_tr_1)\n",
    "counting_errors(test_pred_1, y_te_1)"
   ]
  },
  {
   "cell_type": "markdown",
   "metadata": {},
   "source": [
    "***\n",
    "\n",
    "#### Logistic regression using Gradient descent method"
   ]
  },
  {
   "cell_type": "code",
   "execution_count": null,
   "metadata": {},
   "outputs": [],
   "source": [
    "neg_log = Neg_log()"
   ]
  },
  {
   "cell_type": "code",
   "execution_count": null,
   "metadata": {},
   "outputs": [],
   "source": [
    "# Computation of he MSE and teh optimal weights\n",
    "initial_w = np.zeros(train_1.shape[1])\n",
    "loss, w_1 = logistic_regression(y_tr_1, train_1, neg_log, initial_w=initial_w, gamma=1, max_iters=1000)"
   ]
  },
  {
   "cell_type": "code",
   "execution_count": null,
   "metadata": {},
   "outputs": [],
   "source": [
    "# Get the predictions on the train set\n",
    "train_pred_1 = predict_labels(w_1, train_1)\n",
    "\n",
    "# Get the predictions on the test set\n",
    "test_pred_1 = predict_labels(w_1, test_1)"
   ]
  },
  {
   "cell_type": "code",
   "execution_count": null,
   "metadata": {},
   "outputs": [],
   "source": [
    "# Compute the final results\n",
    "counting_errors(train_pred_1, y_tr_1)\n",
    "counting_errors(test_pred_1, y_te_1)"
   ]
  },
  {
   "cell_type": "markdown",
   "metadata": {},
   "source": [
    "***\n",
    "\n",
    "#### Regularized logistic regression"
   ]
  },
  {
   "cell_type": "code",
   "execution_count": null,
   "metadata": {},
   "outputs": [],
   "source": [
    "# Computation of he MSE and teh optimal weights\n",
    "initial_w = np.zeros(train_1.shape[1])\n",
    "mse_1, w_1 = logistic_regression(y_tr_1, train_1, neg_log, initial_w=initial_w, gamma=0.01, max_iters=1000)"
   ]
  },
  {
   "cell_type": "code",
   "execution_count": null,
   "metadata": {},
   "outputs": [],
   "source": [
    "# Get the predictions on the train set\n",
    "train_pred_1 = predict_labels(w_1, train_1)\n",
    "\n",
    "# Get the predictions on the test set\n",
    "test_pred_1 = predict_labels(w_1, test_1)"
   ]
  },
  {
   "cell_type": "code",
   "execution_count": null,
   "metadata": {},
   "outputs": [],
   "source": [
    "# Compute the final results\n",
    "counting_errors(train_pred_1, y_tr_1)\n",
    "counting_errors(test_pred_1, y_te_1)"
   ]
  },
  {
   "cell_type": "code",
   "execution_count": null,
   "metadata": {},
   "outputs": [],
   "source": [
    "x = np.array([1,-2, 3])\n",
    "A = np.array([[3,2,4],[2,10,7]])\n",
    "print(np.multiply(x,A))\n",
    "print(x.shape)\n",
    "print(np.sign(x).shape)"
   ]
  },
  {
   "cell_type": "markdown",
   "metadata": {},
   "source": [
    "***\n",
    "***\n",
    "\n",
    "# Submit\n",
    "\n",
    "***\n",
    "#### Data set 0"
   ]
  },
  {
   "cell_type": "code",
   "execution_count": null,
   "metadata": {},
   "outputs": [],
   "source": [
    "meth = ridge_regression\n",
    "\n",
    "# Train our model and get the response weight and its loss\n",
    "initial_w = np.random.rand(class_0.shape[1])\n",
    "mse_0, w_0 = meth(y_0, class_0, MSE_loss, initial_w=initial_w, gamma=1e-2, max_iters=1000)"
   ]
  },
  {
   "cell_type": "code",
   "execution_count": null,
   "metadata": {},
   "outputs": [],
   "source": [
    "# Train our model and get the response weight and its loss\n",
    "initial_w = np.random.rand(class_1.shape[1])\n",
    "mse_1, w_1 = meth(y_1, class_1, MSE_loss, initial_w=initial_w, gamma=1e-2, max_iters=1000)"
   ]
  },
  {
   "cell_type": "code",
   "execution_count": null,
   "metadata": {},
   "outputs": [],
   "source": [
    "# Train our model and get the response weight and its loss\n",
    "initial_w = np.random.rand(class_2.shape[1])\n",
    "mse_2, w_2 = meth(y_2, class_2, MSE_loss, initial_w=initial_w, gamma=1e-2, max_iters=1000)"
   ]
  },
  {
   "cell_type": "code",
   "execution_count": null,
   "metadata": {},
   "outputs": [],
   "source": [
    "# Train our model and get the response weight and its loss\n",
    "initial_w = np.random.rand(class_3.shape[1])\n",
    "mse_3, w_3 = meth(y_3, class_3, MSE_loss, initial_w=initial_w, gamma=1e-2, max_iters=1000)"
   ]
  },
  {
   "cell_type": "code",
   "execution_count": null,
   "metadata": {},
   "outputs": [],
   "source": [
    "# Get the predictions on the train set\n",
    "y_pred_0 = predict_labels(w_0, class_0)\n",
    "y_pred_1 = predict_labels(w_1, class_1)\n",
    "y_pred_2 = predict_labels(w_2, class_2)\n",
    "y_pred_3 = predict_labels(w_3, class_3)"
   ]
  },
  {
   "cell_type": "code",
   "execution_count": null,
   "metadata": {},
   "outputs": [],
   "source": [
    "y_pred_train = rebuild_y(y_pred_0, y_pred_1, y_pred_2, y_pred_3, data_set)\n",
    "counting_errors(y_pred_train, data_y)"
   ]
  },
  {
   "cell_type": "code",
   "execution_count": null,
   "metadata": {},
   "outputs": [],
   "source": [
    "DATA_TEST_PATH = \"../data/test.csv\"\n",
    "_, data_test_set, ids_test = load_csv_data(DATA_TEST_PATH)"
   ]
  },
  {
   "cell_type": "code",
   "execution_count": null,
   "metadata": {},
   "outputs": [],
   "source": [
    "#EDA for each class\n",
    "class_0, class_1, class_2, class_3 = EDA_class(data_test_set)"
   ]
  },
  {
   "cell_type": "code",
   "execution_count": null,
   "metadata": {},
   "outputs": [],
   "source": [
    "# Get the predictions on the train set\n",
    "y_pred_0 = predict_labels(w_0, class_0)\n",
    "y_pred_1 = predict_labels(w_1, class_1)\n",
    "y_pred_2 = predict_labels(w_2, class_2)\n",
    "y_pred_3 = predict_labels(w_3, class_3)\n",
    "\n",
    "y_pred = rebuild_y(y_pred_0, y_pred_1, y_pred_2, y_pred_3, data_test_set)"
   ]
  },
  {
   "cell_type": "code",
   "execution_count": null,
   "metadata": {},
   "outputs": [],
   "source": [
    "OUTPUT_PATH = '../data/test_prediction_submission.csv' # TODO: fill in desired name of output file for submission\n",
    "create_csv_submission(ids_test, y_pred, OUTPUT_PATH)"
   ]
  }
 ],
 "metadata": {
  "anaconda-cloud": {},
  "interpreter": {
   "hash": "ab6a13f8d35690fc54a0784a7c413b5c6b88c02b498e2bc6bdd4734947920c66"
  },
  "kernelspec": {
   "display_name": "Python 3.8.8 64-bit ('base': conda)",
   "name": "python3"
  },
  "language_info": {
   "codemirror_mode": {
    "name": "ipython",
    "version": 3
   },
   "file_extension": ".py",
   "mimetype": "text/x-python",
   "name": "python",
   "nbconvert_exporter": "python",
   "pygments_lexer": "ipython3",
   "version": "3.8.8"
  }
 },
 "nbformat": 4,
 "nbformat_minor": 4
}
