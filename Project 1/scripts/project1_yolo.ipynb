{
 "cells": [
  {
   "cell_type": "code",
   "execution_count": 99,
   "metadata": {
    "tags": []
   },
   "outputs": [
    {
     "name": "stdout",
     "output_type": "stream",
     "text": [
      "The autoreload extension is already loaded. To reload it, use:\n",
      "  %reload_ext autoreload\n"
     ]
    }
   ],
   "source": [
    "# Useful starting lines\n",
    "%matplotlib inline\n",
    "import numpy as np\n",
    "import matplotlib.pyplot as plt\n",
    "from proj1_helpers import *\n",
    "from implementations import *\n",
    "from losses import *\n",
    "from EDA import *\n",
    "%load_ext autoreload\n",
    "%autoreload 2"
   ]
  },
  {
   "cell_type": "markdown",
   "metadata": {},
   "source": [
    "## Load the training data into feature matrix, class labels, and event ids:"
   ]
  },
  {
   "cell_type": "code",
   "execution_count": 100,
   "metadata": {
    "collapsed": false,
    "jupyter": {
     "outputs_hidden": false
    }
   },
   "outputs": [],
   "source": [
    "DATA_TRAIN_PATH = \"../data/train.csv\"\n",
    "data_y, data_set, ids = load_csv_data(DATA_TRAIN_PATH)"
   ]
  },
  {
   "cell_type": "code",
   "execution_count": 101,
   "metadata": {},
   "outputs": [],
   "source": [
    "# Fixing the seed\n",
    "seed = 8"
   ]
  },
  {
   "cell_type": "markdown",
   "metadata": {},
   "source": [
    "### Split and classify data"
   ]
  },
  {
   "cell_type": "code",
   "execution_count": 102,
   "metadata": {},
   "outputs": [],
   "source": [
    "# Classification of the output\n",
    "y_0, y_1, y_2, y_3 = y_classification(data_y, data_set)"
   ]
  },
  {
   "cell_type": "code",
   "execution_count": 103,
   "metadata": {},
   "outputs": [],
   "source": [
    "#EDA for each class\n",
    "class_0, class_1, class_2, class_3 = EDA_class(data_set)"
   ]
  },
  {
   "cell_type": "code",
   "execution_count": 104,
   "metadata": {},
   "outputs": [],
   "source": [
    "# Set the \"spliter\" value correponding to the part dedicated for train\n",
    "spliter = 0.8\n",
    "\n",
    "# Split into a train and a test set\n",
    "train_0, y_tr_0, test_0, y_te_0 = train_test_separator(y_0, class_0, spliter, seed)\n",
    "train_1, y_tr_1, test_1, y_te_1 = train_test_separator(y_1, class_1, spliter, seed)\n",
    "train_2, y_tr_2, test_2, y_te_2 = train_test_separator(y_2, class_2, spliter, seed)\n",
    "train_3, y_tr_3, test_3, y_te_3 = train_test_separator(y_3, class_3, spliter, seed)"
   ]
  },
  {
   "cell_type": "code",
   "execution_count": 105,
   "metadata": {},
   "outputs": [
    {
     "name": "stdout",
     "output_type": "stream",
     "text": [
      "(79930, 16)\n",
      "(62035, 22)\n",
      "(40303, 29)\n",
      "(17731, 28)\n"
     ]
    }
   ],
   "source": [
    "print(train_0.shape)\n",
    "print(train_1.shape)\n",
    "print(train_2.shape)\n",
    "print(train_3.shape)"
   ]
  },
  {
   "cell_type": "markdown",
   "metadata": {},
   "source": [
    "# Data set 1 - Exploration\n",
    "\n",
    "***\n",
    "\n",
    "#### Least squares method"
   ]
  },
  {
   "cell_type": "code",
   "execution_count": 106,
   "metadata": {},
   "outputs": [],
   "source": [
    "MSE_loss = MSE()"
   ]
  },
  {
   "cell_type": "code",
   "execution_count": 107,
   "metadata": {},
   "outputs": [],
   "source": [
    "# Computation of the MSE and teh optimal weights\n",
    "mse_1, w_1 = least_squares(y_tr_1, train_1, MSE_loss)"
   ]
  },
  {
   "cell_type": "code",
   "execution_count": 108,
   "metadata": {},
   "outputs": [],
   "source": [
    "# Get the predictions on the train set\n",
    "train_pred_1 = predict_labels(w_1, train_1)\n",
    "\n",
    "# Get the predictions on the test set\n",
    "test_pred_1 = predict_labels(w_1, test_1)"
   ]
  },
  {
   "cell_type": "code",
   "execution_count": 109,
   "metadata": {},
   "outputs": [
    {
     "name": "stdout",
     "output_type": "stream",
     "text": [
      "Numbers of errors :  18891  // Error accuracy [%] : % 30.452164100910778\n",
      "Numbers of errors :  4792  // Error accuracy [%] : % 30.898188148816818\n"
     ]
    }
   ],
   "source": [
    "# Compute the final results\n",
    "counting_errors(train_pred_1, y_tr_1)\n",
    "counting_errors(test_pred_1, y_te_1)"
   ]
  },
  {
   "cell_type": "markdown",
   "metadata": {},
   "source": [
    "*** \n",
    "\n",
    "#### Gradient Descent method with MSE loss"
   ]
  },
  {
   "cell_type": "code",
   "execution_count": 110,
   "metadata": {},
   "outputs": [],
   "source": [
    "# Train our model and get the response weight and its loss\n",
    "initial_w = np.zeros(train_1.shape[1])\n",
    "mse_1, w_1 = least_squares_GD(y_tr_1, train_1, MSE_loss, initial_w=initial_w, gamma=1e-1, max_iters=1000)"
   ]
  },
  {
   "cell_type": "code",
   "execution_count": 111,
   "metadata": {},
   "outputs": [],
   "source": [
    "# Get the predictions on the train set\n",
    "train_pred_1 = predict_labels(w_1, train_1)\n",
    "\n",
    "# Get the predictions on the test set\n",
    "test_pred_1 = predict_labels(w_1, test_1)"
   ]
  },
  {
   "cell_type": "code",
   "execution_count": 112,
   "metadata": {},
   "outputs": [
    {
     "name": "stdout",
     "output_type": "stream",
     "text": [
      "Numbers of errors :  18889  // Error accuracy [%] : % 30.448940114451517\n",
      "Numbers of errors :  4791  // Error accuracy [%] : % 30.891740279837514\n"
     ]
    }
   ],
   "source": [
    "# Compute the final results\n",
    "counting_errors(train_pred_1, y_tr_1)\n",
    "counting_errors(test_pred_1, y_te_1)"
   ]
  },
  {
   "cell_type": "markdown",
   "metadata": {},
   "source": [
    "***\n",
    "\n",
    "#### Stochastic Gradient descent with MSE loss"
   ]
  },
  {
   "cell_type": "code",
   "execution_count": 114,
   "metadata": {},
   "outputs": [
    {
     "name": "stdout",
     "output_type": "stream",
     "text": [
      "0.13860464529432823\n"
     ]
    }
   ],
   "source": [
    "# Train our model and get the response weight and its loss\n",
    "initial_w = np.random.rand(train_1.shape[1])\n",
    "mse_1, w_1 = least_squares_SGD(y_tr_1, train_1, MSE_loss, initial_w=initial_w, gamma=1e-2, max_iters=1000)\n",
    "print(mse_1)"
   ]
  },
  {
   "cell_type": "code",
   "execution_count": 115,
   "metadata": {},
   "outputs": [],
   "source": [
    "# Get the predictions on the train set\n",
    "train_pred_1 = predict_labels(w_1, train_1)\n",
    "\n",
    "# Get the predictions on the test set\n",
    "test_pred_1 = predict_labels(w_1, test_1)"
   ]
  },
  {
   "cell_type": "code",
   "execution_count": 116,
   "metadata": {},
   "outputs": [
    {
     "name": "stdout",
     "output_type": "stream",
     "text": [
      "Numbers of errors :  21110  // Error accuracy [%] : % 34.029177077456275\n",
      "Numbers of errors :  5365  // Error accuracy [%] : % 34.59281707395706\n"
     ]
    }
   ],
   "source": [
    "# Compute the final results\n",
    "counting_errors(train_pred_1, y_tr_1)\n",
    "counting_errors(test_pred_1, y_te_1)"
   ]
  },
  {
   "cell_type": "markdown",
   "metadata": {},
   "source": [
    "***\n",
    "\n",
    "#### Ridge regression method"
   ]
  },
  {
   "cell_type": "code",
   "execution_count": 117,
   "metadata": {},
   "outputs": [],
   "source": [
    "# Computation of the MSE and teh optimal weights\n",
    "mse_1, w_1 = ridge_regression(y_tr_1, train_1, MSE_loss, lambda_=0.5)"
   ]
  },
  {
   "cell_type": "code",
   "execution_count": 118,
   "metadata": {},
   "outputs": [],
   "source": [
    "# Get the predictions on the train set\n",
    "train_pred_1 = predict_labels(w_1, train_1)\n",
    "\n",
    "# Get the predictions on the test set\n",
    "test_pred_1 = predict_labels(w_1, test_1)"
   ]
  },
  {
   "cell_type": "code",
   "execution_count": 119,
   "metadata": {},
   "outputs": [
    {
     "name": "stdout",
     "output_type": "stream",
     "text": [
      "Numbers of errors :  19374  // Error accuracy [%] : % 31.23075683082131\n",
      "Numbers of errors :  4893  // Error accuracy [%] : % 31.549422915726353\n"
     ]
    }
   ],
   "source": [
    "# Compute the final results\n",
    "counting_errors(train_pred_1, y_tr_1)\n",
    "counting_errors(test_pred_1, y_te_1)"
   ]
  },
  {
   "cell_type": "markdown",
   "metadata": {},
   "source": [
    "***\n",
    "\n",
    "#### Logistic regression using Gradient descent method"
   ]
  },
  {
   "cell_type": "code",
   "execution_count": 120,
   "metadata": {},
   "outputs": [],
   "source": [
    "neg_log = Neg_log()"
   ]
  },
  {
   "cell_type": "code",
   "execution_count": 121,
   "metadata": {},
   "outputs": [
    {
     "name": "stderr",
     "output_type": "stream",
     "text": [
      "/Users/gaspardvilla/Documents/EPFL/5ème année/Semestre IX/Machine Learning/Workspace/Project 1/scripts/losses.py:64: RuntimeWarning: overflow encountered in exp\n",
      "  return np.exp(t) / (1 + np.exp(t))\n",
      "/Users/gaspardvilla/Documents/EPFL/5ème année/Semestre IX/Machine Learning/Workspace/Project 1/scripts/losses.py:72: RuntimeWarning: divide by zero encountered in log\n",
      "  \n"
     ]
    }
   ],
   "source": [
    "# Computation of he MSE and teh optimal weights\n",
    "initial_w = np.zeros(train_1.shape[1])\n",
    "loss, w_1 = logistic_regression(y_tr_1, train_1, neg_log, initial_w=initial_w, gamma=1, max_iters=1000)"
   ]
  },
  {
   "cell_type": "code",
   "execution_count": 122,
   "metadata": {},
   "outputs": [],
   "source": [
    "# Get the predictions on the train set\n",
    "train_pred_1 = predict_labels(w_1, train_1)\n",
    "\n",
    "# Get the predictions on the test set\n",
    "test_pred_1 = predict_labels(w_1, test_1)"
   ]
  },
  {
   "cell_type": "code",
   "execution_count": 123,
   "metadata": {},
   "outputs": [
    {
     "name": "stdout",
     "output_type": "stream",
     "text": [
      "Numbers of errors :  20674  // Error accuracy [%] : % 33.32634802933828\n",
      "Numbers of errors :  5218  // Error accuracy [%] : % 33.64498033399961\n"
     ]
    }
   ],
   "source": [
    "# Compute the final results\n",
    "counting_errors(train_pred_1, y_tr_1)\n",
    "counting_errors(test_pred_1, y_te_1)"
   ]
  },
  {
   "cell_type": "markdown",
   "metadata": {},
   "source": [
    "***\n",
    "\n",
    "#### Regularized logistic regression"
   ]
  },
  {
   "cell_type": "code",
   "execution_count": 124,
   "metadata": {},
   "outputs": [
    {
     "name": "stderr",
     "output_type": "stream",
     "text": [
      "/Users/gaspardvilla/Documents/EPFL/5ème année/Semestre IX/Machine Learning/Workspace/Project 1/scripts/losses.py:64: RuntimeWarning: overflow encountered in exp\n",
      "  return np.exp(t) / (1 + np.exp(t))\n",
      "/Users/gaspardvilla/Documents/EPFL/5ème année/Semestre IX/Machine Learning/Workspace/Project 1/scripts/losses.py:72: RuntimeWarning: divide by zero encountered in log\n",
      "  \n"
     ]
    }
   ],
   "source": [
    "# Computation of he MSE and teh optimal weights\n",
    "initial_w = np.zeros(train_1.shape[1])\n",
    "mse_1, w_1 = logistic_regression(y_tr_1, train_1, neg_log, initial_w=initial_w, gamma=0.01, max_iters=1000)"
   ]
  },
  {
   "cell_type": "code",
   "execution_count": 125,
   "metadata": {},
   "outputs": [],
   "source": [
    "# Get the predictions on the train set\n",
    "train_pred_1 = predict_labels(w_1, train_1)\n",
    "\n",
    "# Get the predictions on the test set\n",
    "test_pred_1 = predict_labels(w_1, test_1)"
   ]
  },
  {
   "cell_type": "code",
   "execution_count": 126,
   "metadata": {},
   "outputs": [
    {
     "name": "stdout",
     "output_type": "stream",
     "text": [
      "Numbers of errors :  20674  // Error accuracy [%] : % 33.32634802933828\n",
      "Numbers of errors :  5218  // Error accuracy [%] : % 33.64498033399961\n"
     ]
    }
   ],
   "source": [
    "# Compute the final results\n",
    "counting_errors(train_pred_1, y_tr_1)\n",
    "counting_errors(test_pred_1, y_te_1)"
   ]
  },
  {
   "cell_type": "code",
   "execution_count": null,
   "metadata": {},
   "outputs": [],
   "source": [
    "x = np.array([1,-2, 3])\n",
    "A = np.array([[3,2,4],[2,10,7]])\n",
    "print(np.multiply(x,A))\n",
    "print(x.shape)\n",
    "print(np.sign(x).shape)"
   ]
  },
  {
   "cell_type": "code",
   "execution_count": null,
   "metadata": {},
   "outputs": [],
   "source": []
  }
 ],
 "metadata": {
  "anaconda-cloud": {},
  "interpreter": {
   "hash": "ab6a13f8d35690fc54a0784a7c413b5c6b88c02b498e2bc6bdd4734947920c66"
  },
  "kernelspec": {
   "display_name": "Python 3.8.8 64-bit ('base': conda)",
   "name": "python3"
  },
  "language_info": {
   "codemirror_mode": {
    "name": "ipython",
    "version": 3
   },
   "file_extension": ".py",
   "mimetype": "text/x-python",
   "name": "python",
   "nbconvert_exporter": "python",
   "pygments_lexer": "ipython3",
   "version": "3.8.8"
  }
 },
 "nbformat": 4,
 "nbformat_minor": 4
}
