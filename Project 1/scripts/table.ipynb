{
 "cells": [
  {
   "cell_type": "code",
   "execution_count": 40,
   "id": "a46f216d-f7cd-49d5-b2df-48d0157a7cf2",
   "metadata": {},
   "outputs": [
    {
     "name": "stdout",
     "output_type": "stream",
     "text": [
      "The autoreload extension is already loaded. To reload it, use:\n",
      "  %reload_ext autoreload\n"
     ]
    }
   ],
   "source": [
    "# Useful starting lines\n",
    "%matplotlib inline\n",
    "import numpy as np\n",
    "import matplotlib.pyplot as plt\n",
    "from proj1_helpers import *\n",
    "from implementations import *\n",
    "from losses import *\n",
    "from EDA import *\n",
    "from plots import *\n",
    "from cross_validation import *\n",
    "%load_ext autoreload\n",
    "%autoreload 2"
   ]
  },
  {
   "cell_type": "markdown",
   "id": "be4706bc-a4fe-404c-9a6a-1b1cd788a3ee",
   "metadata": {
    "tags": []
   },
   "source": [
    "# Class 0\n",
    "***"
   ]
  },
  {
   "cell_type": "markdown",
   "id": "85b13254-3e33-470d-925c-66eff4112ea7",
   "metadata": {},
   "source": [
    "## Load the training data into feature matrix, class labels, and event ids:"
   ]
  },
  {
   "cell_type": "code",
   "execution_count": 41,
   "id": "a42c6ced-0a10-4b65-9533-6c503f2f6a3a",
   "metadata": {
    "collapsed": false,
    "jupyter": {
     "outputs_hidden": false
    }
   },
   "outputs": [],
   "source": [
    "DATA_TRAIN_PATH = \"../data/train.csv\"\n",
    "data_y, data_set, ids = load_csv_data(DATA_TRAIN_PATH, sub_sample=True)"
   ]
  },
  {
   "cell_type": "code",
   "execution_count": 42,
   "id": "d1f0e939-252d-4dc2-b2a9-817bde7e65f6",
   "metadata": {},
   "outputs": [],
   "source": [
    "# Fixing the seed\n",
    "seed = 8"
   ]
  },
  {
   "cell_type": "markdown",
   "id": "6b1230e1-e3ab-4114-840d-1c583178e485",
   "metadata": {},
   "source": [
    "### Split and classify data"
   ]
  },
  {
   "cell_type": "code",
   "execution_count": 43,
   "id": "234f57dc-1faa-4bd9-b707-50e960ffbc15",
   "metadata": {},
   "outputs": [],
   "source": [
    "# Classification of the output\n",
    "y_0, y_1, y_2, y_3 = y_classification(data_y, data_set)"
   ]
  },
  {
   "cell_type": "code",
   "execution_count": 44,
   "id": "be102f78-3abe-47b6-8184-39831b89af73",
   "metadata": {},
   "outputs": [
    {
     "name": "stdout",
     "output_type": "stream",
     "text": [
      "(3895, 6)\n",
      "(3174, 9)\n",
      "(2056, 18)\n",
      "(875, 14)\n"
     ]
    }
   ],
   "source": [
    "#EDA for each class\n",
    "class_0, class_1, class_2, class_3 = EDA_class(data_set)\n",
    "print(class_0.shape)\n",
    "print(class_1.shape)\n",
    "print(class_2.shape)\n",
    "print(class_3.shape)"
   ]
  },
  {
   "cell_type": "markdown",
   "metadata": {},
   "source": [
    "# Resume of results for the Class 0\n",
    "\n",
    "#### Least squares\n",
    "\n",
    "***"
   ]
  },
  {
   "cell_type": "code",
   "execution_count": 53,
   "metadata": {},
   "outputs": [
    {
     "name": "stdout",
     "output_type": "stream",
     "text": [
      "Forward step\n",
      "1 0\n",
      "1 1\n",
      "1 2\n",
      "1 3\n",
      "1 4\n",
      "1 5\n",
      "2 0\n",
      "2 1\n",
      "2 2\n",
      "2 3\n",
      "2 4\n",
      "2 5\n",
      "3 0\n",
      "3 1\n",
      "3 2\n",
      "3 3\n",
      "3 4\n",
      "3 5\n",
      "4 0\n",
      "4 1\n",
      "4 2\n",
      "4 3\n",
      "4 4\n",
      "4 5\n",
      "5 0\n",
      "5 1\n",
      "5 2\n",
      "5 3\n",
      "5 4\n",
      "5 5\n",
      "6 0\n",
      "6 1\n",
      "6 2\n",
      "6 3\n",
      "6 4\n",
      "6 5\n",
      "forward:  16.251604621309372  Train:  16.2002567394095\n",
      "Backward step\n",
      "backward:  15.892169448010268  Train:  15.661103979460847\n",
      "Interactions step\n",
      "Best train error:  15.231065468549422\n",
      "Best test error:  15.301668806161747\n",
      "Std:  1.1377930580826876\n"
     ]
    }
   ],
   "source": [
    "param_least = Parameters()\n",
    "param_least.set_degree(max_degree)\n",
    "param_least.set_method(least_squares)\n",
    "param_least.set_k_fold(kfold)\n",
    "param_least.set_viz(False)\n",
    "param_least.set_use_backward_selection(True)\n",
    "param_least.set_use_interactions(True)\n",
    "# Cross validation\n",
    "param_least = cross_validation_poly_gas(y_0, class_0, param_least)\n",
    "\n",
    "\n",
    "print(\"Best train error: \", param_least.best_train_error)\n",
    "print(\"Best test error: \", param_least.best_error)\n",
    "print('Std: ', param_least.std)\n"
   ]
  },
  {
   "cell_type": "code",
   "execution_count": 54,
   "metadata": {},
   "outputs": [
    {
     "name": "stdout",
     "output_type": "stream",
     "text": [
      "Forward step\n",
      "1 0\n",
      "1 1\n",
      "1 2\n",
      "1 3\n",
      "1 4\n",
      "1 5\n",
      "2 0\n",
      "2 1\n",
      "2 2\n",
      "2 3\n",
      "2 4\n",
      "2 5\n",
      "3 0\n",
      "3 1\n",
      "3 2\n",
      "3 3\n",
      "3 4\n",
      "3 5\n",
      "4 0\n",
      "4 1\n",
      "4 2\n",
      "4 3\n",
      "4 4\n",
      "4 5\n",
      "5 0\n",
      "5 1\n",
      "5 2\n",
      "5 3\n",
      "5 4\n",
      "5 5\n",
      "6 0\n",
      "6 1\n",
      "6 2\n",
      "6 3\n",
      "6 4\n",
      "6 5\n",
      "forward:  17.43260590500642  Train:  17.28498074454429\n",
      "Backward step\n",
      "backward:  21.617458279845955  Train:  21.649550706033377\n",
      "Interactions step\n",
      "Best train error:  16.604621309370987\n",
      "Best test error:  17.073170731707314\n",
      "Std:  1.1567527934345376\n"
     ]
    }
   ],
   "source": [
    "param_GD = Parameters()\n",
    "param_GD.set_degree(max_degree)\n",
    "param_GD.set_loss_fct(mse)\n",
    "param_GD.set_k_fold(kfold)\n",
    "param_GD.set_method(least_squares_GD)\n",
    "param_GD.set_to_test(['gamma'])\n",
    "param_GD.set_viz(False)\n",
    "param_GD.set_use_backward_selection(True)\n",
    "param_GD.set_use_interactions(True)\n",
    "# Cross validation\n",
    "param_GD = cross_validation_poly_gas(y_0, class_0, param_GD)\n",
    "\n",
    "print(\"Best train error: \", param_GD.best_train_error)\n",
    "print(\"Best test error: \", param_GD.best_error)\n",
    "print('Std: ', param_GD.std)"
   ]
  },
  {
   "cell_type": "code",
   "execution_count": 55,
   "metadata": {},
   "outputs": [
    {
     "name": "stdout",
     "output_type": "stream",
     "text": [
      "Forward step\n",
      "1 0\n",
      "1 1\n",
      "1 2\n",
      "1 3\n",
      "1 4\n",
      "1 5\n",
      "2 0\n",
      "2 1\n",
      "2 2\n",
      "2 3\n",
      "2 4\n",
      "2 5\n",
      "3 0\n",
      "3 1\n",
      "3 2\n",
      "3 3\n",
      "3 4\n",
      "3 5\n",
      "4 0\n",
      "4 1\n",
      "4 2\n",
      "4 3\n",
      "4 4\n",
      "4 5\n",
      "5 0\n",
      "5 1\n",
      "5 2\n",
      "5 3\n",
      "5 4\n",
      "5 5\n",
      "6 0\n",
      "6 1\n",
      "6 2\n",
      "6 3\n",
      "6 4\n",
      "6 5\n",
      "forward:  20.051347881899872  Train:  20.275994865211807\n",
      "Backward step\n",
      "backward:  22.593068035943514  Train:  22.58023106546855\n",
      "Interactions step\n",
      "Best train error:  19.826700898587934\n",
      "Best test error:  19.537869062901155\n",
      "Std:  2.4361850915073595\n"
     ]
    }
   ],
   "source": [
    "param_SGD = Parameters()\n",
    "param_SGD.set_degree(max_degree)\n",
    "param_SGD.set_k_fold(kfold)\n",
    "param_SGD.set_loss_fct(mse)\n",
    "param_SGD.set_method(least_squares_SGD)\n",
    "param_SGD.set_to_test(['gamma'])\n",
    "param_SGD.set_viz(False)\n",
    "param_SGD.set_use_backward_selection(True)\n",
    "param_SGD.set_use_interactions(True)\n",
    "# Cross validation\n",
    "param_SGD = cross_validation_poly_gas(y_0, class_0, param_SGD)\n",
    "\n",
    "print(\"Best train error: \", param_SGD.best_train_error)\n",
    "print(\"Best test error: \", param_SGD.best_error)\n",
    "print('Std: ', param_SGD.std)"
   ]
  },
  {
   "cell_type": "code",
   "execution_count": 56,
   "metadata": {},
   "outputs": [
    {
     "name": "stdout",
     "output_type": "stream",
     "text": [
      "Forward step\n",
      "1 0\n",
      "1 1\n",
      "1 2\n",
      "1 3\n",
      "1 4\n",
      "1 5\n",
      "2 0\n",
      "2 1\n",
      "2 2\n",
      "2 3\n",
      "2 4\n",
      "2 5\n",
      "3 0\n",
      "3 1\n",
      "3 2\n",
      "3 3\n",
      "3 4\n",
      "3 5\n",
      "4 0\n",
      "4 1\n",
      "4 2\n",
      "4 3\n",
      "4 4\n",
      "4 5\n",
      "5 0\n",
      "5 1\n",
      "5 2\n",
      "5 3\n",
      "5 4\n",
      "5 5\n",
      "6 0\n",
      "6 1\n",
      "6 2\n",
      "6 3\n",
      "6 4\n",
      "6 5\n",
      "forward:  16.14890885750963  Train:  15.898587933247754\n",
      "Backward step\n",
      "backward:  15.892169448010268  Train:  15.661103979460847\n",
      "Interactions step\n",
      "Best train error:  15.205391527599488\n",
      "Best test error:  15.250320924261874\n",
      "Std:  1.037811703795006\n"
     ]
    }
   ],
   "source": [
    "param_ridge = Parameters()\n",
    "param_ridge.set_degree(max_degree)\n",
    "param_ridge.set_loss_fct(mse)\n",
    "param_ridge.set_k_fold(kfold)\n",
    "param_ridge.set_method(ridge_regression)\n",
    "param_ridge.set_to_test(['lambda'])\n",
    "param_ridge.set_viz(False)\n",
    "param_ridge.set_use_backward_selection(True)\n",
    "param_ridge.set_use_interactions(True)\n",
    "# Cross validation\n",
    "param_ridge = cross_validation_poly_gas(y_0, class_0, param_ridge)\n",
    "\n",
    "print(\"Best train error: \", param_ridge.best_train_error)\n",
    "print(\"Best test error: \", param_ridge.best_error)\n",
    "print('Std: ', param_ridge.std)"
   ]
  },
  {
   "cell_type": "code",
   "execution_count": 57,
   "metadata": {},
   "outputs": [
    {
     "name": "stdout",
     "output_type": "stream",
     "text": [
      "Forward step\n",
      "1 0\n",
      "1 1\n",
      "1 2\n",
      "1 3\n",
      "1 4\n",
      "1 5\n",
      "2 0\n",
      "2 1\n",
      "2 2\n",
      "2 3\n",
      "2 4\n",
      "2 5\n",
      "3 0\n",
      "3 1\n",
      "3 2\n",
      "3 3\n",
      "3 4\n",
      "3 5\n",
      "4 0\n",
      "4 1\n",
      "4 2\n",
      "4 3\n",
      "4 4\n",
      "4 5\n",
      "5 0\n"
     ]
    },
    {
     "name": "stderr",
     "output_type": "stream",
     "text": [
      "/Users/gaspardvilla/Documents/EPFL/5ème année/Semestre IX/Machine Learning/Workspace/Project 1/scripts/implementations.py:107: RuntimeWarning: invalid value encountered in subtract\n",
      "  w = w - (parameters.gamma * grad)\n"
     ]
    },
    {
     "name": "stdout",
     "output_type": "stream",
     "text": [
      "5 1\n",
      "5 2\n",
      "5 3\n",
      "5 4\n",
      "5 5\n",
      "6 0\n",
      "6 1\n",
      "6 2\n",
      "6 3\n",
      "6 4\n",
      "6 5\n",
      "forward:  17.43260590500642  Train:  17.28498074454429\n",
      "Backward step\n",
      "backward:  21.617458279845955  Train:  21.649550706033377\n",
      "Interactions step\n",
      "Best train error:  16.604621309370987\n",
      "Best test error:  17.073170731707314\n",
      "Std:  1.1567527934345376\n"
     ]
    }
   ],
   "source": [
    "param_log = Parameters()\n",
    "param_log.set_degree(max_degree)\n",
    "param_log.set_loss_fct(mse)\n",
    "param_log.set_k_fold(kfold)\n",
    "param_log.set_method(logistic_regression)\n",
    "param_log.set_to_test(['gamma'])\n",
    "param_log.set_viz(False)\n",
    "param_log.set_use_backward_selection(True)\n",
    "param_log.set_use_interactions(True)\n",
    "# Cross validation\n",
    "param_log = cross_validation_poly_gas(y_0, class_0, param_log)\n",
    "\n",
    "print(\"Best train error: \", param_log.best_train_error)\n",
    "print(\"Best test error: \", param_log.best_error)\n",
    "print('Std: ', param_log.std)"
   ]
  },
  {
   "cell_type": "code",
   "execution_count": 58,
   "metadata": {},
   "outputs": [
    {
     "name": "stdout",
     "output_type": "stream",
     "text": [
      "Forward step\n",
      "1 0\n",
      "1 1\n",
      "1 2\n",
      "1 3\n",
      "1 4\n",
      "1 5\n",
      "2 0\n",
      "2 1\n",
      "2 2\n",
      "2 3\n",
      "2 4\n",
      "2 5\n",
      "3 0\n",
      "3 1\n",
      "3 2\n",
      "3 3\n",
      "3 4\n",
      "3 5\n",
      "4 0\n"
     ]
    },
    {
     "name": "stderr",
     "output_type": "stream",
     "text": [
      "/Users/gaspardvilla/Documents/EPFL/5ème année/Semestre IX/Machine Learning/Workspace/Project 1/scripts/implementations.py:134: RuntimeWarning: invalid value encountered in double_scalars\n",
      "  if len(losses) > 1 and np.abs(losses[-1] - losses[-2]) < parameters.threshold:\n"
     ]
    },
    {
     "name": "stdout",
     "output_type": "stream",
     "text": [
      "4 1\n",
      "4 2\n",
      "4 3\n",
      "4 4\n",
      "4 5\n",
      "5 0\n"
     ]
    },
    {
     "name": "stderr",
     "output_type": "stream",
     "text": [
      "/Users/gaspardvilla/Documents/EPFL/5ème année/Semestre IX/Machine Learning/Workspace/Project 1/scripts/implementations.py:127: RuntimeWarning: invalid value encountered in subtract\n",
      "  w = w - (parameters.gamma * grad)\n"
     ]
    },
    {
     "name": "stdout",
     "output_type": "stream",
     "text": [
      "5 1\n",
      "5 2\n",
      "5 3\n",
      "5 4\n",
      "5 5\n",
      "6 0\n",
      "6 1\n",
      "6 2\n",
      "6 3\n",
      "6 4\n",
      "6 5\n",
      "forward:  17.48395378690629  Train:  17.041078305519896\n",
      "Backward step\n",
      "backward:  21.617458279845955  Train:  21.643132220795895\n",
      "Interactions step\n",
      "Best train error:  16.899871630295248\n",
      "Best test error:  16.944801026957638\n",
      "Std:  1.2232225160022177\n"
     ]
    }
   ],
   "source": [
    "param_reg = Parameters()\n",
    "param_reg.set_degree(max_degree)\n",
    "param_reg.set_loss_fct(mse)\n",
    "param_reg.set_k_fold(kfold)\n",
    "param_reg.set_method(reg_logistic_regression)\n",
    "param_reg.set_to_test(['gamma', 'lambda'])\n",
    "param_reg.set_viz(False)\n",
    "param_reg.set_use_backward_selection(True)\n",
    "param_reg.set_use_interactions(True)\n",
    "# Cross validation\n",
    "param_reg = cross_validation_poly_gas(y_0, class_0, param_reg)\n",
    "\n",
    "print(\"Best train error: \", param_reg.best_train_error)\n",
    "print(\"Best test error: \", param_reg.best_error)\n",
    "print('Std: ', param_reg.std)"
   ]
  },
  {
   "cell_type": "code",
   "execution_count": null,
   "metadata": {},
   "outputs": [],
   "source": []
  }
 ],
 "metadata": {
  "interpreter": {
   "hash": "ab6a13f8d35690fc54a0784a7c413b5c6b88c02b498e2bc6bdd4734947920c66"
  },
  "kernelspec": {
   "display_name": "Python 3.8.8 64-bit ('base': conda)",
   "name": "python3"
  },
  "language_info": {
   "codemirror_mode": {
    "name": "ipython",
    "version": 3
   },
   "file_extension": ".py",
   "mimetype": "text/x-python",
   "name": "python",
   "nbconvert_exporter": "python",
   "pygments_lexer": "ipython3",
   "version": "3.8.8"
  }
 },
 "nbformat": 4,
 "nbformat_minor": 5
}
