{
 "cells": [
  {
   "cell_type": "code",
   "execution_count": null,
   "metadata": {},
   "outputs": [],
   "source": [
    "# Import the MSCDB api\n",
    "import mascdb.api\n",
    "from mascdb.api import MASC_DB\n",
    "\n",
    "# Import other libraries\n",
    "from IPython.display import display\n",
    "import numpy as np\n",
    "import pandas as pd\n",
    "import pyarrow\n",
    "from sklearn.model_selection import *\n",
    "from sklearn import *\n",
    "\n",
    "# Import files\n",
    "from helpers import *\n",
    "\n",
    "# Autoreload\n",
    "%load_ext autoreload\n",
    "%autoreload 2"
   ]
  },
  {
   "cell_type": "code",
   "execution_count": null,
   "metadata": {},
   "outputs": [],
   "source": [
    "masc_path = 'Data/MASCDB'\n",
    "mascdb = MASC_DB(masc_path)"
   ]
  },
  {
   "cell_type": "code",
   "execution_count": null,
   "metadata": {},
   "outputs": [],
   "source": [
    "print(mascdb)\n",
    "len(mascdb)\n",
    "mascdb.cam0.sns.boxplot(x = \"Dmax\")"
   ]
  },
  {
   "cell_type": "markdown",
   "metadata": {},
   "source": [
    "**Remark:** Par exemple, on peut avoir 1100 flocons qui sont classifiés pour la cam 2, mais seulement 815 sont dans le parquet file. La raison veint du fait que la classification a été faite sur les images et donc les données numériques n'ont pas été nécéssairement produites poru toutes les photos."
   ]
  },
  {
   "cell_type": "code",
   "execution_count": null,
   "metadata": {},
   "outputs": [],
   "source": [
    "# Get the columns to delelte for our experiences\n",
    "black_list_words = ['roi', 'riming', 'melting', 'snowflake', 'hl']\n",
    "cols_to_delete = list(filter(lambda cols: any(word in cols for word in black_list_words), mascdb.cam0.columns))\n",
    "cols_to_delete.extend(['datetime', 'pix_size', 'flake_number_tmp', 'event_id'])"
   ]
  },
  {
   "cell_type": "code",
   "execution_count": null,
   "metadata": {},
   "outputs": [],
   "source": [
    "mascdb_filtered = mascdb.drop_cam_columns(cols_to_delete)\n",
    "display(mascdb_filtered.cam0)"
   ]
  },
  {
   "cell_type": "markdown",
   "metadata": {},
   "source": [
    "**Remark:** Normal d'avoir deux fois la colonne `flake_id` dans notre dataframe. "
   ]
  },
  {
   "cell_type": "code",
   "execution_count": null,
   "metadata": {},
   "outputs": [],
   "source": [
    "# Get train set\n",
    "mascdb_classes = MASCDB_classes(\"Data\")\n",
    "cam0_train_set = mascdb_classes.find_flake_id(\"hydro\", 0, mascdb.cam0)\n",
    "display(mascdb_classes.hydro_cam0.head(10))\n",
    "for i in range(1, 7):\n",
    "    display(mascdb_classes.hydro_cam0[mascdb_classes.hydro_cam0.class_id == i].shape)"
   ]
  },
  {
   "cell_type": "code",
   "execution_count": null,
   "metadata": {},
   "outputs": [],
   "source": [
    "input = mascdb_classes.get_input(\"hydro\", mascdb_filtered)"
   ]
  },
  {
   "cell_type": "code",
   "execution_count": null,
   "metadata": {},
   "outputs": [],
   "source": [
    "print('Gaspard')"
    "print('Marie-Alix')"
   ]
  },
  {
   "cell_type": "code",
   "execution_count": null,
   "metadata": {},
   "outputs": [],
   "source": [
    "#Standardization of the data\n",
    "pt = preprocessing.PowerTransformer(method='yeo-johnson', standardize=True)\n",
    "input_ = pt.fit(input.drop(['flake_id'], axis=1))"
   ]
  },
  {
   "cell_type": "code",
   "execution_count": null,
   "metadata": {},
   "outputs": [],
   "source": []
  }
 ],
 "metadata": {
  "kernelspec": {
   "display_name": "Python 3",
   "language": "python",
   "name": "python3"
  },
  "language_info": {
   "codemirror_mode": {
    "name": "ipython",
    "version": 3
   },
   "file_extension": ".py",
   "mimetype": "text/x-python",
   "name": "python",
   "nbconvert_exporter": "python",
   "pygments_lexer": "ipython3",
   "version": "3.9.7"
  },
  "pycharm": {
   "stem_cell": {
    "cell_type": "raw",
    "metadata": {
     "collapsed": false
    },
    "source": []
   }
  }
 },
 "nbformat": 4,
 "nbformat_minor": 1
}
