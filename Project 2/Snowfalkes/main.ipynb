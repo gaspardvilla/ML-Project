{
 "cells": [
  {
   "cell_type": "code",
   "execution_count": null,
   "metadata": {},
   "outputs": [],
   "source": [
    "# Import the MSCDB api\n",
    "import mascdb.api\n",
    "from mascdb.api import MASC_DB\n",
    "\n",
    "# Import other libraries\n",
    "from IPython.display import display\n",
    "import numpy as np\n",
    "import pandas as pd\n",
    "import pyarrow\n",
    "import os\n",
    "\n",
    "# Import sklearn tools\n",
    "from sklearn.model_selection import *\n",
    "from sklearn.metrics import *\n",
    "from sklearn import *\n",
    "from sklearn.pipeline import *\n",
    "from sklearn.preprocessing import *\n",
    "from sklearn.ensemble import *\n",
    "from sklearn.svm import *\n",
    "from sklearn.preprocessing import * \n",
    "\n",
    "# Import files\n",
    "from helpers import *\n",
    "from cross_validation import *\n",
    "from models import *\n",
    "from dataloader import load_data_sets\n",
    "from dataprocess import processing\n",
    "\n",
    "# Autoreload\n",
    "%load_ext autoreload\n",
    "%autoreload 2"
   ]
  },
  {
   "cell_type": "code",
   "execution_count": null,
   "metadata": {},
   "outputs": [],
   "source": [
    "classifier = 'riming'\n",
    "data_set, classes = load_data_sets(classifier = classifier)"
   ]
  },
  {
   "cell_type": "code",
   "execution_count": null,
   "metadata": {},
   "outputs": [],
   "source": [
    "X, y = processing(data_set, classes, classifier)"
   ]
  },
  {
   "cell_type": "code",
   "execution_count": null,
   "metadata": {},
   "outputs": [],
   "source": [
    "display(X.shape)"
   ]
  },
  {
   "cell_type": "code",
   "execution_count": null,
   "metadata": {},
   "outputs": [],
   "source": [
    "# Get a train and test set for modelization\n",
    "k_fold = 5\n",
    "seed = 0\n",
    "X_train, y_train, X_test, y_test = split_data(X, y, kfold = k_fold, seed = seed)"
   ]
  },
  {
   "cell_type": "code",
   "execution_count": null,
   "metadata": {},
   "outputs": [],
   "source": [
    "# Feature selection\n",
    "method = 'lassoCV'\n",
    "model_feat_selec = get_model_features_selection(X_train, y_train, method, k_fold, seed = seed)"
   ]
  },
  {
   "cell_type": "code",
   "execution_count": null,
   "metadata": {},
   "outputs": [],
   "source": [
    "# Select the good features\n",
    "X_train_reduce = feature_transform(model_feat_selec, X_train, method)\n",
    "X_test_reduce = feature_transform(model_feat_selec, X_test, method)"
   ]
  },
  {
   "cell_type": "code",
   "execution_count": null,
   "metadata": {},
   "outputs": [],
   "source": [
    "# Oversampling\n",
    "X_train_reduce, y_train = smote_data_augmentation(X_train_reduce, y_train, seed = seed)"
   ]
  },
  {
   "cell_type": "code",
   "execution_count": null,
   "metadata": {},
   "outputs": [],
   "source": [
    "verbose = 2"
   ]
  },
  {
   "cell_type": "code",
   "execution_count": null,
   "metadata": {},
   "outputs": [],
   "source": [
    "# MLR model\n",
    "MLR, param = get_model_MLR(seed = seed)\n",
    "cv_MLR = evaluate_model(MLR, \n",
    "                        param, \n",
    "                        X_train_reduce, \n",
    "                        y_train, \n",
    "                        X_test_reduce, \n",
    "                        y_test, \n",
    "                        verbosity = verbose)\n",
    "\n",
    "# Save best model\n",
    "path = 'Models/trained_model/'+str(classifier)+'_MLR.pkl'\n",
    "save_model(path, cv_MLR)"
   ]
  },
  {
   "cell_type": "code",
   "execution_count": null,
   "metadata": {},
   "outputs": [],
   "source": [
    "X_train_reduce.shape"
   ]
  },
  {
   "cell_type": "code",
   "execution_count": null,
   "metadata": {},
   "outputs": [],
   "source": [
    "# SVM model\n",
    "verbose = 2\n",
    "SVM, param = get_model_SVM(seed = seed)\n",
    "cv_SVM = evaluate_model(SVM, \n",
    "                        param, \n",
    "                        X_train_reduce, \n",
    "                        y_train, X_test_reduce, \n",
    "                        y_test, \n",
    "                        verbosity = verbose)\n",
    "\n",
    "# Save best model\n",
    "path = 'Models/trained_model/'+str(classifier)+'_SVM.pkl'\n",
    "save_model(path, cv_SVM)"
   ]
  },
  {
   "cell_type": "code",
   "execution_count": null,
   "metadata": {},
   "outputs": [],
   "source": [
    "# SVM model\n",
    "verbose = 2\n",
    "SVM, param = get_model_SVM(poly = True, seed = seed)\n",
    "cv_SVM_poly = evaluate_model(SVM, \n",
    "                        param, \n",
    "                        X_train_reduce, \n",
    "                        y_train, X_test_reduce, \n",
    "                        y_test, \n",
    "                        verbosity = verbose)\n",
    "\n",
    "# Save best model\n",
    "path = 'Models/trained_model/'+str(classifier)+'_SVM_poly.pkl'\n",
    "save_model(path, cv_SVM_poly)"
   ]
  },
  {
   "cell_type": "code",
   "execution_count": null,
   "metadata": {},
   "outputs": [],
   "source": [
    "# RF model\n",
    "verbose = 2\n",
    "RF, param = get_model_RF(seed = seed)\n",
    "cv_RF = evaluate_model(RF, \n",
    "                        param, \n",
    "                        X_train_reduce, \n",
    "                        y_train, X_test_reduce, \n",
    "                        y_test, \n",
    "                        verbosity = verbose)\n",
    "\n",
    "# Save best model\n",
    "path = 'Models/trained_model/'+str(classifier)+'_RF.pkl'\n",
    "save_model(path, cv_RF)"
   ]
  },
  {
   "cell_type": "code",
   "execution_count": null,
   "metadata": {},
   "outputs": [],
   "source": [
    "# MLP model\n",
    "verbose = 2\n",
    "MLP, param = get_model_MLP(seed = seed)\n",
    "cv_MLP = evaluate_model(MLP, \n",
    "                        param, \n",
    "                        X_train_reduce, \n",
    "                        y_train, X_test_reduce, \n",
    "                        y_test, \n",
    "                        verbosity = verbose)\n",
    "\n",
    "# Save best model\n",
    "path = 'Models/trained_model/'+str(classifier)+'_MLP.pkl'\n",
    "save_model(path, cv_MLP)"
   ]
  },
  {
   "cell_type": "code",
   "execution_count": null,
   "metadata": {},
   "outputs": [],
   "source": []
  }
 ],
 "metadata": {
  "kernelspec": {
   "display_name": "Python 3",
   "language": "python",
   "name": "python3"
  },
  "language_info": {
   "codemirror_mode": {
    "name": "ipython",
    "version": 3
   },
   "file_extension": ".py",
   "mimetype": "text/x-python",
   "name": "python",
   "nbconvert_exporter": "python",
   "pygments_lexer": "ipython3",
   "version": "3.8.12"
  },
  "pycharm": {
   "stem_cell": {
    "cell_type": "raw",
    "metadata": {
     "collapsed": false
    },
    "source": []
   }
  }
 },
 "nbformat": 4,
 "nbformat_minor": 1
}
