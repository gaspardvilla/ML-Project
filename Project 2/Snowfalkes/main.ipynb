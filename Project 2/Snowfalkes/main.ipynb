{
 "cells": [
  {
   "cell_type": "code",
   "execution_count": 1,
   "metadata": {},
   "outputs": [],
   "source": [
    "# Import other libraries\n",
    "from IPython.display import display\n",
    "import numpy as np\n",
    "import pandas as pd\n",
    "import pyarrow\n",
    "import os\n",
    "\n",
    "# Import sklearn tools\n",
    "from sklearn.model_selection import *\n",
    "from sklearn.metrics import *\n",
    "from sklearn import *\n",
    "from sklearn.pipeline import *\n",
    "from sklearn.preprocessing import *\n",
    "from sklearn.ensemble import *\n",
    "from sklearn.svm import *\n",
    "from sklearn.preprocessing import * \n",
    "\n",
    "# Import files\n",
    "from helpers import *\n",
    "from cross_validation import *\n",
    "from models import *\n",
    "from dataloader import *\n",
    "from dataprocess import *\n",
    "from plot import *\n",
    "\n",
    "# Autoreload\n",
    "%load_ext autoreload\n",
    "%autoreload 2"
   ]
  },
  {
   "cell_type": "code",
   "execution_count": 2,
   "metadata": {},
   "outputs": [],
   "source": [
    "classifier = 'hydro'\n",
    "data_set, classes = load_data_sets(classifier = classifier)"
   ]
  },
  {
   "cell_type": "code",
   "execution_count": 3,
   "metadata": {},
   "outputs": [],
   "source": [
    "X, y = processing(data_set, classes, classifier)"
   ]
  },
  {
   "cell_type": "code",
   "execution_count": 4,
   "metadata": {},
   "outputs": [
    {
     "data": {
      "text/plain": [
       "(1896, 68)"
      ]
     },
     "metadata": {},
     "output_type": "display_data"
    }
   ],
   "source": [
    "display(X.shape)"
   ]
  },
  {
   "cell_type": "code",
   "execution_count": 5,
   "metadata": {},
   "outputs": [],
   "source": [
    "# Get a train and test set for modelization\n",
    "k_fold = 5\n",
    "seed = 0\n",
    "X_train, y_train, X_test, y_test = split_data(X, y, kfold = k_fold, seed = seed)"
   ]
  },
  {
   "cell_type": "code",
   "execution_count": 6,
   "metadata": {},
   "outputs": [
    {
     "name": "stdout",
     "output_type": "stream",
     "text": [
      "MESSAGE : param is the number of folds for cross validation (should be an int)\n"
     ]
    },
    {
     "name": "stderr",
     "output_type": "stream",
     "text": [
      "/Users/gaspardvilla/opt/anaconda3/lib/python3.8/site-packages/sklearn/linear_model/_coordinate_descent.py:633: ConvergenceWarning: Objective did not converge. You might want to increase the number of iterations. Duality gap: 0.22538668916934057, tolerance: 0.20884521452145202\n",
      "  model = cd_fast.enet_coordinate_descent_gram(\n",
      "/Users/gaspardvilla/opt/anaconda3/lib/python3.8/site-packages/sklearn/linear_model/_coordinate_descent.py:633: ConvergenceWarning: Objective did not converge. You might want to increase the number of iterations. Duality gap: 0.3108506912631128, tolerance: 0.20884521452145202\n",
      "  model = cd_fast.enet_coordinate_descent_gram(\n",
      "/Users/gaspardvilla/opt/anaconda3/lib/python3.8/site-packages/sklearn/linear_model/_coordinate_descent.py:633: ConvergenceWarning: Objective did not converge. You might want to increase the number of iterations. Duality gap: 0.49019428726444403, tolerance: 0.20884521452145202\n",
      "  model = cd_fast.enet_coordinate_descent_gram(\n",
      "/Users/gaspardvilla/opt/anaconda3/lib/python3.8/site-packages/sklearn/linear_model/_coordinate_descent.py:633: ConvergenceWarning: Objective did not converge. You might want to increase the number of iterations. Duality gap: 0.5636117427147838, tolerance: 0.20884521452145202\n",
      "  model = cd_fast.enet_coordinate_descent_gram(\n",
      "/Users/gaspardvilla/opt/anaconda3/lib/python3.8/site-packages/sklearn/linear_model/_coordinate_descent.py:633: ConvergenceWarning: Objective did not converge. You might want to increase the number of iterations. Duality gap: 0.5283885182359427, tolerance: 0.20884521452145202\n",
      "  model = cd_fast.enet_coordinate_descent_gram(\n",
      "/Users/gaspardvilla/opt/anaconda3/lib/python3.8/site-packages/sklearn/linear_model/_coordinate_descent.py:633: ConvergenceWarning: Objective did not converge. You might want to increase the number of iterations. Duality gap: 0.6018208115841617, tolerance: 0.20884521452145202\n",
      "  model = cd_fast.enet_coordinate_descent_gram(\n",
      "/Users/gaspardvilla/opt/anaconda3/lib/python3.8/site-packages/sklearn/linear_model/_coordinate_descent.py:633: ConvergenceWarning: Objective did not converge. You might want to increase the number of iterations. Duality gap: 0.8585253745826549, tolerance: 0.20884521452145202\n",
      "  model = cd_fast.enet_coordinate_descent_gram(\n",
      "/Users/gaspardvilla/opt/anaconda3/lib/python3.8/site-packages/sklearn/linear_model/_coordinate_descent.py:633: ConvergenceWarning: Objective did not converge. You might want to increase the number of iterations. Duality gap: 1.8258192010566745, tolerance: 0.20884521452145202\n",
      "  model = cd_fast.enet_coordinate_descent_gram(\n",
      "/Users/gaspardvilla/opt/anaconda3/lib/python3.8/site-packages/sklearn/linear_model/_coordinate_descent.py:633: ConvergenceWarning: Objective did not converge. You might want to increase the number of iterations. Duality gap: 2.018415265588601, tolerance: 0.20884521452145202\n",
      "  model = cd_fast.enet_coordinate_descent_gram(\n",
      "/Users/gaspardvilla/opt/anaconda3/lib/python3.8/site-packages/sklearn/linear_model/_coordinate_descent.py:633: ConvergenceWarning: Objective did not converge. You might want to increase the number of iterations. Duality gap: 1.966739480096237, tolerance: 0.20884521452145202\n",
      "  model = cd_fast.enet_coordinate_descent_gram(\n",
      "/Users/gaspardvilla/opt/anaconda3/lib/python3.8/site-packages/sklearn/linear_model/_coordinate_descent.py:633: ConvergenceWarning: Objective did not converge. You might want to increase the number of iterations. Duality gap: 2.2247786079981324, tolerance: 0.20884521452145202\n",
      "  model = cd_fast.enet_coordinate_descent_gram(\n",
      "/Users/gaspardvilla/opt/anaconda3/lib/python3.8/site-packages/sklearn/linear_model/_coordinate_descent.py:633: ConvergenceWarning: Objective did not converge. You might want to increase the number of iterations. Duality gap: 3.1539535597101462, tolerance: 0.20884521452145202\n",
      "  model = cd_fast.enet_coordinate_descent_gram(\n",
      "/Users/gaspardvilla/opt/anaconda3/lib/python3.8/site-packages/sklearn/linear_model/_coordinate_descent.py:633: ConvergenceWarning: Objective did not converge. You might want to increase the number of iterations. Duality gap: 4.076733695968301, tolerance: 0.20884521452145202\n",
      "  model = cd_fast.enet_coordinate_descent_gram(\n",
      "/Users/gaspardvilla/opt/anaconda3/lib/python3.8/site-packages/sklearn/linear_model/_coordinate_descent.py:633: ConvergenceWarning: Objective did not converge. You might want to increase the number of iterations. Duality gap: 2.412874404412264, tolerance: 0.20884521452145202\n",
      "  model = cd_fast.enet_coordinate_descent_gram(\n",
      "/Users/gaspardvilla/opt/anaconda3/lib/python3.8/site-packages/sklearn/linear_model/_coordinate_descent.py:633: ConvergenceWarning: Objective did not converge. You might want to increase the number of iterations. Duality gap: 0.30787085930660396, tolerance: 0.2222859027205277\n",
      "  model = cd_fast.enet_coordinate_descent_gram(\n",
      "/Users/gaspardvilla/opt/anaconda3/lib/python3.8/site-packages/sklearn/linear_model/_coordinate_descent.py:633: ConvergenceWarning: Objective did not converge. You might want to increase the number of iterations. Duality gap: 0.488644302119269, tolerance: 0.2222859027205277\n",
      "  model = cd_fast.enet_coordinate_descent_gram(\n",
      "/Users/gaspardvilla/opt/anaconda3/lib/python3.8/site-packages/sklearn/linear_model/_coordinate_descent.py:633: ConvergenceWarning: Objective did not converge. You might want to increase the number of iterations. Duality gap: 0.5140266224366883, tolerance: 0.2222859027205277\n",
      "  model = cd_fast.enet_coordinate_descent_gram(\n",
      "/Users/gaspardvilla/opt/anaconda3/lib/python3.8/site-packages/sklearn/linear_model/_coordinate_descent.py:633: ConvergenceWarning: Objective did not converge. You might want to increase the number of iterations. Duality gap: 0.2876921140115769, tolerance: 0.2222859027205277\n",
      "  model = cd_fast.enet_coordinate_descent_gram(\n",
      "/Users/gaspardvilla/opt/anaconda3/lib/python3.8/site-packages/sklearn/linear_model/_coordinate_descent.py:633: ConvergenceWarning: Objective did not converge. You might want to increase the number of iterations. Duality gap: 0.2984251883649449, tolerance: 0.2222859027205277\n",
      "  model = cd_fast.enet_coordinate_descent_gram(\n",
      "/Users/gaspardvilla/opt/anaconda3/lib/python3.8/site-packages/sklearn/linear_model/_coordinate_descent.py:633: ConvergenceWarning: Objective did not converge. You might want to increase the number of iterations. Duality gap: 0.27684391656623575, tolerance: 0.2222859027205277\n",
      "  model = cd_fast.enet_coordinate_descent_gram(\n",
      "/Users/gaspardvilla/opt/anaconda3/lib/python3.8/site-packages/sklearn/linear_model/_coordinate_descent.py:633: ConvergenceWarning: Objective did not converge. You might want to increase the number of iterations. Duality gap: 0.2882269130242321, tolerance: 0.2222859027205277\n",
      "  model = cd_fast.enet_coordinate_descent_gram(\n",
      "/Users/gaspardvilla/opt/anaconda3/lib/python3.8/site-packages/sklearn/linear_model/_coordinate_descent.py:633: ConvergenceWarning: Objective did not converge. You might want to increase the number of iterations. Duality gap: 0.6024095835250591, tolerance: 0.2222859027205277\n",
      "  model = cd_fast.enet_coordinate_descent_gram(\n",
      "/Users/gaspardvilla/opt/anaconda3/lib/python3.8/site-packages/sklearn/linear_model/_coordinate_descent.py:633: ConvergenceWarning: Objective did not converge. You might want to increase the number of iterations. Duality gap: 0.8031276638785698, tolerance: 0.2222859027205277\n",
      "  model = cd_fast.enet_coordinate_descent_gram(\n",
      "/Users/gaspardvilla/opt/anaconda3/lib/python3.8/site-packages/sklearn/linear_model/_coordinate_descent.py:633: ConvergenceWarning: Objective did not converge. You might want to increase the number of iterations. Duality gap: 0.819889673407431, tolerance: 0.2222859027205277\n",
      "  model = cd_fast.enet_coordinate_descent_gram(\n",
      "/Users/gaspardvilla/opt/anaconda3/lib/python3.8/site-packages/sklearn/linear_model/_coordinate_descent.py:633: ConvergenceWarning: Objective did not converge. You might want to increase the number of iterations. Duality gap: 0.5695881046315208, tolerance: 0.2222859027205277\n",
      "  model = cd_fast.enet_coordinate_descent_gram(\n",
      "/Users/gaspardvilla/opt/anaconda3/lib/python3.8/site-packages/sklearn/linear_model/_coordinate_descent.py:633: ConvergenceWarning: Objective did not converge. You might want to increase the number of iterations. Duality gap: 0.22642489564475454, tolerance: 0.18131690024732053\n",
      "  model = cd_fast.enet_coordinate_descent_gram(\n",
      "/Users/gaspardvilla/opt/anaconda3/lib/python3.8/site-packages/sklearn/linear_model/_coordinate_descent.py:633: ConvergenceWarning: Objective did not converge. You might want to increase the number of iterations. Duality gap: 0.30501057295879264, tolerance: 0.18131690024732053\n",
      "  model = cd_fast.enet_coordinate_descent_gram(\n",
      "/Users/gaspardvilla/opt/anaconda3/lib/python3.8/site-packages/sklearn/linear_model/_coordinate_descent.py:633: ConvergenceWarning: Objective did not converge. You might want to increase the number of iterations. Duality gap: 1.0422010993525532, tolerance: 0.18131690024732053\n",
      "  model = cd_fast.enet_coordinate_descent_gram(\n",
      "/Users/gaspardvilla/opt/anaconda3/lib/python3.8/site-packages/sklearn/linear_model/_coordinate_descent.py:633: ConvergenceWarning: Objective did not converge. You might want to increase the number of iterations. Duality gap: 2.068367422273923, tolerance: 0.18131690024732053\n",
      "  model = cd_fast.enet_coordinate_descent_gram(\n",
      "/Users/gaspardvilla/opt/anaconda3/lib/python3.8/site-packages/sklearn/linear_model/_coordinate_descent.py:633: ConvergenceWarning: Objective did not converge. You might want to increase the number of iterations. Duality gap: 2.243652262988462, tolerance: 0.18131690024732053\n",
      "  model = cd_fast.enet_coordinate_descent_gram(\n",
      "/Users/gaspardvilla/opt/anaconda3/lib/python3.8/site-packages/sklearn/linear_model/_coordinate_descent.py:633: ConvergenceWarning: Objective did not converge. You might want to increase the number of iterations. Duality gap: 2.065096463210068, tolerance: 0.18131690024732053\n",
      "  model = cd_fast.enet_coordinate_descent_gram(\n",
      "/Users/gaspardvilla/opt/anaconda3/lib/python3.8/site-packages/sklearn/linear_model/_coordinate_descent.py:633: ConvergenceWarning: Objective did not converge. You might want to increase the number of iterations. Duality gap: 0.22677760357657917, tolerance: 0.21363610882110498\n",
      "  model = cd_fast.enet_coordinate_descent_gram(\n",
      "/Users/gaspardvilla/opt/anaconda3/lib/python3.8/site-packages/sklearn/linear_model/_coordinate_descent.py:633: ConvergenceWarning: Objective did not converge. You might want to increase the number of iterations. Duality gap: 0.22207258891194215, tolerance: 0.21363610882110498\n",
      "  model = cd_fast.enet_coordinate_descent_gram(\n",
      "/Users/gaspardvilla/opt/anaconda3/lib/python3.8/site-packages/sklearn/linear_model/_coordinate_descent.py:633: ConvergenceWarning: Objective did not converge. You might want to increase the number of iterations. Duality gap: 0.2243664247897641, tolerance: 0.21363610882110498\n",
      "  model = cd_fast.enet_coordinate_descent_gram(\n",
      "/Users/gaspardvilla/opt/anaconda3/lib/python3.8/site-packages/sklearn/linear_model/_coordinate_descent.py:633: ConvergenceWarning: Objective did not converge. You might want to increase the number of iterations. Duality gap: 0.2327504989440854, tolerance: 0.21363610882110498\n",
      "  model = cd_fast.enet_coordinate_descent_gram(\n",
      "/Users/gaspardvilla/opt/anaconda3/lib/python3.8/site-packages/sklearn/linear_model/_coordinate_descent.py:633: ConvergenceWarning: Objective did not converge. You might want to increase the number of iterations. Duality gap: 0.22646682272886665, tolerance: 0.21363610882110498\n",
      "  model = cd_fast.enet_coordinate_descent_gram(\n",
      "/Users/gaspardvilla/opt/anaconda3/lib/python3.8/site-packages/sklearn/linear_model/_coordinate_descent.py:633: ConvergenceWarning: Objective did not converge. You might want to increase the number of iterations. Duality gap: 0.22054845232236175, tolerance: 0.21363610882110498\n",
      "  model = cd_fast.enet_coordinate_descent_gram(\n",
      "/Users/gaspardvilla/opt/anaconda3/lib/python3.8/site-packages/sklearn/linear_model/_coordinate_descent.py:633: ConvergenceWarning: Objective did not converge. You might want to increase the number of iterations. Duality gap: 0.25355927913767573, tolerance: 0.21363610882110498\n",
      "  model = cd_fast.enet_coordinate_descent_gram(\n",
      "/Users/gaspardvilla/opt/anaconda3/lib/python3.8/site-packages/sklearn/linear_model/_coordinate_descent.py:633: ConvergenceWarning: Objective did not converge. You might want to increase the number of iterations. Duality gap: 0.26284392765637676, tolerance: 0.21363610882110498\n",
      "  model = cd_fast.enet_coordinate_descent_gram(\n",
      "/Users/gaspardvilla/opt/anaconda3/lib/python3.8/site-packages/sklearn/linear_model/_coordinate_descent.py:633: ConvergenceWarning: Objective did not converge. You might want to increase the number of iterations. Duality gap: 0.24261264846808217, tolerance: 0.21363610882110498\n",
      "  model = cd_fast.enet_coordinate_descent_gram(\n",
      "/Users/gaspardvilla/opt/anaconda3/lib/python3.8/site-packages/sklearn/linear_model/_coordinate_descent.py:633: ConvergenceWarning: Objective did not converge. You might want to increase the number of iterations. Duality gap: 0.23418168920682092, tolerance: 0.21363610882110498\n",
      "  model = cd_fast.enet_coordinate_descent_gram(\n",
      "/Users/gaspardvilla/opt/anaconda3/lib/python3.8/site-packages/sklearn/linear_model/_coordinate_descent.py:633: ConvergenceWarning: Objective did not converge. You might want to increase the number of iterations. Duality gap: 0.2244045752522652, tolerance: 0.21363610882110498\n",
      "  model = cd_fast.enet_coordinate_descent_gram(\n",
      "/Users/gaspardvilla/opt/anaconda3/lib/python3.8/site-packages/sklearn/linear_model/_coordinate_descent.py:633: ConvergenceWarning: Objective did not converge. You might want to increase the number of iterations. Duality gap: 0.21473868080943248, tolerance: 0.21363610882110498\n",
      "  model = cd_fast.enet_coordinate_descent_gram(\n",
      "/Users/gaspardvilla/opt/anaconda3/lib/python3.8/site-packages/sklearn/linear_model/_coordinate_descent.py:633: ConvergenceWarning: Objective did not converge. You might want to increase the number of iterations. Duality gap: 0.3732906190110725, tolerance: 0.21363610882110498\n",
      "  model = cd_fast.enet_coordinate_descent_gram(\n",
      "/Users/gaspardvilla/opt/anaconda3/lib/python3.8/site-packages/sklearn/linear_model/_coordinate_descent.py:633: ConvergenceWarning: Objective did not converge. You might want to increase the number of iterations. Duality gap: 0.23554769938800746, tolerance: 0.18409200329760947\n",
      "  model = cd_fast.enet_coordinate_descent_gram(\n",
      "/Users/gaspardvilla/opt/anaconda3/lib/python3.8/site-packages/sklearn/linear_model/_coordinate_descent.py:633: ConvergenceWarning: Objective did not converge. You might want to increase the number of iterations. Duality gap: 0.5005100296264118, tolerance: 0.18409200329760947\n",
      "  model = cd_fast.enet_coordinate_descent_gram(\n",
      "/Users/gaspardvilla/opt/anaconda3/lib/python3.8/site-packages/sklearn/linear_model/_coordinate_descent.py:633: ConvergenceWarning: Objective did not converge. You might want to increase the number of iterations. Duality gap: 1.0736098515441768, tolerance: 0.18409200329760947\n",
      "  model = cd_fast.enet_coordinate_descent_gram(\n",
      "/Users/gaspardvilla/opt/anaconda3/lib/python3.8/site-packages/sklearn/linear_model/_coordinate_descent.py:633: ConvergenceWarning: Objective did not converge. You might want to increase the number of iterations. Duality gap: 1.1593474727729358, tolerance: 0.18409200329760947\n",
      "  model = cd_fast.enet_coordinate_descent_gram(\n",
      "/Users/gaspardvilla/opt/anaconda3/lib/python3.8/site-packages/sklearn/linear_model/_coordinate_descent.py:633: ConvergenceWarning: Objective did not converge. You might want to increase the number of iterations. Duality gap: 0.9364666484655118, tolerance: 0.18409200329760947\n",
      "  model = cd_fast.enet_coordinate_descent_gram(\n",
      "/Users/gaspardvilla/opt/anaconda3/lib/python3.8/site-packages/sklearn/linear_model/_coordinate_descent.py:633: ConvergenceWarning: Objective did not converge. You might want to increase the number of iterations. Duality gap: 1.2637023367960865, tolerance: 0.18409200329760947\n",
      "  model = cd_fast.enet_coordinate_descent_gram(\n",
      "/Users/gaspardvilla/opt/anaconda3/lib/python3.8/site-packages/sklearn/linear_model/_coordinate_descent.py:633: ConvergenceWarning: Objective did not converge. You might want to increase the number of iterations. Duality gap: 1.9933633095639607, tolerance: 0.18409200329760947\n",
      "  model = cd_fast.enet_coordinate_descent_gram(\n",
      "/Users/gaspardvilla/opt/anaconda3/lib/python3.8/site-packages/sklearn/linear_model/_coordinate_descent.py:633: ConvergenceWarning: Objective did not converge. You might want to increase the number of iterations. Duality gap: 2.0024531468487794, tolerance: 0.18409200329760947\n",
      "  model = cd_fast.enet_coordinate_descent_gram(\n",
      "/Users/gaspardvilla/opt/anaconda3/lib/python3.8/site-packages/sklearn/linear_model/_coordinate_descent.py:633: ConvergenceWarning: Objective did not converge. You might want to increase the number of iterations. Duality gap: 1.632809246900024, tolerance: 0.18409200329760947\n",
      "  model = cd_fast.enet_coordinate_descent_gram(\n",
      "/Users/gaspardvilla/opt/anaconda3/lib/python3.8/site-packages/sklearn/linear_model/_coordinate_descent.py:633: ConvergenceWarning: Objective did not converge. You might want to increase the number of iterations. Duality gap: 0.8940437415604379, tolerance: 0.18409200329760947\n",
      "  model = cd_fast.enet_coordinate_descent_gram(\n",
      "/Users/gaspardvilla/opt/anaconda3/lib/python3.8/site-packages/sklearn/linear_model/_coordinate_descent.py:633: ConvergenceWarning: Objective did not converge. You might want to increase the number of iterations. Duality gap: 0.45482664766916514, tolerance: 0.18409200329760947\n",
      "  model = cd_fast.enet_coordinate_descent_gram(\n",
      "/Users/gaspardvilla/opt/anaconda3/lib/python3.8/site-packages/sklearn/linear_model/_coordinate_descent.py:633: ConvergenceWarning: Objective did not converge. You might want to increase the number of iterations. Duality gap: 0.8290953551744451, tolerance: 0.18409200329760947\n",
      "  model = cd_fast.enet_coordinate_descent_gram(\n",
      "/Users/gaspardvilla/opt/anaconda3/lib/python3.8/site-packages/sklearn/linear_model/_coordinate_descent.py:633: ConvergenceWarning: Objective did not converge. You might want to increase the number of iterations. Duality gap: 0.8506998964986678, tolerance: 0.18409200329760947\n",
      "  model = cd_fast.enet_coordinate_descent_gram(\n",
      "/Users/gaspardvilla/opt/anaconda3/lib/python3.8/site-packages/sklearn/linear_model/_coordinate_descent.py:633: ConvergenceWarning: Objective did not converge. You might want to increase the number of iterations. Duality gap: 1.039948213920752, tolerance: 0.18409200329760947\n",
      "  model = cd_fast.enet_coordinate_descent_gram(\n",
      "/Users/gaspardvilla/opt/anaconda3/lib/python3.8/site-packages/sklearn/linear_model/_coordinate_descent.py:647: ConvergenceWarning: Objective did not converge. You might want to increase the number of iterations, check the scale of the features or consider increasing regularisation. Duality gap: 5.700e+01, tolerance: 2.551e-01\n",
      "  model = cd_fast.enet_coordinate_descent(\n"
     ]
    }
   ],
   "source": [
    "# Feature selection\n",
    "method = 'lassoCV'\n",
    "model_feat_selec = get_model_features_selection(X_train, y_train, method, k_fold, seed = seed)"
   ]
  },
  {
   "cell_type": "code",
   "execution_count": 7,
   "metadata": {},
   "outputs": [],
   "source": [
    "# Select the good features\n",
    "X_train_reduce = feature_transform(model_feat_selec, X_train, method)\n",
    "X_test_reduce = feature_transform(model_feat_selec, X_test, method)"
   ]
  },
  {
   "cell_type": "code",
   "execution_count": 8,
   "metadata": {},
   "outputs": [],
   "source": [
    "# Oversampling\n",
    "X_train_reduce, y_train = smote_data_augmentation(X_train_reduce, y_train, seed = seed)"
   ]
  },
  {
   "cell_type": "code",
   "execution_count": 9,
   "metadata": {},
   "outputs": [],
   "source": [
    "verbose = 2"
   ]
  },
  {
   "cell_type": "code",
   "execution_count": null,
   "metadata": {},
   "outputs": [],
   "source": [
    "# MLR model\n",
    "MLR, param = get_model_MLR(seed = seed)\n",
    "cv_MLR = evaluate_model(MLR, \n",
    "                        param, \n",
    "                        X_train_reduce, \n",
    "                        y_train, \n",
    "                        X_test_reduce, \n",
    "                        y_test, \n",
    "                        verbosity = verbose)\n",
    "\n",
    "# Save best model\n",
    "path = 'Models/trained_model/'+str(classifier)+'_MLR.pkl'\n",
    "save_model(path, cv_MLR)"
   ]
  },
  {
   "cell_type": "code",
   "execution_count": null,
   "metadata": {},
   "outputs": [],
   "source": [
    "X_train_reduce.shape"
   ]
  },
  {
   "cell_type": "code",
   "execution_count": null,
   "metadata": {},
   "outputs": [],
   "source": [
    "# SVM model\n",
    "SVM, param = get_model_SVM(seed = seed)\n",
    "cv_SVM = evaluate_model(SVM, \n",
    "                        param, \n",
    "                        X_train_reduce, \n",
    "                        y_train, X_test_reduce, \n",
    "                        y_test, \n",
    "                        verbosity = verbose)\n",
    "\n",
    "# Save best model\n",
    "path = 'Models/trained_model/'+str(classifier)+'_SVM.pkl'\n",
    "save_model(path, cv_SVM)"
   ]
  },
  {
   "cell_type": "code",
   "execution_count": null,
   "metadata": {},
   "outputs": [],
   "source": [
    "# SVM poly model\n",
    "SVM, param = get_model_SVM(poly = True, seed = seed)\n",
    "cv_SVM_poly = evaluate_model(SVM, \n",
    "                        param, \n",
    "                        X_train_reduce, \n",
    "                        y_train, X_test_reduce, \n",
    "                        y_test, \n",
    "                        verbosity = verbose)\n",
    "\n",
    "# Save best model\n",
    "path = 'Models/trained_model/'+str(classifier)+'_SVM_poly.pkl'\n",
    "save_model(path, cv_SVM_poly)"
   ]
  },
  {
   "cell_type": "code",
   "execution_count": null,
   "metadata": {},
   "outputs": [],
   "source": [
    "# RF model\n",
    "RF, param = get_model_RF(seed = seed)\n",
    "cv_RF = evaluate_model(RF, \n",
    "                        param, \n",
    "                        X_train_reduce, \n",
    "                        y_train, X_test_reduce, \n",
    "                        y_test, \n",
    "                        verbosity = verbose)\n",
    "\n",
    "# Save best model\n",
    "path = 'Models/trained_model/'+str(classifier)+'_RF.pkl'\n",
    "save_model(path, cv_RF)"
   ]
  },
  {
   "cell_type": "code",
   "execution_count": null,
   "metadata": {},
   "outputs": [],
   "source": [
    "# MLP model\n",
    "MLP, param = get_model_MLP(seed = seed)\n",
    "cv_MLP = evaluate_model(MLP, \n",
    "                        param, \n",
    "                        X_train_reduce, \n",
    "                        y_train, X_test_reduce, \n",
    "                        y_test, \n",
    "                        verbosity = verbose)\n",
    "\n",
    "# Save best model\n",
    "path = 'Models/trained_model/'+str(classifier)+'_MLP.pkl'\n",
    "save_model(path, cv_MLP)"
   ]
  },
  {
   "cell_type": "markdown",
   "metadata": {},
   "source": [
    "# RUN\n",
    "\n",
    "***"
   ]
  },
  {
   "cell_type": "code",
   "execution_count": null,
   "metadata": {},
   "outputs": [],
   "source": [
    "train, test = all_models_train_and_test()"
   ]
  },
  {
   "cell_type": "markdown",
   "metadata": {},
   "source": [
    "# Features importance graph\n",
    " \n",
    "***"
   ]
  },
  {
   "cell_type": "code",
   "execution_count": 20,
   "metadata": {},
   "outputs": [
    {
     "name": "stderr",
     "output_type": "stream",
     "text": [
      "/Users/gaspardvilla/opt/anaconda3/lib/python3.8/site-packages/sklearn/utils/deprecation.py:103: FutureWarning: Attribute `coef_` was deprecated in version 0.24 and will be removed in 1.1 (renaming of 0.26). If you observe this warning while using RFE or SelectFromModel, use the importance_getter parameter instead.\n",
      "  warnings.warn(msg, category=FutureWarning)\n",
      "/Users/gaspardvilla/Documents/EPFL/5ème année/Semestre IX/Machine Learning/ML-Project/Project 2/Snowfalkes/plot_MA.py:71: SettingWithCopyWarning: \n",
      "A value is trying to be set on a copy of a slice from a DataFrame\n",
      "\n",
      "See the caveats in the documentation: https://pandas.pydata.org/pandas-docs/stable/user_guide/indexing.html#returning-a-view-versus-a-copy\n",
      "  importance['color'][geometry_list] = geom_color\n",
      "/Users/gaspardvilla/opt/anaconda3/lib/python3.8/site-packages/pandas/core/indexing.py:1732: SettingWithCopyWarning: \n",
      "A value is trying to be set on a copy of a slice from a DataFrame\n",
      "\n",
      "See the caveats in the documentation: https://pandas.pydata.org/pandas-docs/stable/user_guide/indexing.html#returning-a-view-versus-a-copy\n",
      "  self._setitem_single_block(indexer, value, name)\n",
      "/Users/gaspardvilla/Documents/EPFL/5ème année/Semestre IX/Machine Learning/ML-Project/Project 2/Snowfalkes/plot_MA.py:72: SettingWithCopyWarning: \n",
      "A value is trying to be set on a copy of a slice from a DataFrame\n",
      "\n",
      "See the caveats in the documentation: https://pandas.pydata.org/pandas-docs/stable/user_guide/indexing.html#returning-a-view-versus-a-copy\n",
      "  importance['color'][texture_list] = text_color\n"
     ]
    },
    {
     "data": {
      "image/png": "[encoded data removed]",
      "text/plain": [
       "<Figure size 576x396 with 1 Axes>"
      ]
     },
     "metadata": {},
     "output_type": "display_data"
    },
    {
     "name": "stdout",
     "output_type": "stream",
     "text": [
      "Feature ID\n",
      "                      FeatureID\n",
      "local_intens                  0\n",
      "intensity_mean                1\n",
      "ell_in_B                      2\n",
      "sym_mean                      3\n",
      "quality_xhi                   4\n",
      "skel_perim_ratio              5\n",
      "convexity                     6\n",
      "sym_Pmax_id                   7\n",
      "sym_P2                        8\n",
      "sym_std_mean_ratio            9\n",
      "skel_area_ratio              10\n",
      "hist_entropy                 11\n",
      "area_porous                  12\n",
      "frac_dim_theoretical         13\n",
      "area                         15\n"
     ]
    }
   ],
   "source": [
    "model = best_model(classifier+'_MLR')\n",
    "model.fit(X_train_reduce, y_train)\n",
    "title = 'Feature importance on hydrometeor classification with method \\n MLR depending if there are geometric or textural'\n",
    "plot_feature_importance(model, classifier+'_MLR.png', title)"
   ]
  },
  {
   "cell_type": "markdown",
   "metadata": {},
   "source": [
    "# Confrontation matrix\n",
    "\n",
    "***"
   ]
  },
  {
   "cell_type": "code",
   "execution_count": 10,
   "metadata": {},
   "outputs": [
    {
     "data": {
      "image/png": "[encoded data removed]",
      "text/plain": [
       "<Figure size 576x396 with 2 Axes>"
      ]
     },
     "metadata": {},
     "output_type": "display_data"
    }
   ],
   "source": [
    "model = best_model(classifier+'_MLR')\n",
    "model.fit(X_train_reduce, y_train)\n",
    "title = 'Confusion matrix on the test set for hydrometeor classification'\n",
    "plot_conf_matrix(classifier, model, X_test_reduce, y_test, classifier+'_MLR_conf.png', title)"
   ]
  },
  {
   "cell_type": "code",
   "execution_count": null,
   "metadata": {},
   "outputs": [],
   "source": []
  }
 ],
 "metadata": {
  "kernelspec": {
   "display_name": "Python 3",
   "language": "python",
   "name": "python3"
  },
  "language_info": {
   "codemirror_mode": {
    "name": "ipython",
    "version": 3
   },
   "file_extension": ".py",
   "mimetype": "text/x-python",
   "name": "python",
   "nbconvert_exporter": "python",
   "pygments_lexer": "ipython3",
   "version": "3.8.12"
  },
  "pycharm": {
   "stem_cell": {
    "cell_type": "raw",
    "metadata": {
     "collapsed": false
    },
    "source": []
   }
  }
 },
 "nbformat": 4,
 "nbformat_minor": 1
}
